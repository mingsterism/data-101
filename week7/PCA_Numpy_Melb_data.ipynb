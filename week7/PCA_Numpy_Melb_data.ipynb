{
 "cells": [
  {
   "cell_type": "code",
   "execution_count": 4,
   "metadata": {},
   "outputs": [],
   "source": [
    "# https://towardsdatascience.com/pca-with-numpy-58917c1d0391\n",
    "\n",
    "%matplotlib inline\n",
    "import pandas as pd\n",
    "import matplotlib.pyplot as plt\n",
    "import numpy as np\n",
    "import seaborn as sns\n",
    "pd.set_option('display.max_columns', None)\n"
   ]
  },
  {
   "cell_type": "code",
   "execution_count": 52,
   "metadata": {},
   "outputs": [
    {
     "data": {
      "text/plain": [
       "array(['Northern Metropolitan', 'Western Metropolitan',\n",
       "       'Southern Metropolitan', 'Eastern Metropolitan',\n",
       "       'South-Eastern Metropolitan', 'Northern Victoria',\n",
       "       'Eastern Victoria', 'Western Victoria'], dtype=object)"
      ]
     },
     "execution_count": 52,
     "metadata": {},
     "output_type": "execute_result"
    }
   ],
   "source": [
    "melb = pd.read_csv(\"./melb_data.csv\")\n",
    "\n",
    "melb.dropna(how='any', inplace=True)\n",
    "melb.head()\n",
    "melb.Regionname.unique()"
   ]
  },
  {
   "cell_type": "code",
   "execution_count": 35,
   "metadata": {},
   "outputs": [
    {
     "data": {
      "text/html": [
       "<div>\n",
       "<style scoped>\n",
       "    .dataframe tbody tr th:only-of-type {\n",
       "        vertical-align: middle;\n",
       "    }\n",
       "\n",
       "    .dataframe tbody tr th {\n",
       "        vertical-align: top;\n",
       "    }\n",
       "\n",
       "    .dataframe thead th {\n",
       "        text-align: right;\n",
       "    }\n",
       "</style>\n",
       "<table border=\"1\" class=\"dataframe\">\n",
       "  <thead>\n",
       "    <tr style=\"text-align: right;\">\n",
       "      <th></th>\n",
       "      <th>Rooms</th>\n",
       "      <th>Price</th>\n",
       "      <th>Distance</th>\n",
       "      <th>Postcode</th>\n",
       "      <th>Bedroom2</th>\n",
       "      <th>Bathroom</th>\n",
       "      <th>Car</th>\n",
       "      <th>Landsize</th>\n",
       "      <th>BuildingArea</th>\n",
       "      <th>YearBuilt</th>\n",
       "      <th>Lattitude</th>\n",
       "      <th>Longtitude</th>\n",
       "      <th>Propertycount</th>\n",
       "    </tr>\n",
       "  </thead>\n",
       "  <tbody>\n",
       "    <tr>\n",
       "      <th>count</th>\n",
       "      <td>6196.000000</td>\n",
       "      <td>6.196000e+03</td>\n",
       "      <td>6196.000000</td>\n",
       "      <td>6196.000000</td>\n",
       "      <td>6196.000000</td>\n",
       "      <td>6196.000000</td>\n",
       "      <td>6196.000000</td>\n",
       "      <td>6196.000000</td>\n",
       "      <td>6196.000000</td>\n",
       "      <td>6196.000000</td>\n",
       "      <td>6196.000000</td>\n",
       "      <td>6196.000000</td>\n",
       "      <td>6196.000000</td>\n",
       "    </tr>\n",
       "    <tr>\n",
       "      <th>mean</th>\n",
       "      <td>2.931407</td>\n",
       "      <td>1.068828e+06</td>\n",
       "      <td>9.751097</td>\n",
       "      <td>3101.947708</td>\n",
       "      <td>2.902034</td>\n",
       "      <td>1.576340</td>\n",
       "      <td>1.573596</td>\n",
       "      <td>471.006940</td>\n",
       "      <td>141.568645</td>\n",
       "      <td>1964.081988</td>\n",
       "      <td>-37.807904</td>\n",
       "      <td>144.990201</td>\n",
       "      <td>7435.489509</td>\n",
       "    </tr>\n",
       "    <tr>\n",
       "      <th>std</th>\n",
       "      <td>0.971079</td>\n",
       "      <td>6.751564e+05</td>\n",
       "      <td>5.612065</td>\n",
       "      <td>86.421604</td>\n",
       "      <td>0.970055</td>\n",
       "      <td>0.711362</td>\n",
       "      <td>0.929947</td>\n",
       "      <td>897.449881</td>\n",
       "      <td>90.834824</td>\n",
       "      <td>38.105673</td>\n",
       "      <td>0.075850</td>\n",
       "      <td>0.099165</td>\n",
       "      <td>4337.698917</td>\n",
       "    </tr>\n",
       "    <tr>\n",
       "      <th>min</th>\n",
       "      <td>1.000000</td>\n",
       "      <td>1.310000e+05</td>\n",
       "      <td>0.000000</td>\n",
       "      <td>3000.000000</td>\n",
       "      <td>0.000000</td>\n",
       "      <td>1.000000</td>\n",
       "      <td>0.000000</td>\n",
       "      <td>0.000000</td>\n",
       "      <td>0.000000</td>\n",
       "      <td>1196.000000</td>\n",
       "      <td>-38.164920</td>\n",
       "      <td>144.542370</td>\n",
       "      <td>389.000000</td>\n",
       "    </tr>\n",
       "    <tr>\n",
       "      <th>25%</th>\n",
       "      <td>2.000000</td>\n",
       "      <td>6.200000e+05</td>\n",
       "      <td>5.900000</td>\n",
       "      <td>3044.000000</td>\n",
       "      <td>2.000000</td>\n",
       "      <td>1.000000</td>\n",
       "      <td>1.000000</td>\n",
       "      <td>152.000000</td>\n",
       "      <td>91.000000</td>\n",
       "      <td>1940.000000</td>\n",
       "      <td>-37.855438</td>\n",
       "      <td>144.926198</td>\n",
       "      <td>4383.750000</td>\n",
       "    </tr>\n",
       "    <tr>\n",
       "      <th>50%</th>\n",
       "      <td>3.000000</td>\n",
       "      <td>8.800000e+05</td>\n",
       "      <td>9.000000</td>\n",
       "      <td>3081.000000</td>\n",
       "      <td>3.000000</td>\n",
       "      <td>1.000000</td>\n",
       "      <td>1.000000</td>\n",
       "      <td>373.000000</td>\n",
       "      <td>124.000000</td>\n",
       "      <td>1970.000000</td>\n",
       "      <td>-37.802250</td>\n",
       "      <td>144.995800</td>\n",
       "      <td>6567.000000</td>\n",
       "    </tr>\n",
       "    <tr>\n",
       "      <th>75%</th>\n",
       "      <td>4.000000</td>\n",
       "      <td>1.325000e+06</td>\n",
       "      <td>12.400000</td>\n",
       "      <td>3147.000000</td>\n",
       "      <td>3.000000</td>\n",
       "      <td>2.000000</td>\n",
       "      <td>2.000000</td>\n",
       "      <td>628.000000</td>\n",
       "      <td>170.000000</td>\n",
       "      <td>2000.000000</td>\n",
       "      <td>-37.758200</td>\n",
       "      <td>145.052700</td>\n",
       "      <td>10175.000000</td>\n",
       "    </tr>\n",
       "    <tr>\n",
       "      <th>max</th>\n",
       "      <td>8.000000</td>\n",
       "      <td>9.000000e+06</td>\n",
       "      <td>47.400000</td>\n",
       "      <td>3977.000000</td>\n",
       "      <td>9.000000</td>\n",
       "      <td>8.000000</td>\n",
       "      <td>10.000000</td>\n",
       "      <td>37000.000000</td>\n",
       "      <td>3112.000000</td>\n",
       "      <td>2018.000000</td>\n",
       "      <td>-37.457090</td>\n",
       "      <td>145.526350</td>\n",
       "      <td>21650.000000</td>\n",
       "    </tr>\n",
       "  </tbody>\n",
       "</table>\n",
       "</div>"
      ],
      "text/plain": [
       "             Rooms         Price     Distance     Postcode     Bedroom2  \\\n",
       "count  6196.000000  6.196000e+03  6196.000000  6196.000000  6196.000000   \n",
       "mean      2.931407  1.068828e+06     9.751097  3101.947708     2.902034   \n",
       "std       0.971079  6.751564e+05     5.612065    86.421604     0.970055   \n",
       "min       1.000000  1.310000e+05     0.000000  3000.000000     0.000000   \n",
       "25%       2.000000  6.200000e+05     5.900000  3044.000000     2.000000   \n",
       "50%       3.000000  8.800000e+05     9.000000  3081.000000     3.000000   \n",
       "75%       4.000000  1.325000e+06    12.400000  3147.000000     3.000000   \n",
       "max       8.000000  9.000000e+06    47.400000  3977.000000     9.000000   \n",
       "\n",
       "          Bathroom          Car      Landsize  BuildingArea    YearBuilt  \\\n",
       "count  6196.000000  6196.000000   6196.000000   6196.000000  6196.000000   \n",
       "mean      1.576340     1.573596    471.006940    141.568645  1964.081988   \n",
       "std       0.711362     0.929947    897.449881     90.834824    38.105673   \n",
       "min       1.000000     0.000000      0.000000      0.000000  1196.000000   \n",
       "25%       1.000000     1.000000    152.000000     91.000000  1940.000000   \n",
       "50%       1.000000     1.000000    373.000000    124.000000  1970.000000   \n",
       "75%       2.000000     2.000000    628.000000    170.000000  2000.000000   \n",
       "max       8.000000    10.000000  37000.000000   3112.000000  2018.000000   \n",
       "\n",
       "         Lattitude   Longtitude  Propertycount  \n",
       "count  6196.000000  6196.000000    6196.000000  \n",
       "mean    -37.807904   144.990201    7435.489509  \n",
       "std       0.075850     0.099165    4337.698917  \n",
       "min     -38.164920   144.542370     389.000000  \n",
       "25%     -37.855438   144.926198    4383.750000  \n",
       "50%     -37.802250   144.995800    6567.000000  \n",
       "75%     -37.758200   145.052700   10175.000000  \n",
       "max     -37.457090   145.526350   21650.000000  "
      ]
     },
     "execution_count": 35,
     "metadata": {},
     "output_type": "execute_result"
    }
   ],
   "source": [
    "melb.describe()"
   ]
  },
  {
   "cell_type": "code",
   "execution_count": 10,
   "metadata": {},
   "outputs": [],
   "source": [
    "# Convert all categorical data to numerics\n",
    "# check out one hot encoding"
   ]
  },
  {
   "cell_type": "code",
   "execution_count": 3,
   "metadata": {},
   "outputs": [
    {
     "data": {
      "text/plain": [
       "<matplotlib.axes._subplots.AxesSubplot at 0x7f5e168c9d00>"
      ]
     },
     "execution_count": 3,
     "metadata": {},
     "output_type": "execute_result"
    },
    {
     "data": {
      "image/png": "[encoded data removed]",
      "text/plain": [
       "<Figure size 864x576 with 1 Axes>"
      ]
     },
     "metadata": {},
     "output_type": "display_data"
    }
   ],
   "source": [
    "# Plotting data using seaborn. DO OURSELVES HOMEWORK!!\n",
    "plt.style.use(\"ggplot\")\n",
    "plt.rcParams[\"figure.figsize\"] = (12,8)\n",
    "sns.scatterplot(x = iris.sepal_length, y=iris.sepal_width,\n",
    "               hue = iris.species, style=iris.species)"
   ]
  },
  {
   "cell_type": "code",
   "execution_count": 11,
   "metadata": {},
   "outputs": [],
   "source": [
    "def standardize_data(arr):\n",
    "         \n",
    "    '''\n",
    "    This function standardize an array, its substracts mean value, \n",
    "    and then divide the standard deviation.\n",
    "    \n",
    "    param 1: array \n",
    "    return: standardized array\n",
    "    '''    \n",
    "    rows, columns = arr.shape\n",
    "    \n",
    "    standardizedArray = np.zeros(shape=(rows, columns))\n",
    "    tempArray = np.zeros(rows)\n",
    "    \n",
    "    for column in range(columns):\n",
    "        \n",
    "        mean = np.mean(X[:,column])\n",
    "        std = np.std(X[:,column])\n",
    "        tempArray = np.empty(0)\n",
    "        \n",
    "        for element in X[:,column]:\n",
    "            \n",
    "            tempArray = np.append(tempArray, ((element - mean) / std))\n",
    " \n",
    "        standardizedArray[:,column] = tempArray\n",
    "    \n",
    "    return standardizedArray\n"
   ]
  },
  {
   "cell_type": "code",
   "execution_count": 31,
   "metadata": {},
   "outputs": [
    {
     "name": "stdout",
     "output_type": "stream",
     "text": [
      "[[2.000e+00 2.500e+00 2.000e+00 ... 0.000e+00 1.560e+02 7.900e+01]\n",
      " [3.000e+00 2.500e+00 3.000e+00 ... 0.000e+00 1.340e+02 1.500e+02]\n",
      " [4.000e+00 2.500e+00 3.000e+00 ... 2.000e+00 1.200e+02 1.420e+02]\n",
      " ...\n",
      " [1.000e+00 6.800e+00 1.000e+00 ... 1.000e+00 0.000e+00 3.564e+01]\n",
      " [2.000e+00 4.600e+00 2.000e+00 ... 1.000e+00 0.000e+00 6.160e+01]\n",
      " [6.000e+00 6.300e+00 6.000e+00 ... 2.000e+00 1.087e+03 3.885e+02]]\n"
     ]
    },
    {
     "data": {
      "text/plain": [
       "array([[-0.95922445, -1.29215935, -0.92995401, ..., -1.69227228,\n",
       "        -0.35103059, -0.6888734 ],\n",
       "       [ 0.0706412 , -1.29215935,  0.10099876, ..., -1.69227228,\n",
       "        -0.37554647,  0.09282823],\n",
       "       [ 1.10050686, -1.29215935,  0.10099876, ...,  0.4585624 ,\n",
       "        -0.39114749,  0.00474917],\n",
       "       ...,\n",
       "       [-1.9890901 , -0.52589118, -1.96090678, ..., -0.61685494,\n",
       "        -0.52487048, -1.1662619 ],\n",
       "       [-0.95922445, -0.91793536, -0.92995401, ..., -0.61685494,\n",
       "        -0.52487048, -0.88044535],\n",
       "       [ 3.16023816, -0.61499213,  3.19385708, ...,  0.4585624 ,\n",
       "         0.68643697,  2.71868513]])"
      ]
     },
     "execution_count": 31,
     "metadata": {},
     "output_type": "execute_result"
    }
   ],
   "source": [
    "# Standardizing data\n",
    "X = melb[['Rooms', 'Distance', 'Bedroom2', 'Bathroom', 'Car', 'Landsize', 'BuildingArea']].values\n",
    "print(X)\n",
    "y = melb.Price.values\n",
    "X = standardize_data(X)\n",
    "X"
   ]
  },
  {
   "cell_type": "code",
   "execution_count": 32,
   "metadata": {},
   "outputs": [
    {
     "data": {
      "text/plain": [
       "array([[1.00016142, 0.28393095, 0.95194617, 0.61395224, 0.42259371,\n",
       "        0.09877052, 0.60831274],\n",
       "       [0.28393095, 1.00016142, 0.29028934, 0.1245496 , 0.27365898,\n",
       "        0.05937851, 0.15962838],\n",
       "       [0.95194617, 0.29028934, 1.00016142, 0.61785092, 0.42579491,\n",
       "        0.09718744, 0.59309599],\n",
       "       [0.61395224, 0.1245496 , 0.61785092, 1.00016142, 0.34086306,\n",
       "        0.07630745, 0.53451128],\n",
       "       [0.42259371, 0.27365898, 0.42579491, 0.34086306, 1.00016142,\n",
       "        0.11766633, 0.33433643],\n",
       "       [0.09877052, 0.05937851, 0.09718744, 0.07630745, 0.11766633,\n",
       "        1.00016142, 0.08483858],\n",
       "       [0.60831274, 0.15962838, 0.59309599, 0.53451128, 0.33433643,\n",
       "        0.08483858, 1.00016142]])"
      ]
     },
     "execution_count": 32,
     "metadata": {},
     "output_type": "execute_result"
    }
   ],
   "source": [
    "# Calculating the covariance matrix\n",
    "covariance_matrix = np.cov(X.T)\n",
    "covariance_matrix"
   ]
  },
  {
   "cell_type": "code",
   "execution_count": 33,
   "metadata": {},
   "outputs": [
    {
     "name": "stdout",
     "output_type": "stream",
     "text": [
      "Eigenvector: \n",
      " [[-0.50097164 -0.70882494 -0.24279781 -0.38181072 -0.17504079  0.10496766\n",
      "  -0.01438478]\n",
      " [-0.21071173 -0.00494589  0.17447547  0.18666086 -0.38635109 -0.50526823\n",
      "   0.6969426 ]\n",
      " [-0.50024947  0.70494259 -0.21904591 -0.40616634 -0.17266036  0.10004448\n",
      "  -0.0058062 ]\n",
      " [-0.41390388 -0.01088802  0.8574543   0.0804065   0.0134113   0.22289172\n",
      "  -0.19238337]\n",
      " [-0.32570333 -0.00308229 -0.04981042 -0.02339898  0.87725892 -0.28534805\n",
      "   0.19968107]\n",
      " [-0.09092276  0.00120662  0.00974168 -0.01088566 -0.1308896  -0.74920034\n",
      "  -0.64271686]\n",
      " [-0.41074617  0.02166056 -0.35330237  0.80453464 -0.05819621  0.17683757\n",
      "  -0.1551178 ]] \n",
      "\n",
      "Eigenvalues: \n",
      " [3.36883475 0.04792151 0.4546485  0.49163384 0.67699061 1.01547936\n",
      " 0.94562137] \n",
      "\n"
     ]
    }
   ],
   "source": [
    "# Using np.linalg.eig function. HOW we can get eigenstuff from the covariance matrix\n",
    "eigen_values, eigen_vectors = np.linalg.eig(covariance_matrix)\n",
    "print(\"Eigenvector: \\n\",eigen_vectors,\"\\n\")\n",
    "print(\"Eigenvalues: \\n\", eigen_values, \"\\n\")\n"
   ]
  },
  {
   "cell_type": "code",
   "execution_count": 34,
   "metadata": {},
   "outputs": [
    {
     "name": "stdout",
     "output_type": "stream",
     "text": [
      "I:  3.3688347511860437\n",
      "I:  0.04792151063774439\n",
      "I:  0.45464850334387086\n",
      "I:  0.4916338364222739\n",
      "I:  0.6769906107866175\n",
      "I:  1.0154793625266239\n",
      "I:  0.945621368599632\n",
      "[48.11844342801253, 0.6844825195998048, 6.4939303657089535, 7.022206992151607, 9.66973354658099, 14.504506711363211, 13.506696436582901]\n"
     ]
    }
   ],
   "source": [
    "# Calculating the explained variance on each of components\n",
    "variance_explained = []\n",
    "for i in eigen_values:\n",
    "     print(\"I: \", i)\n",
    "     variance_explained.append((i/sum(eigen_values))*100)\n",
    "        \n",
    "# Rooms', 'Distance', 'Bedroom2', 'Bathroom', 'Car', 'Landsize', 'BuildingArea\n",
    "print(variance_explained)"
   ]
  },
  {
   "cell_type": "code",
   "execution_count": 36,
   "metadata": {},
   "outputs": [
    {
     "name": "stdout",
     "output_type": "stream",
     "text": [
      "[ 48.11844343  48.80292595  55.29685631  62.31906331  71.98879685\n",
      "  86.49330356 100.        ]\n"
     ]
    }
   ],
   "source": [
    "# Identifying components that explain at least 95%\n",
    "cumulative_variance_explained = np.cumsum(variance_explained)\n",
    "print(cumulative_variance_explained)\n"
   ]
  },
  {
   "cell_type": "code",
   "execution_count": 38,
   "metadata": {},
   "outputs": [
    {
     "data": {
      "text/plain": [
       "Text(0.5, 1.0, 'Explained variance vs Number of components')"
      ]
     },
     "execution_count": 38,
     "metadata": {},
     "output_type": "execute_result"
    },
    {
     "data": {
      "image/png": "[encoded data removed]",
      "text/plain": [
       "<Figure size 432x288 with 1 Axes>"
      ]
     },
     "metadata": {
      "needs_background": "light"
     },
     "output_type": "display_data"
    }
   ],
   "source": [
    "# Visualizing the eigenvalues and finding the \"elbow\" in the graphic\n",
    "sns.lineplot(x = [1,2,3,4, 5, 6, 7], y=cumulative_variance_explained)\n",
    "plt.xlabel(\"Number of components\")\n",
    "plt.ylabel(\"Cumulative explained variance\")\n",
    "plt.title(\"Explained variance vs Number of components\")"
   ]
  },
  {
   "cell_type": "code",
   "execution_count": 47,
   "metadata": {},
   "outputs": [
    {
     "name": "stdout",
     "output_type": "stream",
     "text": [
      "[[-0.50097164 -0.70882494 -0.24279781 -0.38181072 -0.17504079  0.10496766\n",
      "  -0.01438478]\n",
      " [-0.21071173 -0.00494589  0.17447547  0.18666086 -0.38635109 -0.50526823\n",
      "   0.6969426 ]\n",
      " [-0.50024947  0.70494259 -0.21904591 -0.40616634 -0.17266036  0.10004448\n",
      "  -0.0058062 ]\n",
      " [-0.41390388 -0.01088802  0.8574543   0.0804065   0.0134113   0.22289172\n",
      "  -0.19238337]\n",
      " [-0.32570333 -0.00308229 -0.04981042 -0.02339898  0.87725892 -0.28534805\n",
      "   0.19968107]\n",
      " [-0.09092276  0.00120662  0.00974168 -0.01088566 -0.1308896  -0.74920034\n",
      "  -0.64271686]\n",
      " [-0.41074617  0.02166056 -0.35330237  0.80453464 -0.05819621  0.17683757\n",
      "  -0.1551178 ]]\n"
     ]
    }
   ],
   "source": [
    "# Using two first components (because those explain more than 95%)\n",
    "projection_matrix = (eigen_vectors.T[:][:]).T\n",
    "print(projection_matrix)"
   ]
  },
  {
   "cell_type": "code",
   "execution_count": 48,
   "metadata": {},
   "outputs": [
    {
     "name": "stdout",
     "output_type": "stream",
     "text": [
      "[[ 2.41944248  0.02944213 -0.15935463 ... -0.58169472  0.90262328\n",
      "  -0.7309281 ]\n",
      " [ 0.48702942  0.02780559  0.2938217  ... -0.96339657  1.58382479\n",
      "  -1.12769304]\n",
      " [-0.10994736 -0.69543793 -1.23786216 ...  0.73148719  0.76094724\n",
      "  -0.41887122]\n",
      " ...\n",
      " [ 3.15127234  0.01501919  0.56361748 ...  0.47448541  0.04316104\n",
      "   0.2244389 ]\n",
      " [ 2.08481554  0.0199172  -0.08163938 ...  0.25104549  0.50303534\n",
      "  -0.11392893]\n",
      " [-5.20820611  0.05098288 -0.83469721 ... -0.68596447  1.24373645\n",
      "  -1.64900365]]\n"
     ]
    }
   ],
   "source": [
    "# Getting the product of original standardized X and the eigenvectors \n",
    "X_pca = X.dot(projection_matrix)\n",
    "print(X_pca)"
   ]
  },
  {
   "cell_type": "code",
   "execution_count": null,
   "metadata": {},
   "outputs": [],
   "source": []
  }
 ],
 "metadata": {
  "kernelspec": {
   "display_name": "Python 3",
   "language": "python",
   "name": "python3"
  },
  "language_info": {
   "codemirror_mode": {
    "name": "ipython",
    "version": 3
   },
   "file_extension": ".py",
   "mimetype": "text/x-python",
   "name": "python",
   "nbconvert_exporter": "python",
   "pygments_lexer": "ipython3",
   "version": "3.8.3"
  }
 },
 "nbformat": 4,
 "nbformat_minor": 4
}
