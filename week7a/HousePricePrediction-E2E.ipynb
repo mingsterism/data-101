{
 "cells": [
  {
   "cell_type": "markdown",
   "metadata": {},
   "source": [
    "### House Price Prediction - End to End ML\n",
    "https://www.kaggle.com/ammar111/house-price-prediction-an-end-to-end-ml-project#data-prep"
   ]
  },
  {
   "cell_type": "code",
   "execution_count": 108,
   "metadata": {},
   "outputs": [],
   "source": [
    "import pandas as pd\n",
    "import numpy as np\n",
    "\n",
    "dataset = pd.read_csv(\"./AmesHousing.csv\")\n"
   ]
  },
  {
   "cell_type": "code",
   "execution_count": 109,
   "metadata": {},
   "outputs": [
    {
     "data": {
      "text/html": [
       "<div>\n",
       "<style scoped>\n",
       "    .dataframe tbody tr th:only-of-type {\n",
       "        vertical-align: middle;\n",
       "    }\n",
       "\n",
       "    .dataframe tbody tr th {\n",
       "        vertical-align: top;\n",
       "    }\n",
       "\n",
       "    .dataframe thead th {\n",
       "        text-align: right;\n",
       "    }\n",
       "</style>\n",
       "<table border=\"1\" class=\"dataframe\">\n",
       "  <thead>\n",
       "    <tr style=\"text-align: right;\">\n",
       "      <th></th>\n",
       "      <th>Order</th>\n",
       "      <th>PID</th>\n",
       "      <th>MS SubClass</th>\n",
       "      <th>MS Zoning</th>\n",
       "      <th>Lot Frontage</th>\n",
       "      <th>Lot Area</th>\n",
       "      <th>Street</th>\n",
       "      <th>Alley</th>\n",
       "      <th>Lot Shape</th>\n",
       "      <th>Land Contour</th>\n",
       "      <th>...</th>\n",
       "      <th>Pool Area</th>\n",
       "      <th>Pool QC</th>\n",
       "      <th>Fence</th>\n",
       "      <th>Misc Feature</th>\n",
       "      <th>Misc Val</th>\n",
       "      <th>Mo Sold</th>\n",
       "      <th>Yr Sold</th>\n",
       "      <th>Sale Type</th>\n",
       "      <th>Sale Condition</th>\n",
       "      <th>SalePrice</th>\n",
       "    </tr>\n",
       "  </thead>\n",
       "  <tbody>\n",
       "    <tr>\n",
       "      <th>0</th>\n",
       "      <td>1</td>\n",
       "      <td>526301100</td>\n",
       "      <td>20</td>\n",
       "      <td>RL</td>\n",
       "      <td>141.00</td>\n",
       "      <td>31770</td>\n",
       "      <td>Pave</td>\n",
       "      <td>NaN</td>\n",
       "      <td>IR1</td>\n",
       "      <td>Lvl</td>\n",
       "      <td>...</td>\n",
       "      <td>0</td>\n",
       "      <td>NaN</td>\n",
       "      <td>NaN</td>\n",
       "      <td>NaN</td>\n",
       "      <td>0</td>\n",
       "      <td>5</td>\n",
       "      <td>2010</td>\n",
       "      <td>WD</td>\n",
       "      <td>Normal</td>\n",
       "      <td>215000</td>\n",
       "    </tr>\n",
       "    <tr>\n",
       "      <th>1</th>\n",
       "      <td>2</td>\n",
       "      <td>526350040</td>\n",
       "      <td>20</td>\n",
       "      <td>RH</td>\n",
       "      <td>80.00</td>\n",
       "      <td>11622</td>\n",
       "      <td>Pave</td>\n",
       "      <td>NaN</td>\n",
       "      <td>Reg</td>\n",
       "      <td>Lvl</td>\n",
       "      <td>...</td>\n",
       "      <td>0</td>\n",
       "      <td>NaN</td>\n",
       "      <td>MnPrv</td>\n",
       "      <td>NaN</td>\n",
       "      <td>0</td>\n",
       "      <td>6</td>\n",
       "      <td>2010</td>\n",
       "      <td>WD</td>\n",
       "      <td>Normal</td>\n",
       "      <td>105000</td>\n",
       "    </tr>\n",
       "    <tr>\n",
       "      <th>2</th>\n",
       "      <td>3</td>\n",
       "      <td>526351010</td>\n",
       "      <td>20</td>\n",
       "      <td>RL</td>\n",
       "      <td>81.00</td>\n",
       "      <td>14267</td>\n",
       "      <td>Pave</td>\n",
       "      <td>NaN</td>\n",
       "      <td>IR1</td>\n",
       "      <td>Lvl</td>\n",
       "      <td>...</td>\n",
       "      <td>0</td>\n",
       "      <td>NaN</td>\n",
       "      <td>NaN</td>\n",
       "      <td>Gar2</td>\n",
       "      <td>12500</td>\n",
       "      <td>6</td>\n",
       "      <td>2010</td>\n",
       "      <td>WD</td>\n",
       "      <td>Normal</td>\n",
       "      <td>172000</td>\n",
       "    </tr>\n",
       "    <tr>\n",
       "      <th>3</th>\n",
       "      <td>4</td>\n",
       "      <td>526353030</td>\n",
       "      <td>20</td>\n",
       "      <td>RL</td>\n",
       "      <td>93.00</td>\n",
       "      <td>11160</td>\n",
       "      <td>Pave</td>\n",
       "      <td>NaN</td>\n",
       "      <td>Reg</td>\n",
       "      <td>Lvl</td>\n",
       "      <td>...</td>\n",
       "      <td>0</td>\n",
       "      <td>NaN</td>\n",
       "      <td>NaN</td>\n",
       "      <td>NaN</td>\n",
       "      <td>0</td>\n",
       "      <td>4</td>\n",
       "      <td>2010</td>\n",
       "      <td>WD</td>\n",
       "      <td>Normal</td>\n",
       "      <td>244000</td>\n",
       "    </tr>\n",
       "    <tr>\n",
       "      <th>4</th>\n",
       "      <td>5</td>\n",
       "      <td>527105010</td>\n",
       "      <td>60</td>\n",
       "      <td>RL</td>\n",
       "      <td>74.00</td>\n",
       "      <td>13830</td>\n",
       "      <td>Pave</td>\n",
       "      <td>NaN</td>\n",
       "      <td>IR1</td>\n",
       "      <td>Lvl</td>\n",
       "      <td>...</td>\n",
       "      <td>0</td>\n",
       "      <td>NaN</td>\n",
       "      <td>MnPrv</td>\n",
       "      <td>NaN</td>\n",
       "      <td>0</td>\n",
       "      <td>3</td>\n",
       "      <td>2010</td>\n",
       "      <td>WD</td>\n",
       "      <td>Normal</td>\n",
       "      <td>189900</td>\n",
       "    </tr>\n",
       "  </tbody>\n",
       "</table>\n",
       "<p>5 rows × 82 columns</p>\n",
       "</div>"
      ],
      "text/plain": [
       "   Order        PID  MS SubClass MS Zoning         Lot Frontage  Lot Area  \\\n",
       "0      1  526301100           20        RL               141.00     31770   \n",
       "1      2  526350040           20        RH                80.00     11622   \n",
       "2      3  526351010           20        RL                81.00     14267   \n",
       "3      4  526353030           20        RL                93.00     11160   \n",
       "4      5  527105010           60        RL                74.00     13830   \n",
       "\n",
       "  Street Alley Lot Shape Land Contour  ... Pool Area Pool QC  Fence  \\\n",
       "0   Pave   NaN       IR1          Lvl  ...         0     NaN    NaN   \n",
       "1   Pave   NaN       Reg          Lvl  ...         0     NaN  MnPrv   \n",
       "2   Pave   NaN       IR1          Lvl  ...         0     NaN    NaN   \n",
       "3   Pave   NaN       Reg          Lvl  ...         0     NaN    NaN   \n",
       "4   Pave   NaN       IR1          Lvl  ...         0     NaN  MnPrv   \n",
       "\n",
       "  Misc Feature Misc Val Mo Sold Yr Sold Sale Type  Sale Condition  SalePrice  \n",
       "0          NaN        0       5    2010       WD           Normal     215000  \n",
       "1          NaN        0       6    2010       WD           Normal     105000  \n",
       "2         Gar2    12500       6    2010       WD           Normal     172000  \n",
       "3          NaN        0       4    2010       WD           Normal     244000  \n",
       "4          NaN        0       3    2010       WD           Normal     189900  \n",
       "\n",
       "[5 rows x 82 columns]"
      ]
     },
     "execution_count": 109,
     "metadata": {},
     "output_type": "execute_result"
    }
   ],
   "source": [
    "# Configuring float numbers format\n",
    "pd.options.display.float_format = '{:20.2f}'.format\n",
    "dataset.head(n=5)"
   ]
  },
  {
   "cell_type": "code",
   "execution_count": 115,
   "metadata": {},
   "outputs": [
    {
     "data": {
      "text/html": [
       "<div>\n",
       "<style scoped>\n",
       "    .dataframe tbody tr th:only-of-type {\n",
       "        vertical-align: middle;\n",
       "    }\n",
       "\n",
       "    .dataframe tbody tr th {\n",
       "        vertical-align: top;\n",
       "    }\n",
       "\n",
       "    .dataframe thead th {\n",
       "        text-align: right;\n",
       "    }\n",
       "</style>\n",
       "<table border=\"1\" class=\"dataframe\">\n",
       "  <thead>\n",
       "    <tr style=\"text-align: right;\">\n",
       "      <th></th>\n",
       "      <th>mean</th>\n",
       "      <th>std</th>\n",
       "      <th>min</th>\n",
       "      <th>50%</th>\n",
       "      <th>max</th>\n",
       "    </tr>\n",
       "  </thead>\n",
       "  <tbody>\n",
       "    <tr>\n",
       "      <th>Order</th>\n",
       "      <td>1465.50</td>\n",
       "      <td>845.96</td>\n",
       "      <td>1.00</td>\n",
       "      <td>1465.50</td>\n",
       "      <td>2930.00</td>\n",
       "    </tr>\n",
       "    <tr>\n",
       "      <th>PID</th>\n",
       "      <td>714464496.99</td>\n",
       "      <td>188730844.65</td>\n",
       "      <td>526301100.00</td>\n",
       "      <td>535453620.00</td>\n",
       "      <td>1007100110.00</td>\n",
       "    </tr>\n",
       "    <tr>\n",
       "      <th>MS SubClass</th>\n",
       "      <td>57.39</td>\n",
       "      <td>42.64</td>\n",
       "      <td>20.00</td>\n",
       "      <td>50.00</td>\n",
       "      <td>190.00</td>\n",
       "    </tr>\n",
       "    <tr>\n",
       "      <th>Lot Frontage</th>\n",
       "      <td>69.22</td>\n",
       "      <td>23.37</td>\n",
       "      <td>21.00</td>\n",
       "      <td>68.00</td>\n",
       "      <td>313.00</td>\n",
       "    </tr>\n",
       "    <tr>\n",
       "      <th>Lot Area</th>\n",
       "      <td>10147.92</td>\n",
       "      <td>7880.02</td>\n",
       "      <td>1300.00</td>\n",
       "      <td>9436.50</td>\n",
       "      <td>215245.00</td>\n",
       "    </tr>\n",
       "    <tr>\n",
       "      <th>Overall Qual</th>\n",
       "      <td>6.09</td>\n",
       "      <td>1.41</td>\n",
       "      <td>1.00</td>\n",
       "      <td>6.00</td>\n",
       "      <td>10.00</td>\n",
       "    </tr>\n",
       "    <tr>\n",
       "      <th>Overall Cond</th>\n",
       "      <td>5.56</td>\n",
       "      <td>1.11</td>\n",
       "      <td>1.00</td>\n",
       "      <td>5.00</td>\n",
       "      <td>9.00</td>\n",
       "    </tr>\n",
       "    <tr>\n",
       "      <th>Year Built</th>\n",
       "      <td>1971.36</td>\n",
       "      <td>30.25</td>\n",
       "      <td>1872.00</td>\n",
       "      <td>1973.00</td>\n",
       "      <td>2010.00</td>\n",
       "    </tr>\n",
       "    <tr>\n",
       "      <th>Year Remod/Add</th>\n",
       "      <td>1984.27</td>\n",
       "      <td>20.86</td>\n",
       "      <td>1950.00</td>\n",
       "      <td>1993.00</td>\n",
       "      <td>2010.00</td>\n",
       "    </tr>\n",
       "    <tr>\n",
       "      <th>Mas Vnr Area</th>\n",
       "      <td>101.90</td>\n",
       "      <td>179.11</td>\n",
       "      <td>0.00</td>\n",
       "      <td>0.00</td>\n",
       "      <td>1600.00</td>\n",
       "    </tr>\n",
       "    <tr>\n",
       "      <th>BsmtFin SF 1</th>\n",
       "      <td>442.63</td>\n",
       "      <td>455.59</td>\n",
       "      <td>0.00</td>\n",
       "      <td>370.00</td>\n",
       "      <td>5644.00</td>\n",
       "    </tr>\n",
       "    <tr>\n",
       "      <th>BsmtFin SF 2</th>\n",
       "      <td>49.72</td>\n",
       "      <td>169.17</td>\n",
       "      <td>0.00</td>\n",
       "      <td>0.00</td>\n",
       "      <td>1526.00</td>\n",
       "    </tr>\n",
       "    <tr>\n",
       "      <th>Bsmt Unf SF</th>\n",
       "      <td>559.26</td>\n",
       "      <td>439.49</td>\n",
       "      <td>0.00</td>\n",
       "      <td>466.00</td>\n",
       "      <td>2336.00</td>\n",
       "    </tr>\n",
       "    <tr>\n",
       "      <th>Total Bsmt SF</th>\n",
       "      <td>1051.61</td>\n",
       "      <td>440.62</td>\n",
       "      <td>0.00</td>\n",
       "      <td>990.00</td>\n",
       "      <td>6110.00</td>\n",
       "    </tr>\n",
       "    <tr>\n",
       "      <th>1st Flr SF</th>\n",
       "      <td>1159.56</td>\n",
       "      <td>391.89</td>\n",
       "      <td>334.00</td>\n",
       "      <td>1084.00</td>\n",
       "      <td>5095.00</td>\n",
       "    </tr>\n",
       "    <tr>\n",
       "      <th>2nd Flr SF</th>\n",
       "      <td>335.46</td>\n",
       "      <td>428.40</td>\n",
       "      <td>0.00</td>\n",
       "      <td>0.00</td>\n",
       "      <td>2065.00</td>\n",
       "    </tr>\n",
       "    <tr>\n",
       "      <th>Low Qual Fin SF</th>\n",
       "      <td>4.68</td>\n",
       "      <td>46.31</td>\n",
       "      <td>0.00</td>\n",
       "      <td>0.00</td>\n",
       "      <td>1064.00</td>\n",
       "    </tr>\n",
       "    <tr>\n",
       "      <th>Gr Liv Area</th>\n",
       "      <td>1499.69</td>\n",
       "      <td>505.51</td>\n",
       "      <td>334.00</td>\n",
       "      <td>1442.00</td>\n",
       "      <td>5642.00</td>\n",
       "    </tr>\n",
       "    <tr>\n",
       "      <th>Bsmt Full Bath</th>\n",
       "      <td>0.43</td>\n",
       "      <td>0.52</td>\n",
       "      <td>0.00</td>\n",
       "      <td>0.00</td>\n",
       "      <td>3.00</td>\n",
       "    </tr>\n",
       "    <tr>\n",
       "      <th>Bsmt Half Bath</th>\n",
       "      <td>0.06</td>\n",
       "      <td>0.25</td>\n",
       "      <td>0.00</td>\n",
       "      <td>0.00</td>\n",
       "      <td>2.00</td>\n",
       "    </tr>\n",
       "    <tr>\n",
       "      <th>Full Bath</th>\n",
       "      <td>1.57</td>\n",
       "      <td>0.55</td>\n",
       "      <td>0.00</td>\n",
       "      <td>2.00</td>\n",
       "      <td>4.00</td>\n",
       "    </tr>\n",
       "    <tr>\n",
       "      <th>Half Bath</th>\n",
       "      <td>0.38</td>\n",
       "      <td>0.50</td>\n",
       "      <td>0.00</td>\n",
       "      <td>0.00</td>\n",
       "      <td>2.00</td>\n",
       "    </tr>\n",
       "    <tr>\n",
       "      <th>Bedroom AbvGr</th>\n",
       "      <td>2.85</td>\n",
       "      <td>0.83</td>\n",
       "      <td>0.00</td>\n",
       "      <td>3.00</td>\n",
       "      <td>8.00</td>\n",
       "    </tr>\n",
       "    <tr>\n",
       "      <th>Kitchen AbvGr</th>\n",
       "      <td>1.04</td>\n",
       "      <td>0.21</td>\n",
       "      <td>0.00</td>\n",
       "      <td>1.00</td>\n",
       "      <td>3.00</td>\n",
       "    </tr>\n",
       "    <tr>\n",
       "      <th>TotRms AbvGrd</th>\n",
       "      <td>6.44</td>\n",
       "      <td>1.57</td>\n",
       "      <td>2.00</td>\n",
       "      <td>6.00</td>\n",
       "      <td>15.00</td>\n",
       "    </tr>\n",
       "    <tr>\n",
       "      <th>Fireplaces</th>\n",
       "      <td>0.60</td>\n",
       "      <td>0.65</td>\n",
       "      <td>0.00</td>\n",
       "      <td>1.00</td>\n",
       "      <td>4.00</td>\n",
       "    </tr>\n",
       "    <tr>\n",
       "      <th>Garage Yr Blt</th>\n",
       "      <td>1978.13</td>\n",
       "      <td>25.53</td>\n",
       "      <td>1895.00</td>\n",
       "      <td>1979.00</td>\n",
       "      <td>2207.00</td>\n",
       "    </tr>\n",
       "    <tr>\n",
       "      <th>Garage Cars</th>\n",
       "      <td>1.77</td>\n",
       "      <td>0.76</td>\n",
       "      <td>0.00</td>\n",
       "      <td>2.00</td>\n",
       "      <td>5.00</td>\n",
       "    </tr>\n",
       "    <tr>\n",
       "      <th>Garage Area</th>\n",
       "      <td>472.82</td>\n",
       "      <td>215.05</td>\n",
       "      <td>0.00</td>\n",
       "      <td>480.00</td>\n",
       "      <td>1488.00</td>\n",
       "    </tr>\n",
       "    <tr>\n",
       "      <th>Wood Deck SF</th>\n",
       "      <td>93.75</td>\n",
       "      <td>126.36</td>\n",
       "      <td>0.00</td>\n",
       "      <td>0.00</td>\n",
       "      <td>1424.00</td>\n",
       "    </tr>\n",
       "    <tr>\n",
       "      <th>Open Porch SF</th>\n",
       "      <td>47.53</td>\n",
       "      <td>67.48</td>\n",
       "      <td>0.00</td>\n",
       "      <td>27.00</td>\n",
       "      <td>742.00</td>\n",
       "    </tr>\n",
       "    <tr>\n",
       "      <th>Enclosed Porch</th>\n",
       "      <td>23.01</td>\n",
       "      <td>64.14</td>\n",
       "      <td>0.00</td>\n",
       "      <td>0.00</td>\n",
       "      <td>1012.00</td>\n",
       "    </tr>\n",
       "    <tr>\n",
       "      <th>3Ssn Porch</th>\n",
       "      <td>2.59</td>\n",
       "      <td>25.14</td>\n",
       "      <td>0.00</td>\n",
       "      <td>0.00</td>\n",
       "      <td>508.00</td>\n",
       "    </tr>\n",
       "    <tr>\n",
       "      <th>Screen Porch</th>\n",
       "      <td>16.00</td>\n",
       "      <td>56.09</td>\n",
       "      <td>0.00</td>\n",
       "      <td>0.00</td>\n",
       "      <td>576.00</td>\n",
       "    </tr>\n",
       "    <tr>\n",
       "      <th>Pool Area</th>\n",
       "      <td>2.24</td>\n",
       "      <td>35.60</td>\n",
       "      <td>0.00</td>\n",
       "      <td>0.00</td>\n",
       "      <td>800.00</td>\n",
       "    </tr>\n",
       "    <tr>\n",
       "      <th>Misc Val</th>\n",
       "      <td>50.64</td>\n",
       "      <td>566.34</td>\n",
       "      <td>0.00</td>\n",
       "      <td>0.00</td>\n",
       "      <td>17000.00</td>\n",
       "    </tr>\n",
       "    <tr>\n",
       "      <th>Mo Sold</th>\n",
       "      <td>6.22</td>\n",
       "      <td>2.71</td>\n",
       "      <td>1.00</td>\n",
       "      <td>6.00</td>\n",
       "      <td>12.00</td>\n",
       "    </tr>\n",
       "    <tr>\n",
       "      <th>Yr Sold</th>\n",
       "      <td>2007.79</td>\n",
       "      <td>1.32</td>\n",
       "      <td>2006.00</td>\n",
       "      <td>2008.00</td>\n",
       "      <td>2010.00</td>\n",
       "    </tr>\n",
       "    <tr>\n",
       "      <th>SalePrice</th>\n",
       "      <td>180796.06</td>\n",
       "      <td>79886.69</td>\n",
       "      <td>12789.00</td>\n",
       "      <td>160000.00</td>\n",
       "      <td>755000.00</td>\n",
       "    </tr>\n",
       "  </tbody>\n",
       "</table>\n",
       "</div>"
      ],
      "text/plain": [
       "                                mean                  std  \\\n",
       "Order                        1465.50               845.96   \n",
       "PID                     714464496.99         188730844.65   \n",
       "MS SubClass                    57.39                42.64   \n",
       "Lot Frontage                   69.22                23.37   \n",
       "Lot Area                    10147.92              7880.02   \n",
       "Overall Qual                    6.09                 1.41   \n",
       "Overall Cond                    5.56                 1.11   \n",
       "Year Built                   1971.36                30.25   \n",
       "Year Remod/Add               1984.27                20.86   \n",
       "Mas Vnr Area                  101.90               179.11   \n",
       "BsmtFin SF 1                  442.63               455.59   \n",
       "BsmtFin SF 2                   49.72               169.17   \n",
       "Bsmt Unf SF                   559.26               439.49   \n",
       "Total Bsmt SF                1051.61               440.62   \n",
       "1st Flr SF                   1159.56               391.89   \n",
       "2nd Flr SF                    335.46               428.40   \n",
       "Low Qual Fin SF                 4.68                46.31   \n",
       "Gr Liv Area                  1499.69               505.51   \n",
       "Bsmt Full Bath                  0.43                 0.52   \n",
       "Bsmt Half Bath                  0.06                 0.25   \n",
       "Full Bath                       1.57                 0.55   \n",
       "Half Bath                       0.38                 0.50   \n",
       "Bedroom AbvGr                   2.85                 0.83   \n",
       "Kitchen AbvGr                   1.04                 0.21   \n",
       "TotRms AbvGrd                   6.44                 1.57   \n",
       "Fireplaces                      0.60                 0.65   \n",
       "Garage Yr Blt                1978.13                25.53   \n",
       "Garage Cars                     1.77                 0.76   \n",
       "Garage Area                   472.82               215.05   \n",
       "Wood Deck SF                   93.75               126.36   \n",
       "Open Porch SF                  47.53                67.48   \n",
       "Enclosed Porch                 23.01                64.14   \n",
       "3Ssn Porch                      2.59                25.14   \n",
       "Screen Porch                   16.00                56.09   \n",
       "Pool Area                       2.24                35.60   \n",
       "Misc Val                       50.64               566.34   \n",
       "Mo Sold                         6.22                 2.71   \n",
       "Yr Sold                      2007.79                 1.32   \n",
       "SalePrice                  180796.06             79886.69   \n",
       "\n",
       "                                 min                  50%                  max  \n",
       "Order                           1.00              1465.50              2930.00  \n",
       "PID                     526301100.00         535453620.00        1007100110.00  \n",
       "MS SubClass                    20.00                50.00               190.00  \n",
       "Lot Frontage                   21.00                68.00               313.00  \n",
       "Lot Area                     1300.00              9436.50            215245.00  \n",
       "Overall Qual                    1.00                 6.00                10.00  \n",
       "Overall Cond                    1.00                 5.00                 9.00  \n",
       "Year Built                   1872.00              1973.00              2010.00  \n",
       "Year Remod/Add               1950.00              1993.00              2010.00  \n",
       "Mas Vnr Area                    0.00                 0.00              1600.00  \n",
       "BsmtFin SF 1                    0.00               370.00              5644.00  \n",
       "BsmtFin SF 2                    0.00                 0.00              1526.00  \n",
       "Bsmt Unf SF                     0.00               466.00              2336.00  \n",
       "Total Bsmt SF                   0.00               990.00              6110.00  \n",
       "1st Flr SF                    334.00              1084.00              5095.00  \n",
       "2nd Flr SF                      0.00                 0.00              2065.00  \n",
       "Low Qual Fin SF                 0.00                 0.00              1064.00  \n",
       "Gr Liv Area                   334.00              1442.00              5642.00  \n",
       "Bsmt Full Bath                  0.00                 0.00                 3.00  \n",
       "Bsmt Half Bath                  0.00                 0.00                 2.00  \n",
       "Full Bath                       0.00                 2.00                 4.00  \n",
       "Half Bath                       0.00                 0.00                 2.00  \n",
       "Bedroom AbvGr                   0.00                 3.00                 8.00  \n",
       "Kitchen AbvGr                   0.00                 1.00                 3.00  \n",
       "TotRms AbvGrd                   2.00                 6.00                15.00  \n",
       "Fireplaces                      0.00                 1.00                 4.00  \n",
       "Garage Yr Blt                1895.00              1979.00              2207.00  \n",
       "Garage Cars                     0.00                 2.00                 5.00  \n",
       "Garage Area                     0.00               480.00              1488.00  \n",
       "Wood Deck SF                    0.00                 0.00              1424.00  \n",
       "Open Porch SF                   0.00                27.00               742.00  \n",
       "Enclosed Porch                  0.00                 0.00              1012.00  \n",
       "3Ssn Porch                      0.00                 0.00               508.00  \n",
       "Screen Porch                    0.00                 0.00               576.00  \n",
       "Pool Area                       0.00                 0.00               800.00  \n",
       "Misc Val                        0.00                 0.00             17000.00  \n",
       "Mo Sold                         1.00                 6.00                12.00  \n",
       "Yr Sold                      2006.00              2008.00              2010.00  \n",
       "SalePrice                   12789.00            160000.00            755000.00  "
      ]
     },
     "execution_count": 115,
     "metadata": {},
     "output_type": "execute_result"
    }
   ],
   "source": [
    "dataset.describe(include=[np.number], percentiles=[.5]).transpose().drop(\"count\", axis=1)"
   ]
  },
  {
   "cell_type": "code",
   "execution_count": 120,
   "metadata": {},
   "outputs": [
    {
     "data": {
      "text/html": [
       "<div>\n",
       "<style scoped>\n",
       "    .dataframe tbody tr th:only-of-type {\n",
       "        vertical-align: middle;\n",
       "    }\n",
       "\n",
       "    .dataframe tbody tr th {\n",
       "        vertical-align: top;\n",
       "    }\n",
       "\n",
       "    .dataframe thead th {\n",
       "        text-align: right;\n",
       "    }\n",
       "</style>\n",
       "<table border=\"1\" class=\"dataframe\">\n",
       "  <thead>\n",
       "    <tr style=\"text-align: right;\">\n",
       "      <th></th>\n",
       "      <th>unique</th>\n",
       "      <th>top</th>\n",
       "      <th>freq</th>\n",
       "    </tr>\n",
       "  </thead>\n",
       "  <tbody>\n",
       "    <tr>\n",
       "      <th>MS Zoning</th>\n",
       "      <td>7</td>\n",
       "      <td>RL</td>\n",
       "      <td>2273</td>\n",
       "    </tr>\n",
       "    <tr>\n",
       "      <th>Street</th>\n",
       "      <td>2</td>\n",
       "      <td>Pave</td>\n",
       "      <td>2918</td>\n",
       "    </tr>\n",
       "    <tr>\n",
       "      <th>Alley</th>\n",
       "      <td>2</td>\n",
       "      <td>Grvl</td>\n",
       "      <td>120</td>\n",
       "    </tr>\n",
       "    <tr>\n",
       "      <th>Lot Shape</th>\n",
       "      <td>4</td>\n",
       "      <td>Reg</td>\n",
       "      <td>1859</td>\n",
       "    </tr>\n",
       "    <tr>\n",
       "      <th>Land Contour</th>\n",
       "      <td>4</td>\n",
       "      <td>Lvl</td>\n",
       "      <td>2633</td>\n",
       "    </tr>\n",
       "    <tr>\n",
       "      <th>Utilities</th>\n",
       "      <td>3</td>\n",
       "      <td>AllPub</td>\n",
       "      <td>2927</td>\n",
       "    </tr>\n",
       "    <tr>\n",
       "      <th>Lot Config</th>\n",
       "      <td>5</td>\n",
       "      <td>Inside</td>\n",
       "      <td>2140</td>\n",
       "    </tr>\n",
       "    <tr>\n",
       "      <th>Land Slope</th>\n",
       "      <td>3</td>\n",
       "      <td>Gtl</td>\n",
       "      <td>2789</td>\n",
       "    </tr>\n",
       "    <tr>\n",
       "      <th>Neighborhood</th>\n",
       "      <td>28</td>\n",
       "      <td>NAmes</td>\n",
       "      <td>443</td>\n",
       "    </tr>\n",
       "    <tr>\n",
       "      <th>Condition 1</th>\n",
       "      <td>9</td>\n",
       "      <td>Norm</td>\n",
       "      <td>2522</td>\n",
       "    </tr>\n",
       "    <tr>\n",
       "      <th>Condition 2</th>\n",
       "      <td>8</td>\n",
       "      <td>Norm</td>\n",
       "      <td>2900</td>\n",
       "    </tr>\n",
       "    <tr>\n",
       "      <th>Bldg Type</th>\n",
       "      <td>5</td>\n",
       "      <td>1Fam</td>\n",
       "      <td>2425</td>\n",
       "    </tr>\n",
       "    <tr>\n",
       "      <th>House Style</th>\n",
       "      <td>8</td>\n",
       "      <td>1Story</td>\n",
       "      <td>1481</td>\n",
       "    </tr>\n",
       "    <tr>\n",
       "      <th>Roof Style</th>\n",
       "      <td>6</td>\n",
       "      <td>Gable</td>\n",
       "      <td>2321</td>\n",
       "    </tr>\n",
       "    <tr>\n",
       "      <th>Roof Matl</th>\n",
       "      <td>8</td>\n",
       "      <td>CompShg</td>\n",
       "      <td>2887</td>\n",
       "    </tr>\n",
       "    <tr>\n",
       "      <th>Exterior 1st</th>\n",
       "      <td>16</td>\n",
       "      <td>VinylSd</td>\n",
       "      <td>1026</td>\n",
       "    </tr>\n",
       "    <tr>\n",
       "      <th>Exterior 2nd</th>\n",
       "      <td>17</td>\n",
       "      <td>VinylSd</td>\n",
       "      <td>1015</td>\n",
       "    </tr>\n",
       "    <tr>\n",
       "      <th>Mas Vnr Type</th>\n",
       "      <td>5</td>\n",
       "      <td>None</td>\n",
       "      <td>1752</td>\n",
       "    </tr>\n",
       "    <tr>\n",
       "      <th>Exter Qual</th>\n",
       "      <td>4</td>\n",
       "      <td>TA</td>\n",
       "      <td>1799</td>\n",
       "    </tr>\n",
       "    <tr>\n",
       "      <th>Exter Cond</th>\n",
       "      <td>5</td>\n",
       "      <td>TA</td>\n",
       "      <td>2549</td>\n",
       "    </tr>\n",
       "    <tr>\n",
       "      <th>Foundation</th>\n",
       "      <td>6</td>\n",
       "      <td>PConc</td>\n",
       "      <td>1310</td>\n",
       "    </tr>\n",
       "    <tr>\n",
       "      <th>Bsmt Qual</th>\n",
       "      <td>5</td>\n",
       "      <td>TA</td>\n",
       "      <td>1283</td>\n",
       "    </tr>\n",
       "    <tr>\n",
       "      <th>Bsmt Cond</th>\n",
       "      <td>5</td>\n",
       "      <td>TA</td>\n",
       "      <td>2616</td>\n",
       "    </tr>\n",
       "    <tr>\n",
       "      <th>Bsmt Exposure</th>\n",
       "      <td>4</td>\n",
       "      <td>No</td>\n",
       "      <td>1906</td>\n",
       "    </tr>\n",
       "    <tr>\n",
       "      <th>BsmtFin Type 1</th>\n",
       "      <td>6</td>\n",
       "      <td>GLQ</td>\n",
       "      <td>859</td>\n",
       "    </tr>\n",
       "    <tr>\n",
       "      <th>BsmtFin Type 2</th>\n",
       "      <td>6</td>\n",
       "      <td>Unf</td>\n",
       "      <td>2499</td>\n",
       "    </tr>\n",
       "    <tr>\n",
       "      <th>Heating</th>\n",
       "      <td>6</td>\n",
       "      <td>GasA</td>\n",
       "      <td>2885</td>\n",
       "    </tr>\n",
       "    <tr>\n",
       "      <th>Heating QC</th>\n",
       "      <td>5</td>\n",
       "      <td>Ex</td>\n",
       "      <td>1495</td>\n",
       "    </tr>\n",
       "    <tr>\n",
       "      <th>Central Air</th>\n",
       "      <td>2</td>\n",
       "      <td>Y</td>\n",
       "      <td>2734</td>\n",
       "    </tr>\n",
       "    <tr>\n",
       "      <th>Electrical</th>\n",
       "      <td>5</td>\n",
       "      <td>SBrkr</td>\n",
       "      <td>2682</td>\n",
       "    </tr>\n",
       "    <tr>\n",
       "      <th>Kitchen Qual</th>\n",
       "      <td>5</td>\n",
       "      <td>TA</td>\n",
       "      <td>1494</td>\n",
       "    </tr>\n",
       "    <tr>\n",
       "      <th>Functional</th>\n",
       "      <td>8</td>\n",
       "      <td>Typ</td>\n",
       "      <td>2728</td>\n",
       "    </tr>\n",
       "    <tr>\n",
       "      <th>Fireplace Qu</th>\n",
       "      <td>5</td>\n",
       "      <td>Gd</td>\n",
       "      <td>744</td>\n",
       "    </tr>\n",
       "    <tr>\n",
       "      <th>Garage Type</th>\n",
       "      <td>6</td>\n",
       "      <td>Attchd</td>\n",
       "      <td>1731</td>\n",
       "    </tr>\n",
       "    <tr>\n",
       "      <th>Garage Finish</th>\n",
       "      <td>3</td>\n",
       "      <td>Unf</td>\n",
       "      <td>1231</td>\n",
       "    </tr>\n",
       "    <tr>\n",
       "      <th>Garage Qual</th>\n",
       "      <td>5</td>\n",
       "      <td>TA</td>\n",
       "      <td>2615</td>\n",
       "    </tr>\n",
       "    <tr>\n",
       "      <th>Garage Cond</th>\n",
       "      <td>5</td>\n",
       "      <td>TA</td>\n",
       "      <td>2665</td>\n",
       "    </tr>\n",
       "    <tr>\n",
       "      <th>Paved Drive</th>\n",
       "      <td>3</td>\n",
       "      <td>Y</td>\n",
       "      <td>2652</td>\n",
       "    </tr>\n",
       "    <tr>\n",
       "      <th>Pool QC</th>\n",
       "      <td>4</td>\n",
       "      <td>Gd</td>\n",
       "      <td>4</td>\n",
       "    </tr>\n",
       "    <tr>\n",
       "      <th>Fence</th>\n",
       "      <td>4</td>\n",
       "      <td>MnPrv</td>\n",
       "      <td>330</td>\n",
       "    </tr>\n",
       "    <tr>\n",
       "      <th>Misc Feature</th>\n",
       "      <td>5</td>\n",
       "      <td>Shed</td>\n",
       "      <td>95</td>\n",
       "    </tr>\n",
       "    <tr>\n",
       "      <th>Sale Type</th>\n",
       "      <td>10</td>\n",
       "      <td>WD</td>\n",
       "      <td>2536</td>\n",
       "    </tr>\n",
       "    <tr>\n",
       "      <th>Sale Condition</th>\n",
       "      <td>6</td>\n",
       "      <td>Normal</td>\n",
       "      <td>2413</td>\n",
       "    </tr>\n",
       "  </tbody>\n",
       "</table>\n",
       "</div>"
      ],
      "text/plain": [
       "               unique      top  freq\n",
       "MS Zoning           7       RL  2273\n",
       "Street              2     Pave  2918\n",
       "Alley               2     Grvl   120\n",
       "Lot Shape           4      Reg  1859\n",
       "Land Contour        4      Lvl  2633\n",
       "Utilities           3   AllPub  2927\n",
       "Lot Config          5   Inside  2140\n",
       "Land Slope          3      Gtl  2789\n",
       "Neighborhood       28    NAmes   443\n",
       "Condition 1         9     Norm  2522\n",
       "Condition 2         8     Norm  2900\n",
       "Bldg Type           5     1Fam  2425\n",
       "House Style         8   1Story  1481\n",
       "Roof Style          6    Gable  2321\n",
       "Roof Matl           8  CompShg  2887\n",
       "Exterior 1st       16  VinylSd  1026\n",
       "Exterior 2nd       17  VinylSd  1015\n",
       "Mas Vnr Type        5     None  1752\n",
       "Exter Qual          4       TA  1799\n",
       "Exter Cond          5       TA  2549\n",
       "Foundation          6    PConc  1310\n",
       "Bsmt Qual           5       TA  1283\n",
       "Bsmt Cond           5       TA  2616\n",
       "Bsmt Exposure       4       No  1906\n",
       "BsmtFin Type 1      6      GLQ   859\n",
       "BsmtFin Type 2      6      Unf  2499\n",
       "Heating             6     GasA  2885\n",
       "Heating QC          5       Ex  1495\n",
       "Central Air         2        Y  2734\n",
       "Electrical          5    SBrkr  2682\n",
       "Kitchen Qual        5       TA  1494\n",
       "Functional          8      Typ  2728\n",
       "Fireplace Qu        5       Gd   744\n",
       "Garage Type         6   Attchd  1731\n",
       "Garage Finish       3      Unf  1231\n",
       "Garage Qual         5       TA  2615\n",
       "Garage Cond         5       TA  2665\n",
       "Paved Drive         3        Y  2652\n",
       "Pool QC             4       Gd     4\n",
       "Fence               4    MnPrv   330\n",
       "Misc Feature        5     Shed    95\n",
       "Sale Type          10      WD   2536\n",
       "Sale Condition      6   Normal  2413"
      ]
     },
     "execution_count": 120,
     "metadata": {},
     "output_type": "execute_result"
    }
   ],
   "source": [
    "dataset.describe(include=[np.object]).transpose().drop(\"count\", axis=1)"
   ]
  },
  {
   "cell_type": "code",
   "execution_count": 122,
   "metadata": {},
   "outputs": [
    {
     "data": {
      "text/html": [
       "<div>\n",
       "<style scoped>\n",
       "    .dataframe tbody tr th:only-of-type {\n",
       "        vertical-align: middle;\n",
       "    }\n",
       "\n",
       "    .dataframe tbody tr th {\n",
       "        vertical-align: top;\n",
       "    }\n",
       "\n",
       "    .dataframe thead th {\n",
       "        text-align: right;\n",
       "    }\n",
       "</style>\n",
       "<table border=\"1\" class=\"dataframe\">\n",
       "  <thead>\n",
       "    <tr style=\"text-align: right;\">\n",
       "      <th></th>\n",
       "      <th>Missing Values</th>\n",
       "      <th>Percentage</th>\n",
       "    </tr>\n",
       "  </thead>\n",
       "  <tbody>\n",
       "    <tr>\n",
       "      <th>Pool QC</th>\n",
       "      <td>2917</td>\n",
       "      <td>99.56</td>\n",
       "    </tr>\n",
       "    <tr>\n",
       "      <th>Misc Feature</th>\n",
       "      <td>2824</td>\n",
       "      <td>96.38</td>\n",
       "    </tr>\n",
       "    <tr>\n",
       "      <th>Alley</th>\n",
       "      <td>2732</td>\n",
       "      <td>93.24</td>\n",
       "    </tr>\n",
       "    <tr>\n",
       "      <th>Fence</th>\n",
       "      <td>2358</td>\n",
       "      <td>80.48</td>\n",
       "    </tr>\n",
       "    <tr>\n",
       "      <th>Fireplace Qu</th>\n",
       "      <td>1422</td>\n",
       "      <td>48.53</td>\n",
       "    </tr>\n",
       "    <tr>\n",
       "      <th>Lot Frontage</th>\n",
       "      <td>490</td>\n",
       "      <td>16.72</td>\n",
       "    </tr>\n",
       "    <tr>\n",
       "      <th>Garage Cond</th>\n",
       "      <td>159</td>\n",
       "      <td>5.43</td>\n",
       "    </tr>\n",
       "    <tr>\n",
       "      <th>Garage Qual</th>\n",
       "      <td>159</td>\n",
       "      <td>5.43</td>\n",
       "    </tr>\n",
       "    <tr>\n",
       "      <th>Garage Finish</th>\n",
       "      <td>159</td>\n",
       "      <td>5.43</td>\n",
       "    </tr>\n",
       "    <tr>\n",
       "      <th>Garage Yr Blt</th>\n",
       "      <td>159</td>\n",
       "      <td>5.43</td>\n",
       "    </tr>\n",
       "    <tr>\n",
       "      <th>Garage Type</th>\n",
       "      <td>157</td>\n",
       "      <td>5.36</td>\n",
       "    </tr>\n",
       "    <tr>\n",
       "      <th>Bsmt Exposure</th>\n",
       "      <td>83</td>\n",
       "      <td>2.83</td>\n",
       "    </tr>\n",
       "    <tr>\n",
       "      <th>BsmtFin Type 2</th>\n",
       "      <td>81</td>\n",
       "      <td>2.76</td>\n",
       "    </tr>\n",
       "    <tr>\n",
       "      <th>BsmtFin Type 1</th>\n",
       "      <td>80</td>\n",
       "      <td>2.73</td>\n",
       "    </tr>\n",
       "    <tr>\n",
       "      <th>Bsmt Qual</th>\n",
       "      <td>80</td>\n",
       "      <td>2.73</td>\n",
       "    </tr>\n",
       "    <tr>\n",
       "      <th>Bsmt Cond</th>\n",
       "      <td>80</td>\n",
       "      <td>2.73</td>\n",
       "    </tr>\n",
       "    <tr>\n",
       "      <th>Mas Vnr Area</th>\n",
       "      <td>23</td>\n",
       "      <td>0.78</td>\n",
       "    </tr>\n",
       "    <tr>\n",
       "      <th>Mas Vnr Type</th>\n",
       "      <td>23</td>\n",
       "      <td>0.78</td>\n",
       "    </tr>\n",
       "    <tr>\n",
       "      <th>Bsmt Half Bath</th>\n",
       "      <td>2</td>\n",
       "      <td>0.07</td>\n",
       "    </tr>\n",
       "    <tr>\n",
       "      <th>Bsmt Full Bath</th>\n",
       "      <td>2</td>\n",
       "      <td>0.07</td>\n",
       "    </tr>\n",
       "    <tr>\n",
       "      <th>Total Bsmt SF</th>\n",
       "      <td>1</td>\n",
       "      <td>0.03</td>\n",
       "    </tr>\n",
       "    <tr>\n",
       "      <th>Bsmt Unf SF</th>\n",
       "      <td>1</td>\n",
       "      <td>0.03</td>\n",
       "    </tr>\n",
       "    <tr>\n",
       "      <th>Garage Cars</th>\n",
       "      <td>1</td>\n",
       "      <td>0.03</td>\n",
       "    </tr>\n",
       "    <tr>\n",
       "      <th>Garage Area</th>\n",
       "      <td>1</td>\n",
       "      <td>0.03</td>\n",
       "    </tr>\n",
       "    <tr>\n",
       "      <th>BsmtFin SF 2</th>\n",
       "      <td>1</td>\n",
       "      <td>0.03</td>\n",
       "    </tr>\n",
       "    <tr>\n",
       "      <th>BsmtFin SF 1</th>\n",
       "      <td>1</td>\n",
       "      <td>0.03</td>\n",
       "    </tr>\n",
       "    <tr>\n",
       "      <th>Electrical</th>\n",
       "      <td>1</td>\n",
       "      <td>0.03</td>\n",
       "    </tr>\n",
       "  </tbody>\n",
       "</table>\n",
       "</div>"
      ],
      "text/plain": [
       "                Missing Values           Percentage\n",
       "Pool QC                   2917                99.56\n",
       "Misc Feature              2824                96.38\n",
       "Alley                     2732                93.24\n",
       "Fence                     2358                80.48\n",
       "Fireplace Qu              1422                48.53\n",
       "Lot Frontage               490                16.72\n",
       "Garage Cond                159                 5.43\n",
       "Garage Qual                159                 5.43\n",
       "Garage Finish              159                 5.43\n",
       "Garage Yr Blt              159                 5.43\n",
       "Garage Type                157                 5.36\n",
       "Bsmt Exposure               83                 2.83\n",
       "BsmtFin Type 2              81                 2.76\n",
       "BsmtFin Type 1              80                 2.73\n",
       "Bsmt Qual                   80                 2.73\n",
       "Bsmt Cond                   80                 2.73\n",
       "Mas Vnr Area                23                 0.78\n",
       "Mas Vnr Type                23                 0.78\n",
       "Bsmt Half Bath               2                 0.07\n",
       "Bsmt Full Bath               2                 0.07\n",
       "Total Bsmt SF                1                 0.03\n",
       "Bsmt Unf SF                  1                 0.03\n",
       "Garage Cars                  1                 0.03\n",
       "Garage Area                  1                 0.03\n",
       "BsmtFin SF 2                 1                 0.03\n",
       "BsmtFin SF 1                 1                 0.03\n",
       "Electrical                   1                 0.03"
      ]
     },
     "execution_count": 122,
     "metadata": {},
     "output_type": "execute_result"
    }
   ],
   "source": [
    "# Getting the number of missing values in each column\n",
    "num_missing = dataset.isna().sum()\n",
    "# Excluding columns that contains 0 missing values\n",
    "num_missing = num_missing[num_missing > 0]\n",
    "# Getting the percentages of missing values\n",
    "percent_missing = num_missing * 100 / dataset.shape[0]\n",
    "# Concatenating the number and perecentage of missing values \n",
    "# into one dataframe and sorting it\n",
    "pd.concat([num_missing, percent_missing], axis=1, \n",
    "          keys=['Missing Values', 'Percentage']).sort_values(by=\"Missing Values\", ascending=False)"
   ]
  },
  {
   "cell_type": "code",
   "execution_count": 7,
   "metadata": {},
   "outputs": [
    {
     "data": {
      "text/plain": [
       "0      2917\n",
       "561       1\n",
       "555       1\n",
       "519       1\n",
       "800       1\n",
       "738       1\n",
       "648       1\n",
       "576       1\n",
       "512       1\n",
       "480       1\n",
       "444       1\n",
       "368       1\n",
       "228       1\n",
       "144       1\n",
       "Name: Pool Area, dtype: int64"
      ]
     },
     "execution_count": 7,
     "metadata": {},
     "output_type": "execute_result"
    }
   ],
   "source": [
    "dataset[\"Pool Area\"].value_counts()\n"
   ]
  },
  {
   "cell_type": "code",
   "execution_count": 8,
   "metadata": {},
   "outputs": [],
   "source": [
    "dataset[\"Pool QC\"].fillna(\"No Pool\", inplace=True)"
   ]
  },
  {
   "cell_type": "code",
   "execution_count": 9,
   "metadata": {},
   "outputs": [
    {
     "data": {
      "text/plain": [
       "0        2827\n",
       "400        18\n",
       "500        13\n",
       "450         9\n",
       "600         8\n",
       "700         7\n",
       "2000        7\n",
       "650         3\n",
       "1200        3\n",
       "1500        3\n",
       "4500        2\n",
       "2500        2\n",
       "480         2\n",
       "3000        2\n",
       "12500       1\n",
       "300         1\n",
       "350         1\n",
       "8300        1\n",
       "420         1\n",
       "80          1\n",
       "54          1\n",
       "460         1\n",
       "490         1\n",
       "3500        1\n",
       "560         1\n",
       "17000       1\n",
       "15500       1\n",
       "750         1\n",
       "800         1\n",
       "900         1\n",
       "1000        1\n",
       "1150        1\n",
       "1300        1\n",
       "1400        1\n",
       "1512        1\n",
       "6500        1\n",
       "455         1\n",
       "620         1\n",
       "Name: Misc Val, dtype: int64"
      ]
     },
     "execution_count": 9,
     "metadata": {},
     "output_type": "execute_result"
    }
   ],
   "source": [
    "dataset[\"Misc Val\"].value_counts()\n"
   ]
  },
  {
   "cell_type": "code",
   "execution_count": 10,
   "metadata": {},
   "outputs": [],
   "source": [
    "dataset['Misc Feature'].fillna('No feature', inplace=True)\n"
   ]
  },
  {
   "cell_type": "code",
   "execution_count": 11,
   "metadata": {},
   "outputs": [],
   "source": [
    "dataset['Alley'].fillna('No Alley', inplace=True)\n",
    "dataset['Fence'].fillna('No Fence', inplace=True)\n",
    "dataset['Fireplace Qu'].fillna('No Fireplace', inplace=True)\n"
   ]
  },
  {
   "cell_type": "code",
   "execution_count": 12,
   "metadata": {},
   "outputs": [],
   "source": [
    "dataset['Lot Frontage'].fillna(0, inplace=True)\n"
   ]
  },
  {
   "cell_type": "code",
   "execution_count": 13,
   "metadata": {},
   "outputs": [
    {
     "data": {
      "text/html": [
       "<div>\n",
       "<style scoped>\n",
       "    .dataframe tbody tr th:only-of-type {\n",
       "        vertical-align: middle;\n",
       "    }\n",
       "\n",
       "    .dataframe tbody tr th {\n",
       "        vertical-align: top;\n",
       "    }\n",
       "\n",
       "    .dataframe thead th {\n",
       "        text-align: right;\n",
       "    }\n",
       "</style>\n",
       "<table border=\"1\" class=\"dataframe\">\n",
       "  <thead>\n",
       "    <tr style=\"text-align: right;\">\n",
       "      <th></th>\n",
       "      <th>Garage Type</th>\n",
       "      <th>Garage Yr Blt</th>\n",
       "      <th>Garage Finish</th>\n",
       "      <th>Garage Cars</th>\n",
       "      <th>Garage Area</th>\n",
       "      <th>Garage Qual</th>\n",
       "      <th>Garage Cond</th>\n",
       "    </tr>\n",
       "  </thead>\n",
       "  <tbody>\n",
       "    <tr>\n",
       "      <th>2236</th>\n",
       "      <td>Detchd</td>\n",
       "      <td>nan</td>\n",
       "      <td>NaN</td>\n",
       "      <td>nan</td>\n",
       "      <td>nan</td>\n",
       "      <td>NaN</td>\n",
       "      <td>NaN</td>\n",
       "    </tr>\n",
       "  </tbody>\n",
       "</table>\n",
       "</div>"
      ],
      "text/plain": [
       "     Garage Type        Garage Yr Blt Garage Finish          Garage Cars  \\\n",
       "2236      Detchd                  nan           NaN                  nan   \n",
       "\n",
       "              Garage Area Garage Qual Garage Cond  \n",
       "2236                  nan         NaN         NaN  "
      ]
     },
     "execution_count": 13,
     "metadata": {},
     "output_type": "execute_result"
    }
   ],
   "source": [
    "garage_columns = [col for col in dataset.columns if col.startswith(\"Garage\")]\n",
    "dataset[dataset['Garage Cars'].isna()][garage_columns]\n"
   ]
  },
  {
   "cell_type": "code",
   "execution_count": 14,
   "metadata": {},
   "outputs": [
    {
     "data": {
      "text/html": [
       "<div>\n",
       "<style scoped>\n",
       "    .dataframe tbody tr th:only-of-type {\n",
       "        vertical-align: middle;\n",
       "    }\n",
       "\n",
       "    .dataframe tbody tr th {\n",
       "        vertical-align: top;\n",
       "    }\n",
       "\n",
       "    .dataframe thead th {\n",
       "        text-align: right;\n",
       "    }\n",
       "</style>\n",
       "<table border=\"1\" class=\"dataframe\">\n",
       "  <thead>\n",
       "    <tr style=\"text-align: right;\">\n",
       "      <th></th>\n",
       "      <th>Garage Type</th>\n",
       "      <th>Garage Yr Blt</th>\n",
       "      <th>Garage Finish</th>\n",
       "      <th>Garage Cars</th>\n",
       "      <th>Garage Area</th>\n",
       "      <th>Garage Qual</th>\n",
       "      <th>Garage Cond</th>\n",
       "    </tr>\n",
       "  </thead>\n",
       "  <tbody>\n",
       "    <tr>\n",
       "      <th>1356</th>\n",
       "      <td>Detchd</td>\n",
       "      <td>nan</td>\n",
       "      <td>NaN</td>\n",
       "      <td>1.00</td>\n",
       "      <td>360.00</td>\n",
       "      <td>NaN</td>\n",
       "      <td>NaN</td>\n",
       "    </tr>\n",
       "    <tr>\n",
       "      <th>2236</th>\n",
       "      <td>Detchd</td>\n",
       "      <td>nan</td>\n",
       "      <td>NaN</td>\n",
       "      <td>nan</td>\n",
       "      <td>nan</td>\n",
       "      <td>NaN</td>\n",
       "      <td>NaN</td>\n",
       "    </tr>\n",
       "  </tbody>\n",
       "</table>\n",
       "</div>"
      ],
      "text/plain": [
       "     Garage Type        Garage Yr Blt Garage Finish          Garage Cars  \\\n",
       "1356      Detchd                  nan           NaN                 1.00   \n",
       "2236      Detchd                  nan           NaN                  nan   \n",
       "\n",
       "              Garage Area Garage Qual Garage Cond  \n",
       "1356               360.00         NaN         NaN  \n",
       "2236                  nan         NaN         NaN  "
      ]
     },
     "execution_count": 14,
     "metadata": {},
     "output_type": "execute_result"
    }
   ],
   "source": [
    "dataset[~pd.isna(dataset['Garage Type']) & \n",
    "        pd.isna(dataset['Garage Qual'])][garage_columns]\n"
   ]
  },
  {
   "cell_type": "code",
   "execution_count": 15,
   "metadata": {},
   "outputs": [],
   "source": [
    "dataset['Garage Cars'].fillna(0, inplace=True)\n",
    "dataset['Garage Area'].fillna(0, inplace=True)\n",
    "\n",
    "dataset.loc[~pd.isna(dataset['Garage Type']) & \n",
    "            pd.isna(dataset['Garage Qual']), \"Garage Type\"] = \"No Garage\"\n",
    "\n",
    "for col in ['Garage Type', 'Garage Finish', 'Garage Qual', 'Garage Cond']:\n",
    "    dataset[col].fillna('No Garage', inplace=True)\n",
    "    \n",
    "dataset['Garage Yr Blt'].fillna(0, inplace=True)"
   ]
  },
  {
   "cell_type": "code",
   "execution_count": 16,
   "metadata": {},
   "outputs": [
    {
     "data": {
      "text/html": [
       "<div>\n",
       "<style scoped>\n",
       "    .dataframe tbody tr th:only-of-type {\n",
       "        vertical-align: middle;\n",
       "    }\n",
       "\n",
       "    .dataframe tbody tr th {\n",
       "        vertical-align: top;\n",
       "    }\n",
       "\n",
       "    .dataframe thead th {\n",
       "        text-align: right;\n",
       "    }\n",
       "</style>\n",
       "<table border=\"1\" class=\"dataframe\">\n",
       "  <thead>\n",
       "    <tr style=\"text-align: right;\">\n",
       "      <th></th>\n",
       "      <th>Bsmt Qual</th>\n",
       "      <th>Bsmt Cond</th>\n",
       "      <th>Bsmt Exposure</th>\n",
       "      <th>BsmtFin Type 1</th>\n",
       "      <th>BsmtFin SF 1</th>\n",
       "      <th>BsmtFin Type 2</th>\n",
       "      <th>BsmtFin SF 2</th>\n",
       "      <th>Bsmt Unf SF</th>\n",
       "      <th>Total Bsmt SF</th>\n",
       "      <th>Bsmt Full Bath</th>\n",
       "      <th>Bsmt Half Bath</th>\n",
       "    </tr>\n",
       "  </thead>\n",
       "  <tbody>\n",
       "    <tr>\n",
       "      <th>1341</th>\n",
       "      <td>NaN</td>\n",
       "      <td>NaN</td>\n",
       "      <td>NaN</td>\n",
       "      <td>NaN</td>\n",
       "      <td>nan</td>\n",
       "      <td>NaN</td>\n",
       "      <td>nan</td>\n",
       "      <td>nan</td>\n",
       "      <td>nan</td>\n",
       "      <td>nan</td>\n",
       "      <td>nan</td>\n",
       "    </tr>\n",
       "    <tr>\n",
       "      <th>1497</th>\n",
       "      <td>NaN</td>\n",
       "      <td>NaN</td>\n",
       "      <td>NaN</td>\n",
       "      <td>NaN</td>\n",
       "      <td>0.00</td>\n",
       "      <td>NaN</td>\n",
       "      <td>0.00</td>\n",
       "      <td>0.00</td>\n",
       "      <td>0.00</td>\n",
       "      <td>nan</td>\n",
       "      <td>nan</td>\n",
       "    </tr>\n",
       "  </tbody>\n",
       "</table>\n",
       "</div>"
      ],
      "text/plain": [
       "     Bsmt Qual Bsmt Cond Bsmt Exposure BsmtFin Type 1         BsmtFin SF 1  \\\n",
       "1341       NaN       NaN           NaN            NaN                  nan   \n",
       "1497       NaN       NaN           NaN            NaN                 0.00   \n",
       "\n",
       "     BsmtFin Type 2         BsmtFin SF 2          Bsmt Unf SF  \\\n",
       "1341            NaN                  nan                  nan   \n",
       "1497            NaN                 0.00                 0.00   \n",
       "\n",
       "            Total Bsmt SF       Bsmt Full Bath       Bsmt Half Bath  \n",
       "1341                  nan                  nan                  nan  \n",
       "1497                 0.00                  nan                  nan  "
      ]
     },
     "execution_count": 16,
     "metadata": {},
     "output_type": "execute_result"
    }
   ],
   "source": [
    "bsmt_columns = [col for col in dataset.columns if \"Bsmt\" in col]\n",
    "dataset[dataset['Bsmt Half Bath'].isna()][bsmt_columns]\n"
   ]
  },
  {
   "cell_type": "code",
   "execution_count": 17,
   "metadata": {},
   "outputs": [
    {
     "data": {
      "text/html": [
       "<div>\n",
       "<style scoped>\n",
       "    .dataframe tbody tr th:only-of-type {\n",
       "        vertical-align: middle;\n",
       "    }\n",
       "\n",
       "    .dataframe tbody tr th {\n",
       "        vertical-align: top;\n",
       "    }\n",
       "\n",
       "    .dataframe thead th {\n",
       "        text-align: right;\n",
       "    }\n",
       "</style>\n",
       "<table border=\"1\" class=\"dataframe\">\n",
       "  <thead>\n",
       "    <tr style=\"text-align: right;\">\n",
       "      <th></th>\n",
       "      <th>Bsmt Qual</th>\n",
       "      <th>Bsmt Cond</th>\n",
       "      <th>Bsmt Exposure</th>\n",
       "      <th>BsmtFin Type 1</th>\n",
       "      <th>BsmtFin SF 1</th>\n",
       "      <th>BsmtFin Type 2</th>\n",
       "      <th>BsmtFin SF 2</th>\n",
       "      <th>Bsmt Unf SF</th>\n",
       "      <th>Total Bsmt SF</th>\n",
       "      <th>Bsmt Full Bath</th>\n",
       "      <th>Bsmt Half Bath</th>\n",
       "    </tr>\n",
       "  </thead>\n",
       "  <tbody>\n",
       "    <tr>\n",
       "      <th>66</th>\n",
       "      <td>Gd</td>\n",
       "      <td>TA</td>\n",
       "      <td>NaN</td>\n",
       "      <td>Unf</td>\n",
       "      <td>0.00</td>\n",
       "      <td>Unf</td>\n",
       "      <td>0.00</td>\n",
       "      <td>1595.00</td>\n",
       "      <td>1595.00</td>\n",
       "      <td>0.00</td>\n",
       "      <td>0.00</td>\n",
       "    </tr>\n",
       "    <tr>\n",
       "      <th>1796</th>\n",
       "      <td>Gd</td>\n",
       "      <td>TA</td>\n",
       "      <td>NaN</td>\n",
       "      <td>Unf</td>\n",
       "      <td>0.00</td>\n",
       "      <td>Unf</td>\n",
       "      <td>0.00</td>\n",
       "      <td>725.00</td>\n",
       "      <td>725.00</td>\n",
       "      <td>0.00</td>\n",
       "      <td>0.00</td>\n",
       "    </tr>\n",
       "    <tr>\n",
       "      <th>2779</th>\n",
       "      <td>Gd</td>\n",
       "      <td>TA</td>\n",
       "      <td>NaN</td>\n",
       "      <td>Unf</td>\n",
       "      <td>0.00</td>\n",
       "      <td>Unf</td>\n",
       "      <td>0.00</td>\n",
       "      <td>936.00</td>\n",
       "      <td>936.00</td>\n",
       "      <td>0.00</td>\n",
       "      <td>0.00</td>\n",
       "    </tr>\n",
       "  </tbody>\n",
       "</table>\n",
       "</div>"
      ],
      "text/plain": [
       "     Bsmt Qual Bsmt Cond Bsmt Exposure BsmtFin Type 1         BsmtFin SF 1  \\\n",
       "66          Gd        TA           NaN            Unf                 0.00   \n",
       "1796        Gd        TA           NaN            Unf                 0.00   \n",
       "2779        Gd        TA           NaN            Unf                 0.00   \n",
       "\n",
       "     BsmtFin Type 2         BsmtFin SF 2          Bsmt Unf SF  \\\n",
       "66              Unf                 0.00              1595.00   \n",
       "1796            Unf                 0.00               725.00   \n",
       "2779            Unf                 0.00               936.00   \n",
       "\n",
       "            Total Bsmt SF       Bsmt Full Bath       Bsmt Half Bath  \n",
       "66                1595.00                 0.00                 0.00  \n",
       "1796               725.00                 0.00                 0.00  \n",
       "2779               936.00                 0.00                 0.00  "
      ]
     },
     "execution_count": 17,
     "metadata": {},
     "output_type": "execute_result"
    }
   ],
   "source": [
    "dataset[~pd.isna(dataset['Bsmt Cond']) & \n",
    "        pd.isna(dataset['Bsmt Exposure'])][bsmt_columns]\n"
   ]
  },
  {
   "cell_type": "code",
   "execution_count": 18,
   "metadata": {},
   "outputs": [
    {
     "data": {
      "text/html": [
       "<div>\n",
       "<style scoped>\n",
       "    .dataframe tbody tr th:only-of-type {\n",
       "        vertical-align: middle;\n",
       "    }\n",
       "\n",
       "    .dataframe tbody tr th {\n",
       "        vertical-align: top;\n",
       "    }\n",
       "\n",
       "    .dataframe thead th {\n",
       "        text-align: right;\n",
       "    }\n",
       "</style>\n",
       "<table border=\"1\" class=\"dataframe\">\n",
       "  <thead>\n",
       "    <tr style=\"text-align: right;\">\n",
       "      <th></th>\n",
       "      <th>Bsmt Qual</th>\n",
       "      <th>Bsmt Cond</th>\n",
       "      <th>Bsmt Exposure</th>\n",
       "      <th>BsmtFin Type 1</th>\n",
       "      <th>BsmtFin SF 1</th>\n",
       "      <th>BsmtFin Type 2</th>\n",
       "      <th>BsmtFin SF 2</th>\n",
       "      <th>Bsmt Unf SF</th>\n",
       "      <th>Total Bsmt SF</th>\n",
       "      <th>Bsmt Full Bath</th>\n",
       "      <th>Bsmt Half Bath</th>\n",
       "    </tr>\n",
       "  </thead>\n",
       "  <tbody>\n",
       "    <tr>\n",
       "      <th>444</th>\n",
       "      <td>Gd</td>\n",
       "      <td>TA</td>\n",
       "      <td>No</td>\n",
       "      <td>GLQ</td>\n",
       "      <td>1124.00</td>\n",
       "      <td>NaN</td>\n",
       "      <td>479.00</td>\n",
       "      <td>1603.00</td>\n",
       "      <td>3206.00</td>\n",
       "      <td>1.00</td>\n",
       "      <td>0.00</td>\n",
       "    </tr>\n",
       "  </tbody>\n",
       "</table>\n",
       "</div>"
      ],
      "text/plain": [
       "    Bsmt Qual Bsmt Cond Bsmt Exposure BsmtFin Type 1         BsmtFin SF 1  \\\n",
       "444        Gd        TA            No            GLQ              1124.00   \n",
       "\n",
       "    BsmtFin Type 2         BsmtFin SF 2          Bsmt Unf SF  \\\n",
       "444            NaN               479.00              1603.00   \n",
       "\n",
       "           Total Bsmt SF       Bsmt Full Bath       Bsmt Half Bath  \n",
       "444              3206.00                 1.00                 0.00  "
      ]
     },
     "execution_count": 18,
     "metadata": {},
     "output_type": "execute_result"
    }
   ],
   "source": [
    "dataset[~pd.isna(dataset['Bsmt Cond']) & \n",
    "        pd.isna(dataset['BsmtFin Type 2'])][bsmt_columns]\n"
   ]
  },
  {
   "cell_type": "code",
   "execution_count": 19,
   "metadata": {},
   "outputs": [],
   "source": [
    "for col in [\"Bsmt Half Bath\", \"Bsmt Full Bath\", \"Total Bsmt SF\", \n",
    "            \"Bsmt Unf SF\", \"BsmtFin SF 2\", \"BsmtFin SF 1\"]:\n",
    "    dataset[col].fillna(0, inplace=True)\n",
    "\n",
    "dataset.loc[~pd.isna(dataset['Bsmt Cond']) & \n",
    "            pd.isna(dataset['Bsmt Exposure']), \"Bsmt Exposure\"] = \"No\"\n",
    "dataset.loc[~pd.isna(dataset['Bsmt Cond']) & \n",
    "            pd.isna(dataset['BsmtFin Type 2']), \"BsmtFin Type 2\"] = \"Unf\"\n",
    "\n",
    "for col in [\"Bsmt Exposure\", \"BsmtFin Type 2\", \n",
    "            \"BsmtFin Type 1\", \"Bsmt Qual\", \"Bsmt Cond\"]:\n",
    "    dataset[col].fillna(\"No Basement\", inplace=True)\n"
   ]
  },
  {
   "cell_type": "code",
   "execution_count": 20,
   "metadata": {},
   "outputs": [],
   "source": [
    "dataset['Mas Vnr Area'].fillna(0, inplace=True)\n",
    "dataset['Mas Vnr Type'].fillna(\"None\", inplace=True)\n"
   ]
  },
  {
   "cell_type": "code",
   "execution_count": 21,
   "metadata": {},
   "outputs": [],
   "source": [
    "dataset['Electrical'].fillna(dataset['Electrical'].mode()[0], inplace=True)\n"
   ]
  },
  {
   "cell_type": "code",
   "execution_count": 22,
   "metadata": {},
   "outputs": [
    {
     "data": {
      "text/plain": [
       "0"
      ]
     },
     "execution_count": 22,
     "metadata": {},
     "output_type": "execute_result"
    }
   ],
   "source": [
    "dataset.isna().values.sum()\n"
   ]
  },
  {
   "cell_type": "markdown",
   "metadata": {},
   "source": [
    "# Outlier Removal"
   ]
  },
  {
   "cell_type": "code",
   "execution_count": 23,
   "metadata": {},
   "outputs": [
    {
     "data": {
      "image/png": "[encoded data removed]",
      "text/plain": [
       "<Figure size 432x288 with 1 Axes>"
      ]
     },
     "metadata": {
      "needs_background": "light"
     },
     "output_type": "display_data"
    }
   ],
   "source": [
    "from matplotlib import pyplot as plt\n",
    "import seaborn as sns\n",
    "\n",
    "plt.scatter(x=dataset['Gr Liv Area'], y=dataset['SalePrice'], \n",
    "            color=\"orange\", edgecolors=\"#000000\", linewidths=0.5);\n",
    "plt.xlabel(\"Gr Liv Area\"); plt.ylabel(\"SalePrice\");\n"
   ]
  },
  {
   "cell_type": "code",
   "execution_count": 24,
   "metadata": {},
   "outputs": [
    {
     "data": {
      "text/html": [
       "<div>\n",
       "<style scoped>\n",
       "    .dataframe tbody tr th:only-of-type {\n",
       "        vertical-align: middle;\n",
       "    }\n",
       "\n",
       "    .dataframe tbody tr th {\n",
       "        vertical-align: top;\n",
       "    }\n",
       "\n",
       "    .dataframe thead th {\n",
       "        text-align: right;\n",
       "    }\n",
       "</style>\n",
       "<table border=\"1\" class=\"dataframe\">\n",
       "  <thead>\n",
       "    <tr style=\"text-align: right;\">\n",
       "      <th></th>\n",
       "      <th>Gr Liv Area</th>\n",
       "      <th>Sale Type</th>\n",
       "      <th>Sale Condition</th>\n",
       "      <th>SalePrice</th>\n",
       "    </tr>\n",
       "  </thead>\n",
       "  <tbody>\n",
       "    <tr>\n",
       "      <th>1498</th>\n",
       "      <td>5642</td>\n",
       "      <td>New</td>\n",
       "      <td>Partial</td>\n",
       "      <td>160000</td>\n",
       "    </tr>\n",
       "    <tr>\n",
       "      <th>1760</th>\n",
       "      <td>4476</td>\n",
       "      <td>WD</td>\n",
       "      <td>Abnorml</td>\n",
       "      <td>745000</td>\n",
       "    </tr>\n",
       "    <tr>\n",
       "      <th>1767</th>\n",
       "      <td>4316</td>\n",
       "      <td>WD</td>\n",
       "      <td>Normal</td>\n",
       "      <td>755000</td>\n",
       "    </tr>\n",
       "    <tr>\n",
       "      <th>2180</th>\n",
       "      <td>5095</td>\n",
       "      <td>New</td>\n",
       "      <td>Partial</td>\n",
       "      <td>183850</td>\n",
       "    </tr>\n",
       "    <tr>\n",
       "      <th>2181</th>\n",
       "      <td>4676</td>\n",
       "      <td>New</td>\n",
       "      <td>Partial</td>\n",
       "      <td>184750</td>\n",
       "    </tr>\n",
       "  </tbody>\n",
       "</table>\n",
       "</div>"
      ],
      "text/plain": [
       "      Gr Liv Area Sale Type Sale Condition  SalePrice\n",
       "1498         5642       New        Partial     160000\n",
       "1760         4476       WD         Abnorml     745000\n",
       "1767         4316       WD          Normal     755000\n",
       "2180         5095       New        Partial     183850\n",
       "2181         4676       New        Partial     184750"
      ]
     },
     "execution_count": 24,
     "metadata": {},
     "output_type": "execute_result"
    }
   ],
   "source": [
    "outlirt_columns = [\"Gr Liv Area\"] + \\\n",
    "                  [col for col in dataset.columns if \"Sale\" in col]\n",
    "dataset[dataset[\"Gr Liv Area\"] > 4000][outlirt_columns]"
   ]
  },
  {
   "cell_type": "code",
   "execution_count": 25,
   "metadata": {},
   "outputs": [],
   "source": [
    "dataset = dataset[dataset[\"Gr Liv Area\"] < 4000]\n"
   ]
  },
  {
   "cell_type": "code",
   "execution_count": 26,
   "metadata": {},
   "outputs": [
    {
     "data": {
      "image/png": "[encoded data removed]",
      "text/plain": [
       "<Figure size 432x288 with 1 Axes>"
      ]
     },
     "metadata": {
      "needs_background": "light"
     },
     "output_type": "display_data"
    }
   ],
   "source": [
    "plt.scatter(x=dataset['Gr Liv Area'], y=dataset['SalePrice'], \n",
    "            color=\"orange\", edgecolors=\"#000000\", linewidths=0.5);\n",
    "plt.xlabel(\"Gr Liv Area\"); plt.ylabel(\"SalePrice\");"
   ]
  },
  {
   "cell_type": "code",
   "execution_count": 27,
   "metadata": {},
   "outputs": [],
   "source": [
    "dataset.reset_index(drop=True, inplace=True)\n"
   ]
  },
  {
   "cell_type": "code",
   "execution_count": 28,
   "metadata": {},
   "outputs": [],
   "source": [
    "dataset.drop(['Order', 'PID'], axis=1, inplace=True)\n"
   ]
  },
  {
   "cell_type": "markdown",
   "metadata": {},
   "source": [
    "# Exploratory Data Analysis"
   ]
  },
  {
   "cell_type": "code",
   "execution_count": 29,
   "metadata": {},
   "outputs": [
    {
     "data": {
      "image/png": "[encoded data removed]",
      "text/plain": [
       "<Figure size 432x288 with 1 Axes>"
      ]
     },
     "metadata": {
      "needs_background": "light"
     },
     "output_type": "display_data"
    }
   ],
   "source": [
    "sns.violinplot(x=dataset['SalePrice'], inner=\"quartile\", color=\"#36B37E\");\n"
   ]
  },
  {
   "cell_type": "code",
   "execution_count": 30,
   "metadata": {},
   "outputs": [
    {
     "data": {
      "image/png": "[encoded data removed]",
      "text/plain": [
       "<Figure size 432x288 with 1 Axes>"
      ]
     },
     "metadata": {
      "needs_background": "light"
     },
     "output_type": "display_data"
    }
   ],
   "source": [
    "sns.boxplot(dataset['SalePrice'], whis=10, color=\"#00B8D9\");\n"
   ]
  },
  {
   "cell_type": "code",
   "execution_count": 31,
   "metadata": {},
   "outputs": [
    {
     "data": {
      "image/png": "[encoded data removed]",
      "text/plain": [
       "<Figure size 432x288 with 1 Axes>"
      ]
     },
     "metadata": {
      "needs_background": "light"
     },
     "output_type": "display_data"
    }
   ],
   "source": [
    "sns.distplot(dataset['SalePrice'], kde=False, \n",
    "             color=\"#172B4D\", hist_kws={\"alpha\": 0.8});\n",
    "plt.ylabel(\"Count\");\n"
   ]
  },
  {
   "cell_type": "code",
   "execution_count": 32,
   "metadata": {},
   "outputs": [
    {
     "data": {
      "image/png": "[encoded data removed]",
      "text/plain": [
       "<Figure size 864x648 with 2 Axes>"
      ]
     },
     "metadata": {
      "needs_background": "light"
     },
     "output_type": "display_data"
    }
   ],
   "source": [
    "fig, ax = plt.subplots(figsize=(12,9))\n",
    "sns.heatmap(dataset.corr(), ax=ax);"
   ]
  },
  {
   "cell_type": "code",
   "execution_count": 33,
   "metadata": {},
   "outputs": [
    {
     "data": {
      "image/png": "[encoded data removed]",
      "text/plain": [
       "<Figure size 432x288 with 1 Axes>"
      ]
     },
     "metadata": {
      "needs_background": "light"
     },
     "output_type": "display_data"
    }
   ],
   "source": [
    "sns.distplot(dataset['SalePrice'], kde=False, \n",
    "             color=\"#172B4D\", hist_kws={\"alpha\": 0.8});\n",
    "plt.ylabel(\"Count\");"
   ]
  },
  {
   "cell_type": "code",
   "execution_count": 34,
   "metadata": {},
   "outputs": [
    {
     "data": {
      "image/png": "[encoded data removed]",
      "text/plain": [
       "<Figure size 432x288 with 1 Axes>"
      ]
     },
     "metadata": {
      "needs_background": "light"
     },
     "output_type": "display_data"
    }
   ],
   "source": [
    "sns.distplot(dataset['Overall Qual'], kde=False, \n",
    "             color=\"#172B4D\", hist_kws={\"alpha\": 1});\n",
    "plt.ylabel(\"Count\");"
   ]
  },
  {
   "cell_type": "code",
   "execution_count": 35,
   "metadata": {},
   "outputs": [
    {
     "data": {
      "image/png": "[encoded data removed]",
      "text/plain": [
       "<Figure size 432x288 with 1 Axes>"
      ]
     },
     "metadata": {
      "needs_background": "light"
     },
     "output_type": "display_data"
    }
   ],
   "source": [
    "plt.scatter(x=dataset['Overall Qual'], y=dataset['SalePrice'], \n",
    "            color=\"orange\", edgecolors=\"#000000\", linewidths=0.5);\n",
    "plt.xlabel(\"Overall Qual\"); plt.ylabel(\"SalePrice\");"
   ]
  },
  {
   "cell_type": "code",
   "execution_count": 36,
   "metadata": {},
   "outputs": [
    {
     "data": {
      "image/png": "[encoded data removed]",
      "text/plain": [
       "<Figure size 432x288 with 1 Axes>"
      ]
     },
     "metadata": {
      "needs_background": "light"
     },
     "output_type": "display_data"
    }
   ],
   "source": [
    "sns.distplot(dataset['Gr Liv Area'], kde=False, \n",
    "             color=\"#172B4D\", hist_kws={\"alpha\": 0.8});\n",
    "plt.ylabel(\"Count\");\n"
   ]
  },
  {
   "cell_type": "code",
   "execution_count": 37,
   "metadata": {},
   "outputs": [
    {
     "data": {
      "image/png": "[encoded data removed]",
      "text/plain": [
       "<Figure size 432x288 with 1 Axes>"
      ]
     },
     "metadata": {
      "needs_background": "light"
     },
     "output_type": "display_data"
    }
   ],
   "source": [
    "plt.scatter(x=dataset['Gr Liv Area'], y=dataset['SalePrice'], \n",
    "            color=\"orange\", edgecolors=\"#000000\", linewidths=0.5);\n",
    "plt.xlabel(\"Gr Liv Area\"); plt.ylabel(\"SalePrice\");"
   ]
  },
  {
   "cell_type": "code",
   "execution_count": 38,
   "metadata": {},
   "outputs": [
    {
     "data": {
      "image/png": "[encoded data removed]",
      "text/plain": [
       "<Figure size 1296x360 with 4 Axes>"
      ]
     },
     "metadata": {
      "needs_background": "light"
     },
     "output_type": "display_data"
    }
   ],
   "source": [
    "fig, axes = plt.subplots(1, 4, figsize=(18,5))\n",
    "fig.subplots_adjust(hspace=0.5, wspace=0.6)\n",
    "for ax, v in zip(axes.flat, [\"Year Built\", \"Year Remod/Add\", \n",
    "                             \"Mas Vnr Area\", \"Total Bsmt SF\"]):\n",
    "    sns.distplot(dataset[v], kde=False, color=\"#172B4D\", \n",
    "                 hist_kws={\"alpha\": 0.8}, ax=ax)\n",
    "    ax.set(ylabel=\"Count\");"
   ]
  },
  {
   "cell_type": "code",
   "execution_count": 39,
   "metadata": {},
   "outputs": [
    {
     "data": {
      "image/png": "[encoded data removed]",
      "text/plain": [
       "<Figure size 720x180 with 4 Axes>"
      ]
     },
     "metadata": {
      "needs_background": "light"
     },
     "output_type": "display_data"
    }
   ],
   "source": [
    "x_vars = [\"Year Built\", \"Year Remod/Add\", \"Mas Vnr Area\", \"Total Bsmt SF\"]\n",
    "g = sns.PairGrid(dataset, y_vars=[\"SalePrice\"], x_vars=x_vars);\n",
    "g.map(plt.scatter, color=\"orange\", edgecolors=\"#000000\", linewidths=0.5);"
   ]
  },
  {
   "cell_type": "code",
   "execution_count": 40,
   "metadata": {},
   "outputs": [
    {
     "data": {
      "image/png": "[encoded data removed]",
      "text/plain": [
       "<Figure size 1296x360 with 4 Axes>"
      ]
     },
     "metadata": {
      "needs_background": "light"
     },
     "output_type": "display_data"
    }
   ],
   "source": [
    "fig, axes = plt.subplots(1, 4, figsize=(18,5))\n",
    "fig.subplots_adjust(hspace=0.5, wspace=0.6)\n",
    "for ax, v in zip(axes.flat, [\"1st Flr SF\", \"Full Bath\", \n",
    "                             \"Garage Cars\", \"Garage Area\"]):\n",
    "    sns.distplot(dataset[v], kde=False, color=\"#172B4D\", \n",
    "                 hist_kws={\"alpha\": 0.8}, ax=ax);\n",
    "    ax.set(ylabel=\"Count\");"
   ]
  },
  {
   "cell_type": "code",
   "execution_count": 41,
   "metadata": {},
   "outputs": [
    {
     "data": {
      "image/png": "[encoded data removed]",
      "text/plain": [
       "<Figure size 720x180 with 4 Axes>"
      ]
     },
     "metadata": {
      "needs_background": "light"
     },
     "output_type": "display_data"
    }
   ],
   "source": [
    "x_vars = [\"1st Flr SF\", \"Full Bath\", \"Garage Cars\", \"Garage Area\"]\n",
    "g = sns.PairGrid(dataset, y_vars=[\"SalePrice\"], x_vars=x_vars);\n",
    "g.map(plt.scatter, color=\"orange\", edgecolors=\"#000000\", linewidths=0.5);"
   ]
  },
  {
   "cell_type": "code",
   "execution_count": 42,
   "metadata": {},
   "outputs": [
    {
     "data": {
      "image/png": "[encoded data removed]",
      "text/plain": [
       "<Figure size 432x288 with 1 Axes>"
      ]
     },
     "metadata": {
      "needs_background": "light"
     },
     "output_type": "display_data"
    }
   ],
   "source": [
    "sns.distplot(dataset['TotRms AbvGrd'], kde=False, \n",
    "             color=\"#172B4D\", hist_kws={\"alpha\": 0.8});\n",
    "plt.ylabel(\"Count\");"
   ]
  },
  {
   "cell_type": "code",
   "execution_count": 43,
   "metadata": {},
   "outputs": [
    {
     "data": {
      "image/png": "[encoded data removed]",
      "text/plain": [
       "<Figure size 1080x360 with 4 Axes>"
      ]
     },
     "metadata": {
      "needs_background": "light"
     },
     "output_type": "display_data"
    }
   ],
   "source": [
    "plt.rc(\"grid\", linewidth=0.05)\n",
    "fig, axes = plt.subplots(1, 2, figsize=(15,5))\n",
    "fig.subplots_adjust(hspace=0.5, wspace=0.4)\n",
    "h1 = axes[0].hist2d(dataset[\"Garage Cars\"], \n",
    "                    dataset[\"Garage Area\"],\n",
    "                    cmap=\"viridis\");\n",
    "axes[0].set(xlabel=\"Garage Cars\", ylabel=\"Garage Area\")\n",
    "plt.colorbar(h1[3], ax=axes[0]);\n",
    "h2 = axes[1].hist2d(dataset[\"Gr Liv Area\"], \n",
    "                    dataset[\"TotRms AbvGrd\"],\n",
    "                    cmap=\"viridis\");\n",
    "axes[1].set(xlabel=\"Gr Liv Area\", ylabel=\"TotRms AbvGrd\")\n",
    "plt.colorbar(h1[3], ax=axes[1]);\n",
    "plt.rc(\"grid\", linewidth=0.25)"
   ]
  },
  {
   "cell_type": "code",
   "execution_count": 44,
   "metadata": {},
   "outputs": [
    {
     "data": {
      "image/png": "[encoded data removed]",
      "text/plain": [
       "<Figure size 1152x360 with 3 Axes>"
      ]
     },
     "metadata": {
      "needs_background": "light"
     },
     "output_type": "display_data"
    }
   ],
   "source": [
    "fig, axes = plt.subplots(1, 3, figsize=(16,5))\n",
    "fig.subplots_adjust(hspace=0.5, wspace=0.6)\n",
    "for ax, v in zip(axes.flat, [\"Bsmt Unf SF\", \"BsmtFin SF 1\", \"Bsmt Full Bath\"]):\n",
    "    sns.distplot(dataset[v], kde=False, color=\"#172B4D\", \n",
    "                 hist_kws={\"alpha\": 0.8}, ax=ax);\n",
    "    ax.set(ylabel=\"Count\")"
   ]
  },
  {
   "cell_type": "code",
   "execution_count": 45,
   "metadata": {},
   "outputs": [
    {
     "data": {
      "image/png": "[encoded data removed]",
      "text/plain": [
       "<Figure size 1080x360 with 2 Axes>"
      ]
     },
     "metadata": {
      "needs_background": "light"
     },
     "output_type": "display_data"
    }
   ],
   "source": [
    "fig, axes = plt.subplots(1, 2, figsize=(15,5))\n",
    "fig.subplots_adjust(hspace=0.5, wspace=0.4)\n",
    "axes[0].scatter(dataset[\"Bsmt Unf SF\"], dataset[\"BsmtFin SF 1\"],\n",
    "                color=\"orange\", edgecolors=\"#000000\", linewidths=0.5);\n",
    "axes[0].set(xlabel=\"Bsmt Unf SF\", ylabel=\"BsmtFin SF 1\");\n",
    "axes[1].scatter(dataset[\"Bsmt Unf SF\"], dataset[\"Bsmt Full Bath\"],\n",
    "                color=\"orange\", edgecolors=\"#000000\", linewidths=0.5);\n",
    "axes[1].set(xlabel=\"Bsmt Unf SF\", ylabel=\"Bsmt Full Bath\");"
   ]
  },
  {
   "cell_type": "code",
   "execution_count": 46,
   "metadata": {},
   "outputs": [],
   "source": [
    "for f in [\"Overall Qual\", \"Gr Liv Area\"]:\n",
    "    dataset[f + \"_p2\"] = dataset[f] ** 2\n",
    "    dataset[f + \"_p3\"] = dataset[f] ** 3\n",
    "dataset[\"OverallQual_GrLivArea\"] = \\\n",
    "    dataset[\"Overall Qual\"] * dataset[\"Gr Liv Area\"]\n"
   ]
  },
  {
   "cell_type": "code",
   "execution_count": 47,
   "metadata": {},
   "outputs": [],
   "source": [
    "dataset.drop([\"Garage Cars\", \"TotRms AbvGrd\"], axis=1, inplace=True)\n"
   ]
  },
  {
   "cell_type": "code",
   "execution_count": 48,
   "metadata": {},
   "outputs": [
    {
     "name": "stdout",
     "output_type": "stream",
     "text": [
      "Unique values in 'Bsmt Cond' column:\n",
      "['Gd', 'TA', 'No Basement', 'Po', 'Fa', 'Ex']\n"
     ]
    }
   ],
   "source": [
    "print(\"Unique values in 'Bsmt Cond' column:\")\n",
    "print(dataset['Bsmt Cond'].unique().tolist())\n"
   ]
  },
  {
   "cell_type": "code",
   "execution_count": 49,
   "metadata": {},
   "outputs": [],
   "source": [
    "mp = {'Ex':4,'Gd':3,'TA':2,'Fa':1,'Po':0}\n",
    "dataset['Exter Qual'] = dataset['Exter Qual'].map(mp)\n",
    "dataset['Exter Cond'] = dataset['Exter Cond'].map(mp)\n",
    "dataset['Heating QC'] = dataset['Heating QC'].map(mp)\n",
    "dataset['Kitchen Qual'] = dataset['Kitchen Qual'].map(mp)\n",
    "\n",
    "mp = {'Ex':5,'Gd':4,'TA':3,'Fa':2,'Po':1,'No Basement':0}\n",
    "dataset['Bsmt Qual'] = dataset['Bsmt Qual'].map(mp)\n",
    "dataset['Bsmt Cond'] = dataset['Bsmt Cond'].map(mp)\n",
    "dataset['Bsmt Exposure'] = dataset['Bsmt Exposure'].map(\n",
    "    {'Gd':4,'Av':3,'Mn':2,'No':1,'No Basement':0})\n",
    "\n",
    "mp = {'GLQ':6,'ALQ':5,'BLQ':4,'Rec':3,'LwQ':2,'Unf':1,'No Basement':0}\n",
    "dataset['BsmtFin Type 1'] = dataset['BsmtFin Type 1'].map(mp)\n",
    "dataset['BsmtFin Type 2'] = dataset['BsmtFin Type 2'].map(mp)\n",
    "\n",
    "dataset['Central Air'] = dataset['Central Air'].map({'Y':1,'N':0})\n",
    "dataset['Functional'] = dataset['Functional'].map(\n",
    "    {'Typ':7,'Min1':6,'Min2':5,'Mod':4,'Maj1':3,\n",
    "     'Maj2':2,'Sev':1,'Sal':0})\n",
    "dataset['Fireplace Qu'] = dataset['Fireplace Qu'].map(\n",
    "    {'Ex':5,'Gd':4,'TA':3,'Fa':2,'Po':1,'No Fireplace':0})\n",
    "dataset['Garage Finish'] = dataset['Garage Finish'].map(\n",
    "    {'Fin':3,'RFn':2,'Unf':1,'No Garage':0})\n",
    "dataset['Garage Qual'] = dataset['Garage Qual'].map(\n",
    "    {'Ex':5,'Gd':4,'TA':3,'Fa':2,'Po':1,'No Garage':0})\n",
    "dataset['Garage Cond'] = dataset['Garage Cond'].map(\n",
    "    {'Ex':5,'Gd':4,'TA':3,'Fa':2,'Po':1,'No Garage':0})\n",
    "dataset['Pool QC'] = dataset['Pool QC'].map(\n",
    "    {'Ex':4,'Gd':3,'TA':2,'Fa':1,'No Pool':0})\n",
    "dataset['Land Slope'] = dataset['Land Slope'].map(\n",
    "    {'Sev': 2, 'Mod': 1, 'Gtl': 0})\n",
    "dataset['Fence'] = dataset['Fence'].map(\n",
    "    {'GdPrv':4,'MnPrv':3,'GdWo':2,'MnWw':1,'No Fence':0})\n"
   ]
  },
  {
   "cell_type": "code",
   "execution_count": 50,
   "metadata": {},
   "outputs": [
    {
     "data": {
      "text/html": [
       "<div>\n",
       "<style scoped>\n",
       "    .dataframe tbody tr th:only-of-type {\n",
       "        vertical-align: middle;\n",
       "    }\n",
       "\n",
       "    .dataframe tbody tr th {\n",
       "        vertical-align: top;\n",
       "    }\n",
       "\n",
       "    .dataframe thead th {\n",
       "        text-align: right;\n",
       "    }\n",
       "</style>\n",
       "<table border=\"1\" class=\"dataframe\">\n",
       "  <thead>\n",
       "    <tr style=\"text-align: right;\">\n",
       "      <th></th>\n",
       "      <th>Paved Drive</th>\n",
       "    </tr>\n",
       "  </thead>\n",
       "  <tbody>\n",
       "    <tr>\n",
       "      <th>0</th>\n",
       "      <td>P</td>\n",
       "    </tr>\n",
       "    <tr>\n",
       "      <th>1</th>\n",
       "      <td>Y</td>\n",
       "    </tr>\n",
       "    <tr>\n",
       "      <th>2</th>\n",
       "      <td>Y</td>\n",
       "    </tr>\n",
       "    <tr>\n",
       "      <th>3</th>\n",
       "      <td>Y</td>\n",
       "    </tr>\n",
       "    <tr>\n",
       "      <th>4</th>\n",
       "      <td>Y</td>\n",
       "    </tr>\n",
       "  </tbody>\n",
       "</table>\n",
       "</div>"
      ],
      "text/plain": [
       "  Paved Drive\n",
       "0           P\n",
       "1           Y\n",
       "2           Y\n",
       "3           Y\n",
       "4           Y"
      ]
     },
     "execution_count": 50,
     "metadata": {},
     "output_type": "execute_result"
    }
   ],
   "source": [
    "dataset[['Paved Drive']].head()\n"
   ]
  },
  {
   "cell_type": "code",
   "execution_count": 51,
   "metadata": {},
   "outputs": [],
   "source": [
    "dataset = pd.get_dummies(dataset)\n"
   ]
  },
  {
   "cell_type": "code",
   "execution_count": 52,
   "metadata": {},
   "outputs": [
    {
     "data": {
      "text/html": [
       "<div>\n",
       "<style scoped>\n",
       "    .dataframe tbody tr th:only-of-type {\n",
       "        vertical-align: middle;\n",
       "    }\n",
       "\n",
       "    .dataframe tbody tr th {\n",
       "        vertical-align: top;\n",
       "    }\n",
       "\n",
       "    .dataframe thead th {\n",
       "        text-align: right;\n",
       "    }\n",
       "</style>\n",
       "<table border=\"1\" class=\"dataframe\">\n",
       "  <thead>\n",
       "    <tr style=\"text-align: right;\">\n",
       "      <th></th>\n",
       "      <th>Paved Drive_N</th>\n",
       "      <th>Paved Drive_P</th>\n",
       "      <th>Paved Drive_Y</th>\n",
       "    </tr>\n",
       "  </thead>\n",
       "  <tbody>\n",
       "    <tr>\n",
       "      <th>0</th>\n",
       "      <td>0</td>\n",
       "      <td>1</td>\n",
       "      <td>0</td>\n",
       "    </tr>\n",
       "    <tr>\n",
       "      <th>1</th>\n",
       "      <td>0</td>\n",
       "      <td>0</td>\n",
       "      <td>1</td>\n",
       "    </tr>\n",
       "    <tr>\n",
       "      <th>2</th>\n",
       "      <td>0</td>\n",
       "      <td>0</td>\n",
       "      <td>1</td>\n",
       "    </tr>\n",
       "    <tr>\n",
       "      <th>3</th>\n",
       "      <td>0</td>\n",
       "      <td>0</td>\n",
       "      <td>1</td>\n",
       "    </tr>\n",
       "    <tr>\n",
       "      <th>4</th>\n",
       "      <td>0</td>\n",
       "      <td>0</td>\n",
       "      <td>1</td>\n",
       "    </tr>\n",
       "  </tbody>\n",
       "</table>\n",
       "</div>"
      ],
      "text/plain": [
       "   Paved Drive_N  Paved Drive_P  Paved Drive_Y\n",
       "0              0              1              0\n",
       "1              0              0              1\n",
       "2              0              0              1\n",
       "3              0              0              1\n",
       "4              0              0              1"
      ]
     },
     "execution_count": 52,
     "metadata": {},
     "output_type": "execute_result"
    }
   ],
   "source": [
    "pavedDrive_oneHot = [c for c in dataset.columns if c.startswith(\"Paved\")]\n",
    "dataset[pavedDrive_oneHot].head()"
   ]
  },
  {
   "cell_type": "markdown",
   "metadata": {},
   "source": [
    "# Prediction Type and Modeling Techniques"
   ]
  },
  {
   "cell_type": "code",
   "execution_count": 53,
   "metadata": {},
   "outputs": [
    {
     "data": {
      "text/html": [
       "<div>\n",
       "<style scoped>\n",
       "    .dataframe tbody tr th:only-of-type {\n",
       "        vertical-align: middle;\n",
       "    }\n",
       "\n",
       "    .dataframe tbody tr th {\n",
       "        vertical-align: top;\n",
       "    }\n",
       "\n",
       "    .dataframe thead th {\n",
       "        text-align: right;\n",
       "    }\n",
       "</style>\n",
       "<table border=\"1\" class=\"dataframe\">\n",
       "  <thead>\n",
       "    <tr style=\"text-align: right;\">\n",
       "      <th></th>\n",
       "      <th>SalePrice</th>\n",
       "    </tr>\n",
       "  </thead>\n",
       "  <tbody>\n",
       "    <tr>\n",
       "      <th>0</th>\n",
       "      <td>215000</td>\n",
       "    </tr>\n",
       "    <tr>\n",
       "      <th>1</th>\n",
       "      <td>105000</td>\n",
       "    </tr>\n",
       "    <tr>\n",
       "      <th>2</th>\n",
       "      <td>172000</td>\n",
       "    </tr>\n",
       "    <tr>\n",
       "      <th>3</th>\n",
       "      <td>244000</td>\n",
       "    </tr>\n",
       "    <tr>\n",
       "      <th>4</th>\n",
       "      <td>189900</td>\n",
       "    </tr>\n",
       "  </tbody>\n",
       "</table>\n",
       "</div>"
      ],
      "text/plain": [
       "   SalePrice\n",
       "0     215000\n",
       "1     105000\n",
       "2     172000\n",
       "3     244000\n",
       "4     189900"
      ]
     },
     "execution_count": 53,
     "metadata": {},
     "output_type": "execute_result"
    }
   ],
   "source": [
    "dataset[['SalePrice']].head()\n"
   ]
  },
  {
   "cell_type": "code",
   "execution_count": 54,
   "metadata": {},
   "outputs": [],
   "source": [
    "from sklearn.preprocessing import StandardScaler\n",
    "\n",
    "scaler = StandardScaler()\n",
    "# We need to fit the scaler to our data before transformation\n",
    "dataset.loc[:, dataset.columns != 'SalePrice'] = scaler.fit_transform(\n",
    "    dataset.loc[:, dataset.columns != 'SalePrice'])\n"
   ]
  },
  {
   "cell_type": "code",
   "execution_count": 55,
   "metadata": {},
   "outputs": [],
   "source": [
    "from sklearn.model_selection import train_test_split\n",
    "\n",
    "X_train, X_test, y_train, y_test = train_test_split(\n",
    "    dataset.drop('SalePrice', axis=1), dataset[['SalePrice']], \n",
    "    test_size=0.25, random_state=3)\n"
   ]
  },
  {
   "cell_type": "markdown",
   "metadata": {},
   "source": [
    "### Ridge Regression"
   ]
  },
  {
   "cell_type": "code",
   "execution_count": 60,
   "metadata": {},
   "outputs": [
    {
     "name": "stdout",
     "output_type": "stream",
     "text": [
      "Best parameters:\n",
      "{'alpha': 290, 'fit_intercept': True, 'solver': 'cholesky'}\n"
     ]
    }
   ],
   "source": [
    "from sklearn.model_selection import GridSearchCV\n",
    "from sklearn.linear_model import Ridge\n",
    "\n",
    "parameter_space = {\n",
    "    \"alpha\": [1, 10, 100, 290, 500],\n",
    "    \"fit_intercept\": [True, False],\n",
    "    \"solver\": ['svd', 'cholesky', 'lsqr', 'sparse_cg', 'sag', 'saga'],\n",
    "}\n",
    "\n",
    "clf = GridSearchCV(Ridge(random_state=3), parameter_space, n_jobs=4,\n",
    "                   cv=3, scoring=\"neg_mean_absolute_error\")\n",
    "\n",
    "clf.fit(X_train, y_train)\n",
    "print(\"Best parameters:\")\n",
    "print(clf.best_params_)\n"
   ]
  },
  {
   "cell_type": "code",
   "execution_count": 61,
   "metadata": {},
   "outputs": [],
   "source": [
    "ridge_model = Ridge(random_state=3, **clf.best_params_)\n"
   ]
  },
  {
   "cell_type": "code",
   "execution_count": 62,
   "metadata": {},
   "outputs": [],
   "source": [
    "ridge_model.fit(X_train, y_train);\n"
   ]
  },
  {
   "cell_type": "code",
   "execution_count": 63,
   "metadata": {},
   "outputs": [
    {
     "name": "stdout",
     "output_type": "stream",
     "text": [
      "Ridge MAE = 15270.463549642733\n"
     ]
    }
   ],
   "source": [
    "from sklearn.metrics import mean_absolute_error\n",
    "\n",
    "y_pred = ridge_model.predict(X_test)\n",
    "ridge_mae = mean_absolute_error(y_test, y_pred)\n",
    "print(\"Ridge MAE =\", ridge_mae)\n"
   ]
  },
  {
   "cell_type": "markdown",
   "metadata": {},
   "source": [
    "### Elastic Net"
   ]
  },
  {
   "cell_type": "code",
   "execution_count": 64,
   "metadata": {},
   "outputs": [
    {
     "name": "stdout",
     "output_type": "stream",
     "text": [
      "Best parameters:\n",
      "{'alpha': 280, 'fit_intercept': True, 'l1_ratio': 1}\n"
     ]
    }
   ],
   "source": [
    "from sklearn.linear_model import ElasticNet\n",
    "\n",
    "parameter_space = {\n",
    "    \"alpha\": [1, 10, 100, 280, 500],\n",
    "    \"l1_ratio\": [0.5, 1],\n",
    "    \"fit_intercept\": [True, False],\n",
    "}\n",
    "\n",
    "clf = GridSearchCV(ElasticNet(random_state=3), parameter_space, \n",
    "                   n_jobs=4, cv=3, scoring=\"neg_mean_absolute_error\")\n",
    "\n",
    "clf.fit(X_train, y_train)\n",
    "print(\"Best parameters:\")\n",
    "print(clf.best_params_)\n"
   ]
  },
  {
   "cell_type": "code",
   "execution_count": 65,
   "metadata": {},
   "outputs": [],
   "source": [
    "elasticNet_model = ElasticNet(random_state=3, **clf.best_params_)\n"
   ]
  },
  {
   "cell_type": "code",
   "execution_count": 66,
   "metadata": {},
   "outputs": [],
   "source": [
    "elasticNet_model.fit(X_train, y_train);\n"
   ]
  },
  {
   "cell_type": "code",
   "execution_count": 67,
   "metadata": {},
   "outputs": [
    {
     "name": "stdout",
     "output_type": "stream",
     "text": [
      "Elastic Net MAE = 14767.90981933659\n"
     ]
    }
   ],
   "source": [
    "y_pred = elasticNet_model.predict(X_test)\n",
    "elasticNet_mae = mean_absolute_error(y_test, y_pred)\n",
    "print(\"Elastic Net MAE =\", elasticNet_mae)\n"
   ]
  },
  {
   "cell_type": "markdown",
   "metadata": {},
   "source": [
    "### Nearest Neighbours"
   ]
  },
  {
   "cell_type": "code",
   "execution_count": 68,
   "metadata": {},
   "outputs": [
    {
     "name": "stdout",
     "output_type": "stream",
     "text": [
      "Best parameters:\n",
      "{'algorithm': 'ball_tree', 'leaf_size': 1, 'n_neighbors': 10, 'weights': 'distance'}\n"
     ]
    }
   ],
   "source": [
    "from sklearn.neighbors import KNeighborsRegressor\n",
    "\n",
    "parameter_space = {\n",
    "    \"n_neighbors\": [9, 10, 11,50],\n",
    "    \"weights\": [\"uniform\", \"distance\"],\n",
    "    \"algorithm\": [\"ball_tree\", \"kd_tree\", \"brute\"],\n",
    "    \"leaf_size\": [1,2,20,50,200]\n",
    "}\n",
    "\n",
    "clf = GridSearchCV(KNeighborsRegressor(), parameter_space, cv=3, \n",
    "                   scoring=\"neg_mean_absolute_error\", n_jobs=4)\n",
    "\n",
    "clf.fit(X_train, y_train)\n",
    "print(\"Best parameters:\")\n",
    "print(clf.best_params_)\n"
   ]
  },
  {
   "cell_type": "code",
   "execution_count": 69,
   "metadata": {},
   "outputs": [],
   "source": [
    "knn_model = KNeighborsRegressor(**clf.best_params_)\n"
   ]
  },
  {
   "cell_type": "code",
   "execution_count": 70,
   "metadata": {},
   "outputs": [],
   "source": [
    "knn_model.fit(X_train, y_train);\n"
   ]
  },
  {
   "cell_type": "code",
   "execution_count": 71,
   "metadata": {},
   "outputs": [
    {
     "name": "stdout",
     "output_type": "stream",
     "text": [
      "K-Nearest Neighbors MAE = 22780.14347886256\n"
     ]
    }
   ],
   "source": [
    "y_pred = knn_model.predict(X_test)\n",
    "knn_mae = mean_absolute_error(y_test, y_pred)\n",
    "print(\"K-Nearest Neighbors MAE =\", knn_mae)\n"
   ]
  },
  {
   "cell_type": "markdown",
   "metadata": {},
   "source": [
    "### Support Vector Regression"
   ]
  },
  {
   "cell_type": "code",
   "execution_count": 72,
   "metadata": {},
   "outputs": [
    {
     "name": "stderr",
     "output_type": "stream",
     "text": [
      "/home/ming/miniconda3/envs/data1/lib/python3.8/site-packages/sklearn/utils/validation.py:73: DataConversionWarning: A column-vector y was passed when a 1d array was expected. Please change the shape of y to (n_samples, ), for example using ravel().\n",
      "  return f(**kwargs)\n"
     ]
    },
    {
     "name": "stdout",
     "output_type": "stream",
     "text": [
      "Best parameters:\n",
      "{'C': 100, 'coef0': 3, 'degree': 5, 'gamma': 0.004132231404958678, 'kernel': 'poly'}\n"
     ]
    }
   ],
   "source": [
    "from sklearn.model_selection import RandomizedSearchCV\n",
    "from sklearn.svm import SVR\n",
    "\n",
    "parameter_space = \\\n",
    "    {\n",
    "        \"kernel\": [\"poly\", \"linear\", \"rbf\", \"sigmoid\"],\n",
    "        \"degree\": [3, 5],\n",
    "        \"coef0\": [0, 3, 7],\n",
    "        \"gamma\":[1e-3, 1e-1, 1/X_train.shape[1]],\n",
    "        \"C\": [1, 10, 100],\n",
    "    }\n",
    "\n",
    "clf = GridSearchCV(SVR(), parameter_space, cv=3, n_jobs=4,\n",
    "                   scoring=\"neg_mean_absolute_error\")\n",
    "\n",
    "clf.fit(X_train, y_train)\n",
    "print(\"Best parameters:\")\n",
    "print(clf.best_params_)\n"
   ]
  },
  {
   "cell_type": "code",
   "execution_count": 73,
   "metadata": {},
   "outputs": [],
   "source": [
    "svr_model = SVR(**clf.best_params_)\n"
   ]
  },
  {
   "cell_type": "code",
   "execution_count": 74,
   "metadata": {},
   "outputs": [
    {
     "name": "stderr",
     "output_type": "stream",
     "text": [
      "/home/ming/miniconda3/envs/data1/lib/python3.8/site-packages/sklearn/utils/validation.py:73: DataConversionWarning: A column-vector y was passed when a 1d array was expected. Please change the shape of y to (n_samples, ), for example using ravel().\n",
      "  return f(**kwargs)\n"
     ]
    }
   ],
   "source": [
    "svr_model.fit(X_train, y_train);"
   ]
  },
  {
   "cell_type": "code",
   "execution_count": 75,
   "metadata": {},
   "outputs": [
    {
     "name": "stdout",
     "output_type": "stream",
     "text": [
      "Support Vector Regression MAE = 12874.92786950232\n"
     ]
    }
   ],
   "source": [
    "y_pred = svr_model.predict(X_test)\n",
    "svr_mae = mean_absolute_error(y_test, y_pred)\n",
    "print(\"Support Vector Regression MAE =\", svr_mae)\n"
   ]
  },
  {
   "cell_type": "markdown",
   "metadata": {},
   "source": [
    "### Decision Tree"
   ]
  },
  {
   "cell_type": "code",
   "execution_count": 76,
   "metadata": {},
   "outputs": [
    {
     "name": "stdout",
     "output_type": "stream",
     "text": [
      "Best parameters:\n",
      "{'criterion': 'mse', 'max_features': 242, 'min_samples_leaf': 7, 'min_samples_split': 18}\n"
     ]
    }
   ],
   "source": [
    "parameter_space = \\\n",
    "    {\n",
    "        \"criterion\": [\"mse\", \"friedman_mse\", \"mae\"],\n",
    "        \"min_samples_split\": [5, 18, 29, 50],\n",
    "        \"min_samples_leaf\": [3, 7, 15, 25],\n",
    "        \"max_features\": [20, 50, 150, 200, X_train.shape[1]],\n",
    "    }\n",
    "\n",
    "clf = GridSearchCV(DecisionTreeRegressor(random_state=3), parameter_space, \n",
    "                   cv=3, scoring=\"neg_mean_absolute_error\", n_jobs=4)\n",
    "\n",
    "clf.fit(X_train, y_train)\n",
    "print(\"Best parameters:\")\n",
    "print(clf.best_params_)\n"
   ]
  },
  {
   "cell_type": "code",
   "execution_count": 77,
   "metadata": {},
   "outputs": [],
   "source": [
    "dt_model = DecisionTreeRegressor(**clf.best_params_)\n"
   ]
  },
  {
   "cell_type": "code",
   "execution_count": 78,
   "metadata": {},
   "outputs": [],
   "source": [
    "dt_model.fit(X_train, y_train);\n"
   ]
  },
  {
   "cell_type": "code",
   "execution_count": 79,
   "metadata": {},
   "outputs": [
    {
     "name": "stdout",
     "output_type": "stream",
     "text": [
      "Decision Tree MAE = 20873.949425979506\n"
     ]
    }
   ],
   "source": [
    "y_pred = dt_model.predict(X_test)\n",
    "dt_mae = mean_absolute_error(y_test, y_pred)\n",
    "print(\"Decision Tree MAE =\", dt_mae)\n"
   ]
  },
  {
   "cell_type": "markdown",
   "metadata": {},
   "source": [
    "### Neural Network"
   ]
  },
  {
   "cell_type": "code",
   "execution_count": 80,
   "metadata": {},
   "outputs": [
    {
     "name": "stderr",
     "output_type": "stream",
     "text": [
      "/home/ming/miniconda3/envs/data1/lib/python3.8/site-packages/sklearn/utils/validation.py:73: DataConversionWarning: A column-vector y was passed when a 1d array was expected. Please change the shape of y to (n_samples, ), for example using ravel().\n",
      "  return f(**kwargs)\n"
     ]
    },
    {
     "name": "stdout",
     "output_type": "stream",
     "text": [
      "Best parameters:\n",
      "{'activation': 'identity', 'alpha': 1, 'hidden_layer_sizes': (154,), 'solver': 'lbfgs'}\n"
     ]
    },
    {
     "name": "stderr",
     "output_type": "stream",
     "text": [
      "/home/ming/miniconda3/envs/data1/lib/python3.8/site-packages/sklearn/neural_network/_multilayer_perceptron.py:471: ConvergenceWarning: lbfgs failed to converge (status=1):\n",
      "STOP: TOTAL NO. of ITERATIONS REACHED LIMIT.\n",
      "\n",
      "Increase the number of iterations (max_iter) or scale the data as shown in:\n",
      "    https://scikit-learn.org/stable/modules/preprocessing.html\n",
      "  self.n_iter_ = _check_optimize_result(\"lbfgs\", opt_res, self.max_iter)\n"
     ]
    }
   ],
   "source": [
    "from sklearn.neural_network import MLPRegressor\n",
    "\n",
    "parameter_space = \\\n",
    "    {\n",
    "        \"hidden_layer_sizes\": [(7,)*3, (19,), (100,), (154,)],\n",
    "        \"activation\": [\"identity\", \"logistic\", \"tanh\", \"relu\"],\n",
    "        \"solver\": [\"lbfgs\"],\n",
    "        \"alpha\": [1, 10, 100],\n",
    "    }\n",
    "\n",
    "clf = GridSearchCV(MLPRegressor(random_state=3), parameter_space, \n",
    "                   cv=3, scoring=\"neg_mean_absolute_error\", n_jobs=4)\n",
    "\n",
    "clf.fit(X_train, y_train)\n",
    "print(\"Best parameters:\")\n",
    "print(clf.best_params_)\n"
   ]
  },
  {
   "cell_type": "code",
   "execution_count": 81,
   "metadata": {},
   "outputs": [],
   "source": [
    "nn_model = MLPRegressor(**clf.best_params_)\n"
   ]
  },
  {
   "cell_type": "code",
   "execution_count": 82,
   "metadata": {},
   "outputs": [
    {
     "name": "stderr",
     "output_type": "stream",
     "text": [
      "/home/ming/miniconda3/envs/data1/lib/python3.8/site-packages/sklearn/utils/validation.py:73: DataConversionWarning: A column-vector y was passed when a 1d array was expected. Please change the shape of y to (n_samples, ), for example using ravel().\n",
      "  return f(**kwargs)\n",
      "/home/ming/miniconda3/envs/data1/lib/python3.8/site-packages/sklearn/neural_network/_multilayer_perceptron.py:471: ConvergenceWarning: lbfgs failed to converge (status=1):\n",
      "STOP: TOTAL NO. of ITERATIONS REACHED LIMIT.\n",
      "\n",
      "Increase the number of iterations (max_iter) or scale the data as shown in:\n",
      "    https://scikit-learn.org/stable/modules/preprocessing.html\n",
      "  self.n_iter_ = _check_optimize_result(\"lbfgs\", opt_res, self.max_iter)\n"
     ]
    }
   ],
   "source": [
    "nn_model.fit(X_train, y_train);\n"
   ]
  },
  {
   "cell_type": "code",
   "execution_count": 83,
   "metadata": {},
   "outputs": [
    {
     "name": "stdout",
     "output_type": "stream",
     "text": [
      "Neural Network MAE = 15583.246965605687\n"
     ]
    }
   ],
   "source": [
    "y_pred = nn_model.predict(X_test)\n",
    "nn_mae = mean_absolute_error(y_test, y_pred)\n",
    "print(\"Neural Network MAE =\", nn_mae)\n"
   ]
  },
  {
   "cell_type": "markdown",
   "metadata": {},
   "source": [
    "### Random Forest"
   ]
  },
  {
   "cell_type": "code",
   "execution_count": 84,
   "metadata": {},
   "outputs": [
    {
     "name": "stderr",
     "output_type": "stream",
     "text": [
      "/home/ming/miniconda3/envs/data1/lib/python3.8/site-packages/sklearn/model_selection/_search.py:765: DataConversionWarning: A column-vector y was passed when a 1d array was expected. Please change the shape of y to (n_samples,), for example using ravel().\n",
      "  self.best_estimator_.fit(X, y, **fit_params)\n"
     ]
    },
    {
     "name": "stdout",
     "output_type": "stream",
     "text": [
      "Best parameters:\n",
      "{'n_estimators': 600, 'min_samples_split': 2, 'min_samples_leaf': 1, 'max_features': 19, 'max_depth': 254, 'criterion': 'mse', 'bootstrap': False}\n"
     ]
    }
   ],
   "source": [
    "from sklearn.ensemble import RandomForestRegressor\n",
    "\n",
    "parameter_space = \\\n",
    "    {\n",
    "        \"n_estimators\": [10, 100, 300, 600],\n",
    "        \"criterion\": [\"mse\", \"mae\"],\n",
    "        \"max_depth\": [7, 50, 254],\n",
    "        \"min_samples_split\": [2, 5],\n",
    "        \"min_samples_leaf\": [1, 5],\n",
    "        \"max_features\": [19, 100, X_train.shape[1]],\n",
    "        \"bootstrap\": [True, False],\n",
    "    }\n",
    "\n",
    "clf = RandomizedSearchCV(RandomForestRegressor(random_state=3), \n",
    "                         parameter_space, cv=3, n_jobs=4,\n",
    "                         scoring=\"neg_mean_absolute_error\", \n",
    "                         n_iter=10, random_state=3)\n",
    "\n",
    "clf.fit(X_train, y_train)\n",
    "print(\"Best parameters:\")\n",
    "print(clf.best_params_)\n"
   ]
  },
  {
   "cell_type": "code",
   "execution_count": 85,
   "metadata": {},
   "outputs": [],
   "source": [
    "rf_model = RandomForestRegressor(**clf.best_params_)\n"
   ]
  },
  {
   "cell_type": "code",
   "execution_count": 86,
   "metadata": {},
   "outputs": [
    {
     "name": "stderr",
     "output_type": "stream",
     "text": [
      "<ipython-input-86-235e65a8fc4a>:1: DataConversionWarning: A column-vector y was passed when a 1d array was expected. Please change the shape of y to (n_samples,), for example using ravel().\n",
      "  rf_model.fit(X_train, y_train);\n"
     ]
    }
   ],
   "source": [
    "rf_model.fit(X_train, y_train);\n"
   ]
  },
  {
   "cell_type": "code",
   "execution_count": 87,
   "metadata": {},
   "outputs": [
    {
     "name": "stdout",
     "output_type": "stream",
     "text": [
      "Random Forest MAE = 14444.399405737702\n"
     ]
    }
   ],
   "source": [
    "y_pred = rf_model.predict(X_test)\n",
    "rf_mae = mean_absolute_error(y_test, y_pred)\n",
    "print(\"Random Forest MAE =\", rf_mae)"
   ]
  },
  {
   "cell_type": "markdown",
   "metadata": {},
   "source": [
    "### Gradient Boosting"
   ]
  },
  {
   "cell_type": "code",
   "execution_count": 88,
   "metadata": {},
   "outputs": [
    {
     "name": "stdout",
     "output_type": "stream",
     "text": [
      "Best parameters:\n",
      "{'subsample': 0.3, 'reg_lambda': 3, 'reg_alpha': 33, 'n_estimators': 2500, 'max_depth': 6, 'learning_rate': 0.01, 'gamma': 25, 'colsample_bytree': 0.5, 'colsample_bylevel': 0.5, 'booster': 'gbtree'}\n"
     ]
    }
   ],
   "source": [
    "from xgboost import XGBRegressor\n",
    "\n",
    "parameter_space = \\\n",
    "    {\n",
    "        \"max_depth\": [4, 5, 6],\n",
    "        \"learning_rate\": [0.005, 0.009, 0.01],\n",
    "        \"n_estimators\": [700, 1000, 2500],\n",
    "        \"booster\": [\"gbtree\",],\n",
    "        \"gamma\": [7, 25, 100],\n",
    "        \"subsample\": [0.3, 0.6],\n",
    "        \"colsample_bytree\": [0.5, 0.7],\n",
    "        \"colsample_bylevel\": [0.5, 0.7,],\n",
    "        \"reg_alpha\": [1, 10, 33],\n",
    "        \"reg_lambda\": [1, 3, 10],\n",
    "    }\n",
    "\n",
    "clf = RandomizedSearchCV(XGBRegressor(random_state=3), \n",
    "                         parameter_space, cv=3, n_jobs=4,\n",
    "                         scoring=\"neg_mean_absolute_error\", \n",
    "                         random_state=3, n_iter=10)\n",
    "\n",
    "clf.fit(X_train, y_train)\n",
    "print(\"Best parameters:\")\n",
    "print(clf.best_params_)\n"
   ]
  },
  {
   "cell_type": "code",
   "execution_count": 89,
   "metadata": {},
   "outputs": [],
   "source": [
    "xgb_model = XGBRegressor(**clf.best_params_)\n"
   ]
  },
  {
   "cell_type": "code",
   "execution_count": 90,
   "metadata": {},
   "outputs": [],
   "source": [
    "xgb_model.fit(X_train, y_train);\n"
   ]
  },
  {
   "cell_type": "code",
   "execution_count": 91,
   "metadata": {},
   "outputs": [
    {
     "name": "stdout",
     "output_type": "stream",
     "text": [
      "XGBoost MAE = 12739.991947361681\n"
     ]
    }
   ],
   "source": [
    "y_pred = xgb_model.predict(X_test)\n",
    "xgb_mae = mean_absolute_error(y_test, y_pred)\n",
    "print(\"XGBoost MAE =\", xgb_mae)"
   ]
  },
  {
   "cell_type": "markdown",
   "metadata": {},
   "source": [
    "### Analysis and Comparison"
   ]
  },
  {
   "cell_type": "code",
   "execution_count": 92,
   "metadata": {},
   "outputs": [
    {
     "data": {
      "image/png": "[encoded data removed]",
      "text/plain": [
       "<Figure size 432x288 with 1 Axes>"
      ]
     },
     "metadata": {
      "needs_background": "light"
     },
     "output_type": "display_data"
    }
   ],
   "source": [
    "x = ['KNN', 'Decision Tree', 'Neural Network', 'Ridge', \n",
    "     'Elastic Net', 'Random Forest', 'SVR', 'XGBoost']\n",
    "y = [22780.14, 20873.95, 15656.38, 15270.46, 14767.91,\n",
    "     14506.46, 12874.93, 12556.68]\n",
    "colors = [\"#392834\", \"#5a3244\", \"#7e3c4d\", \"#a1484f\", \n",
    "          \"#c05949\", \"#d86f3d\", \"#e88b2b\", \"#edab06\"]\n",
    "fig, ax = plt.subplots()\n",
    "plt.barh(y=range(len(x)), tick_label=x, width=y, height=0.4, color=colors);\n",
    "ax.set(xlabel=\"MAE (smaller is better)\", ylabel=\"Model\");\n"
   ]
  },
  {
   "cell_type": "code",
   "execution_count": 93,
   "metadata": {},
   "outputs": [
    {
     "data": {
      "image/png": "[encoded data removed]",
      "text/plain": [
       "<Figure size 432x288 with 1 Axes>"
      ]
     },
     "metadata": {
      "needs_background": "light"
     },
     "output_type": "display_data"
    }
   ],
   "source": [
    "sns.violinplot(x=dataset['SalePrice'], inner=\"quartile\", color=\"#36B37E\");\n"
   ]
  },
  {
   "cell_type": "code",
   "execution_count": 94,
   "metadata": {},
   "outputs": [
    {
     "data": {
      "image/png": "[encoded data removed]",
      "text/plain": [
       "<Figure size 432x288 with 1 Axes>"
      ]
     },
     "metadata": {
      "needs_background": "light"
     },
     "output_type": "display_data"
    }
   ],
   "source": [
    "sns.boxplot(dataset['SalePrice'], whis=10, color=\"#00B8D9\");\n"
   ]
  },
  {
   "cell_type": "code",
   "execution_count": 95,
   "metadata": {},
   "outputs": [
    {
     "data": {
      "image/png": "[encoded data removed]",
      "text/plain": [
       "<Figure size 432x288 with 1 Axes>"
      ]
     },
     "metadata": {
      "needs_background": "light"
     },
     "output_type": "display_data"
    }
   ],
   "source": [
    "sns.distplot(dataset['SalePrice'], kde=False,\n",
    "             color=\"#172B4D\", hist_kws={\"alpha\": 0.8});\n"
   ]
  },
  {
   "cell_type": "code",
   "execution_count": 96,
   "metadata": {},
   "outputs": [
    {
     "data": {
      "text/html": [
       "<div>\n",
       "<style scoped>\n",
       "    .dataframe tbody tr th:only-of-type {\n",
       "        vertical-align: middle;\n",
       "    }\n",
       "\n",
       "    .dataframe tbody tr th {\n",
       "        vertical-align: top;\n",
       "    }\n",
       "\n",
       "    .dataframe thead th {\n",
       "        text-align: right;\n",
       "    }\n",
       "</style>\n",
       "<table border=\"1\" class=\"dataframe\">\n",
       "  <thead>\n",
       "    <tr style=\"text-align: right;\">\n",
       "      <th></th>\n",
       "      <th>SalePrice</th>\n",
       "    </tr>\n",
       "  </thead>\n",
       "  <tbody>\n",
       "    <tr>\n",
       "      <th>count</th>\n",
       "      <td>2193.00</td>\n",
       "    </tr>\n",
       "    <tr>\n",
       "      <th>mean</th>\n",
       "      <td>179846.69</td>\n",
       "    </tr>\n",
       "    <tr>\n",
       "      <th>std</th>\n",
       "      <td>79729.38</td>\n",
       "    </tr>\n",
       "    <tr>\n",
       "      <th>min</th>\n",
       "      <td>12789.00</td>\n",
       "    </tr>\n",
       "    <tr>\n",
       "      <th>25%</th>\n",
       "      <td>128500.00</td>\n",
       "    </tr>\n",
       "    <tr>\n",
       "      <th>50%</th>\n",
       "      <td>159895.00</td>\n",
       "    </tr>\n",
       "    <tr>\n",
       "      <th>75%</th>\n",
       "      <td>214000.00</td>\n",
       "    </tr>\n",
       "    <tr>\n",
       "      <th>max</th>\n",
       "      <td>625000.00</td>\n",
       "    </tr>\n",
       "  </tbody>\n",
       "</table>\n",
       "</div>"
      ],
      "text/plain": [
       "                 SalePrice\n",
       "count              2193.00\n",
       "mean             179846.69\n",
       "std               79729.38\n",
       "min               12789.00\n",
       "25%              128500.00\n",
       "50%              159895.00\n",
       "75%              214000.00\n",
       "max              625000.00"
      ]
     },
     "execution_count": 96,
     "metadata": {},
     "output_type": "execute_result"
    }
   ],
   "source": [
    "y_train.describe(include=[np.number])"
   ]
  },
  {
   "cell_type": "code",
   "execution_count": 97,
   "metadata": {},
   "outputs": [
    {
     "data": {
      "image/png": "[encoded data removed]",
      "text/plain": [
       "<Figure size 504x360 with 1 Axes>"
      ]
     },
     "metadata": {
      "needs_background": "light"
     },
     "output_type": "display_data"
    }
   ],
   "source": [
    "xgb_feature_importances = xgb_model.feature_importances_\n",
    "xgb_feature_importances = pd.Series(\n",
    "    xgb_feature_importances, index=X_train.columns.values\n",
    "    ).sort_values(ascending=False).head(15)\n",
    "\n",
    "fig, ax = plt.subplots(figsize=(7, 5))\n",
    "sns.barplot(x=xgb_feature_importances, \n",
    "            y=xgb_feature_importances.index, \n",
    "            color=\"#003f5c\");\n",
    "plt.xlabel('Feature Importance');\n",
    "plt.ylabel('Feature');\n"
   ]
  },
  {
   "cell_type": "code",
   "execution_count": 98,
   "metadata": {},
   "outputs": [
    {
     "data": {
      "image/png": "[encoded data removed]",
      "text/plain": [
       "<Figure size 504x360 with 1 Axes>"
      ]
     },
     "metadata": {
      "needs_background": "light"
     },
     "output_type": "display_data"
    }
   ],
   "source": [
    "rf_feature_importances = rf_model.feature_importances_\n",
    "rf_feature_importances = pd.Series(\n",
    "    rf_feature_importances, index=X_train.columns.values\n",
    "    ).sort_values(ascending=False).head(15)\n",
    "\n",
    "fig, ax = plt.subplots(figsize=(7,5))\n",
    "sns.barplot(x=rf_feature_importances, \n",
    "            y=rf_feature_importances.index, \n",
    "            color=\"#ffa600\");\n",
    "plt.xlabel('Feature Importance');\n",
    "plt.ylabel('Feature');\n"
   ]
  },
  {
   "cell_type": "code",
   "execution_count": 99,
   "metadata": {},
   "outputs": [],
   "source": [
    "common_imp_feat = [x for x in xgb_feature_importances.index \n",
    "                   if x in rf_feature_importances.index]\n",
    "commImpFeat_xgb_scores = [xgb_feature_importances[x] \n",
    "                          for x in common_imp_feat]\n",
    "commImpFeat_rf_scores = [rf_feature_importances[x] \n",
    "                         for x in common_imp_feat]\n",
    "\n",
    "ind = np.arange(len(commImpFeat_xgb_scores))\n",
    "width = 0.35\n",
    "\n",
    "fig, ax = plt.subplots()\n",
    "ax.bar(ind - width/2, commImpFeat_xgb_scores, width,\n",
    "       color='#003f5c', label='XGBoost');\n",
    "ax.bar(ind + width/2, commImpFeat_rf_scores, width, \n",
    "       color='#ffa600', label='Random Forest')\n",
    "ax.set_xticks(ind);\n",
    "ax.set_xticklabels(common_imp_feat);\n",
    "ax.legend();\n",
    "plt.xticks(rotation=90);\n"
   ]
  },
  {
   "cell_type": "code",
   "execution_count": null,
   "metadata": {},
   "outputs": [],
   "source": []
  }
 ],
 "metadata": {
  "kernelspec": {
   "display_name": "Python 3",
   "language": "python",
   "name": "python3"
  },
  "language_info": {
   "codemirror_mode": {
    "name": "ipython",
    "version": 3
   },
   "file_extension": ".py",
   "mimetype": "text/x-python",
   "name": "python",
   "nbconvert_exporter": "python",
   "pygments_lexer": "ipython3",
   "version": "3.8.2"
  }
 },
 "nbformat": 4,
 "nbformat_minor": 4
}
