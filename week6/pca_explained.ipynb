{
 "cells": [
  {
   "cell_type": "code",
   "execution_count": 72,
   "metadata": {},
   "outputs": [],
   "source": [
    "import numpy as np # linear algebra\n",
    "import pandas as pd # data processing, CSV file I/O (e.g. pd.read_csv)\n",
    "import matplotlib as mpl\n",
    "import matplotlib.pyplot as plt\n",
    "import seaborn as sns\n",
    "%matplotlib inline\n",
    "\n",
    "pd.options.display.float_format = \"{:,.2f}\".format\n",
    "# plt.figure(figsize=(80,80)) \n",
    "pd.set_option('display.max_columns', None)"
   ]
  },
  {
   "cell_type": "code",
   "execution_count": 73,
   "metadata": {},
   "outputs": [],
   "source": [
    "df = pd.read_csv('houses_to_rent_v2.csv')"
   ]
  },
  {
   "cell_type": "code",
   "execution_count": 74,
   "metadata": {},
   "outputs": [
    {
     "name": "stdout",
     "output_type": "stream",
     "text": [
      "Columns names:\n",
      "['city', 'area', 'rooms', 'bathroom', 'parking spaces', 'floor', 'animal', 'furniture', 'hoa (R$)', 'rent amount (R$)', 'property tax (R$)', 'fire insurance (R$)', 'total (R$)']\n"
     ]
    }
   ],
   "source": [
    "columns_names=df.columns.tolist()\n",
    "print(\"Columns names:\")\n",
    "print(columns_names)"
   ]
  },
  {
   "cell_type": "code",
   "execution_count": 75,
   "metadata": {},
   "outputs": [
    {
     "data": {
      "text/plain": [
       "(10692, 13)"
      ]
     },
     "execution_count": 75,
     "metadata": {},
     "output_type": "execute_result"
    }
   ],
   "source": [
    "df.shape"
   ]
  },
  {
   "cell_type": "code",
   "execution_count": 76,
   "metadata": {},
   "outputs": [
    {
     "data": {
      "text/html": [
       "<div>\n",
       "<style scoped>\n",
       "    .dataframe tbody tr th:only-of-type {\n",
       "        vertical-align: middle;\n",
       "    }\n",
       "\n",
       "    .dataframe tbody tr th {\n",
       "        vertical-align: top;\n",
       "    }\n",
       "\n",
       "    .dataframe thead th {\n",
       "        text-align: right;\n",
       "    }\n",
       "</style>\n",
       "<table border=\"1\" class=\"dataframe\">\n",
       "  <thead>\n",
       "    <tr style=\"text-align: right;\">\n",
       "      <th></th>\n",
       "      <th>city</th>\n",
       "      <th>area</th>\n",
       "      <th>rooms</th>\n",
       "      <th>bathroom</th>\n",
       "      <th>parking spaces</th>\n",
       "      <th>floor</th>\n",
       "      <th>animal</th>\n",
       "      <th>furniture</th>\n",
       "      <th>hoa (R$)</th>\n",
       "      <th>rent amount (R$)</th>\n",
       "      <th>property tax (R$)</th>\n",
       "      <th>fire insurance (R$)</th>\n",
       "      <th>total (R$)</th>\n",
       "    </tr>\n",
       "  </thead>\n",
       "  <tbody>\n",
       "    <tr>\n",
       "      <th>0</th>\n",
       "      <td>São Paulo</td>\n",
       "      <td>70</td>\n",
       "      <td>2</td>\n",
       "      <td>1</td>\n",
       "      <td>1</td>\n",
       "      <td>7</td>\n",
       "      <td>acept</td>\n",
       "      <td>furnished</td>\n",
       "      <td>2065</td>\n",
       "      <td>3300</td>\n",
       "      <td>211</td>\n",
       "      <td>42</td>\n",
       "      <td>5618</td>\n",
       "    </tr>\n",
       "    <tr>\n",
       "      <th>1</th>\n",
       "      <td>São Paulo</td>\n",
       "      <td>320</td>\n",
       "      <td>4</td>\n",
       "      <td>4</td>\n",
       "      <td>0</td>\n",
       "      <td>20</td>\n",
       "      <td>acept</td>\n",
       "      <td>not furnished</td>\n",
       "      <td>1200</td>\n",
       "      <td>4960</td>\n",
       "      <td>1750</td>\n",
       "      <td>63</td>\n",
       "      <td>7973</td>\n",
       "    </tr>\n",
       "    <tr>\n",
       "      <th>2</th>\n",
       "      <td>Porto Alegre</td>\n",
       "      <td>80</td>\n",
       "      <td>1</td>\n",
       "      <td>1</td>\n",
       "      <td>1</td>\n",
       "      <td>6</td>\n",
       "      <td>acept</td>\n",
       "      <td>not furnished</td>\n",
       "      <td>1000</td>\n",
       "      <td>2800</td>\n",
       "      <td>0</td>\n",
       "      <td>41</td>\n",
       "      <td>3841</td>\n",
       "    </tr>\n",
       "    <tr>\n",
       "      <th>3</th>\n",
       "      <td>Porto Alegre</td>\n",
       "      <td>51</td>\n",
       "      <td>2</td>\n",
       "      <td>1</td>\n",
       "      <td>0</td>\n",
       "      <td>2</td>\n",
       "      <td>acept</td>\n",
       "      <td>not furnished</td>\n",
       "      <td>270</td>\n",
       "      <td>1112</td>\n",
       "      <td>22</td>\n",
       "      <td>17</td>\n",
       "      <td>1421</td>\n",
       "    </tr>\n",
       "    <tr>\n",
       "      <th>4</th>\n",
       "      <td>São Paulo</td>\n",
       "      <td>25</td>\n",
       "      <td>1</td>\n",
       "      <td>1</td>\n",
       "      <td>0</td>\n",
       "      <td>1</td>\n",
       "      <td>not acept</td>\n",
       "      <td>not furnished</td>\n",
       "      <td>0</td>\n",
       "      <td>800</td>\n",
       "      <td>25</td>\n",
       "      <td>11</td>\n",
       "      <td>836</td>\n",
       "    </tr>\n",
       "  </tbody>\n",
       "</table>\n",
       "</div>"
      ],
      "text/plain": [
       "           city  area  rooms  bathroom  parking spaces floor     animal  \\\n",
       "0     São Paulo    70      2         1               1     7      acept   \n",
       "1     São Paulo   320      4         4               0    20      acept   \n",
       "2  Porto Alegre    80      1         1               1     6      acept   \n",
       "3  Porto Alegre    51      2         1               0     2      acept   \n",
       "4     São Paulo    25      1         1               0     1  not acept   \n",
       "\n",
       "       furniture  hoa (R$)  rent amount (R$)  property tax (R$)  \\\n",
       "0      furnished      2065              3300                211   \n",
       "1  not furnished      1200              4960               1750   \n",
       "2  not furnished      1000              2800                  0   \n",
       "3  not furnished       270              1112                 22   \n",
       "4  not furnished         0               800                 25   \n",
       "\n",
       "   fire insurance (R$)  total (R$)  \n",
       "0                   42        5618  \n",
       "1                   63        7973  \n",
       "2                   41        3841  \n",
       "3                   17        1421  \n",
       "4                   11         836  "
      ]
     },
     "execution_count": 76,
     "metadata": {},
     "output_type": "execute_result"
    }
   ],
   "source": [
    "df.head()"
   ]
  },
  {
   "cell_type": "code",
   "execution_count": 82,
   "metadata": {},
   "outputs": [
    {
     "data": {
      "text/plain": [
       "array([   70,   320,    80,    51,    25,   376,    72,   213,   152,\n",
       "          35,    26,    46,    36,    55,   100,   330,   110,    88,\n",
       "          56,   600,    42,   160,    90,    49,    41,    64,   208,\n",
       "          20,    32,    45,   350,    38,    30,    40,   300,   240,\n",
       "         200,   360,   250,    48,   150,    60,    31,   210,   280,\n",
       "          93,    75,   194,    65,   278,    61,   130,   164,   220,\n",
       "         108,   128,    47,   170,    68,    63,   145,    85,   254,\n",
       "         296,   133,    44,    22,    50,    67,   109,   400,   284,\n",
       "         309,    73,   155,    58,    94,    76,   192,   217,    95,\n",
       "         900,    34,    62,   180,   140,    52,   999,   270,    71,\n",
       "         500,    96,   660,   107,   105,   287,    24,   154,   101,\n",
       "         384,    57,    39,    78,    28,    83,   750,   258,   123,\n",
       "         127,   219,   420,    59,   225,   480,    53,   121,    43,\n",
       "         570,    89,   173,    91,   530,    87,   136,   308,   260,\n",
       "         120,    33,   131,   161,   720,   236,    81,   125,    37,\n",
       "         230,   450,   234,   135,   395,    92,   412,   190,   165,\n",
       "         380,    19,   124,   115,   700,    15,   204,   540,    23,\n",
       "         178,   114,   113,    69,   306,   187,   385,   355,   181,\n",
       "         168,   378,   362,    16,   488,   290,   266,   590,    86,\n",
       "          84,   198,   129,   312,    17,   214,   205,    66,    77,\n",
       "         440,    74,   417,   142,   377,   147,   157,    97,   548,\n",
       "         193,   428,   103,   238,   580,   106,   156,   177,   398,\n",
       "         176,   680,   196,   275,   206,   311,   138,   117,    29,\n",
       "         650,   119,   316,  1000,   185,   550,  1600,   405,   365,\n",
       "         207,    82,   383,   257,   179,    79,   322,   620,   325,\n",
       "         197,   172,   341,    98,   345,   158,   277,    11,   162,\n",
       "         279,   298,   293,   305,   367,    54,   340,   148,   840,\n",
       "         212,   184,   368,   126,   347,   201,   216,   183,   274,\n",
       "         845,   800,    18,   263,   166,   390,   118,   174,   134,\n",
       "         188,   272,   227,   116,   144,   111,   151,   288,   642,\n",
       "         850,   315,   102,   629,   427,   286,   211,   497,   386,\n",
       "         137,   242,   139,   199,   169,   573,   515,   143,   265,\n",
       "         336,   565,   112,   981,   226,   334,   267,   237,    13,\n",
       "         460,   189,   418,   223,   353,   182,   175,   255,   104,\n",
       "         149,   410,    27,   640,   301,   276,   159,   246,   560,\n",
       "         218,   462,    99,   318,   167,    21,   310,   319,   430,\n",
       "         486,   221,   239,   622,   132,   998,   375,   553,   195,\n",
       "         470,   235,   171,   572,   463,   297,   244,   248,   153,\n",
       "         373,   215,   820,   389,   339,   229, 46335,   264,   233,\n",
       "        1020,   348,   521,   408,   563,   452,   396,   649,   241,\n",
       "         163,   544,   122,   429,   685,   391,   245,   222,   413,\n",
       "         332,   432,   556,   285,   485,   402,   425,   359,   281,\n",
       "         271,   253,   282,   202,   249,   403,   424,   454,   394,\n",
       "         209,   186,   370,   490,   251,   273,   262,   423,   289,\n",
       "         520,   292,   327,   366,  1100,   682,   247,   372,   421,\n",
       "         950,   469,   625,   256,   307,   502,   578,   495,   299,\n",
       "         243,   479,   524,   294,   224,   268,   444,   356,   342,\n",
       "         630,   326,   512,   465,   346,   830,   302,   335,   146,\n",
       "         269,   203,   388,   323,   525,  2000,   328,   387,   406,\n",
       "         474,   343,   510,   442,   303,   252, 24606,   344,   321,\n",
       "         351,   455,   472,   141,   333,   329,   191,   291,   471,\n",
       "         645,   445,   434,   616,    12,   513,   441,   354,   744,\n",
       "         790,   457,   834,   506,   659,   415,   890,   884,   363,\n",
       "         439,   358,   784,   449,   352,   416,   651,   438,   678,\n",
       "         856,   717,   758,   692,   261,   443,   596,   314,   374,\n",
       "         483,   458,   392,   690,   338, 12732,   503,   231,   313,\n",
       "         382,   482,   505,   295,   802,   476,   369,   228,   437,\n",
       "         456,   399,   431,   411])"
      ]
     },
     "execution_count": 82,
     "metadata": {},
     "output_type": "execute_result"
    }
   ],
   "source": [
    "df['area'].unique()\n"
   ]
  },
  {
   "cell_type": "code",
   "execution_count": 77,
   "metadata": {},
   "outputs": [
    {
     "data": {
      "text/html": [
       "<div>\n",
       "<style scoped>\n",
       "    .dataframe tbody tr th:only-of-type {\n",
       "        vertical-align: middle;\n",
       "    }\n",
       "\n",
       "    .dataframe tbody tr th {\n",
       "        vertical-align: top;\n",
       "    }\n",
       "\n",
       "    .dataframe thead th {\n",
       "        text-align: right;\n",
       "    }\n",
       "</style>\n",
       "<table border=\"1\" class=\"dataframe\">\n",
       "  <thead>\n",
       "    <tr style=\"text-align: right;\">\n",
       "      <th></th>\n",
       "      <th>area</th>\n",
       "      <th>rooms</th>\n",
       "      <th>bathroom</th>\n",
       "      <th>parking spaces</th>\n",
       "      <th>hoa (R$)</th>\n",
       "      <th>rent amount (R$)</th>\n",
       "      <th>property tax (R$)</th>\n",
       "      <th>fire insurance (R$)</th>\n",
       "      <th>total (R$)</th>\n",
       "    </tr>\n",
       "  </thead>\n",
       "  <tbody>\n",
       "    <tr>\n",
       "      <th>area</th>\n",
       "      <td>288,387.20</td>\n",
       "      <td>121.90</td>\n",
       "      <td>171.36</td>\n",
       "      <td>165.58</td>\n",
       "      <td>57,693.13</td>\n",
       "      <td>330,839.20</td>\n",
       "      <td>65,187.06</td>\n",
       "      <td>4,824.62</td>\n",
       "      <td>458,558.25</td>\n",
       "    </tr>\n",
       "    <tr>\n",
       "      <th>rooms</th>\n",
       "      <td>121.90</td>\n",
       "      <td>1.37</td>\n",
       "      <td>1.21</td>\n",
       "      <td>1.15</td>\n",
       "      <td>130.37</td>\n",
       "      <td>2,162.87</td>\n",
       "      <td>273.93</td>\n",
       "      <td>31.62</td>\n",
       "      <td>2,598.79</td>\n",
       "    </tr>\n",
       "    <tr>\n",
       "      <th>bathroom</th>\n",
       "      <td>171.36</td>\n",
       "      <td>1.21</td>\n",
       "      <td>1.98</td>\n",
       "      <td>1.56</td>\n",
       "      <td>1,103.01</td>\n",
       "      <td>3,206.48</td>\n",
       "      <td>477.80</td>\n",
       "      <td>45.47</td>\n",
       "      <td>4,832.91</td>\n",
       "    </tr>\n",
       "    <tr>\n",
       "      <th>parking spaces</th>\n",
       "      <td>165.58</td>\n",
       "      <td>1.15</td>\n",
       "      <td>1.56</td>\n",
       "      <td>2.53</td>\n",
       "      <td>231.03</td>\n",
       "      <td>3,133.53</td>\n",
       "      <td>485.98</td>\n",
       "      <td>45.36</td>\n",
       "      <td>3,895.95</td>\n",
       "    </tr>\n",
       "    <tr>\n",
       "      <th>hoa (R$)</th>\n",
       "      <td>57,693.13</td>\n",
       "      <td>130.37</td>\n",
       "      <td>1,103.01</td>\n",
       "      <td>231.03</td>\n",
       "      <td>243,119,982.96</td>\n",
       "      <td>1,939,318.48</td>\n",
       "      <td>369,610.16</td>\n",
       "      <td>21,997.71</td>\n",
       "      <td>245,474,559.88</td>\n",
       "    </tr>\n",
       "    <tr>\n",
       "      <th>rent amount (R$)</th>\n",
       "      <td>330,839.20</td>\n",
       "      <td>2,162.87</td>\n",
       "      <td>3,206.48</td>\n",
       "      <td>3,133.53</td>\n",
       "      <td>1,939,318.48</td>\n",
       "      <td>11,618,182.55</td>\n",
       "      <td>1,142,837.78</td>\n",
       "      <td>160,758.73</td>\n",
       "      <td>14,861,390.97</td>\n",
       "    </tr>\n",
       "    <tr>\n",
       "      <th>property tax (R$)</th>\n",
       "      <td>65,187.06</td>\n",
       "      <td>273.93</td>\n",
       "      <td>477.80</td>\n",
       "      <td>485.98</td>\n",
       "      <td>369,610.16</td>\n",
       "      <td>1,142,837.78</td>\n",
       "      <td>9,658,621.74</td>\n",
       "      <td>15,685.96</td>\n",
       "      <td>11,186,138.68</td>\n",
       "    </tr>\n",
       "    <tr>\n",
       "      <th>fire insurance (R$)</th>\n",
       "      <td>4,824.62</td>\n",
       "      <td>31.62</td>\n",
       "      <td>45.47</td>\n",
       "      <td>45.36</td>\n",
       "      <td>21,997.71</td>\n",
       "      <td>160,758.73</td>\n",
       "      <td>15,685.96</td>\n",
       "      <td>2,281.78</td>\n",
       "      <td>200,728.15</td>\n",
       "    </tr>\n",
       "    <tr>\n",
       "      <th>total (R$)</th>\n",
       "      <td>458,558.25</td>\n",
       "      <td>2,598.79</td>\n",
       "      <td>4,832.91</td>\n",
       "      <td>3,895.95</td>\n",
       "      <td>245,474,559.88</td>\n",
       "      <td>14,861,390.97</td>\n",
       "      <td>11,186,138.68</td>\n",
       "      <td>200,728.15</td>\n",
       "      <td>271,746,188.41</td>\n",
       "    </tr>\n",
       "  </tbody>\n",
       "</table>\n",
       "</div>"
      ],
      "text/plain": [
       "                          area    rooms  bathroom  parking spaces  \\\n",
       "area                288,387.20   121.90    171.36          165.58   \n",
       "rooms                   121.90     1.37      1.21            1.15   \n",
       "bathroom                171.36     1.21      1.98            1.56   \n",
       "parking spaces          165.58     1.15      1.56            2.53   \n",
       "hoa (R$)             57,693.13   130.37  1,103.01          231.03   \n",
       "rent amount (R$)    330,839.20 2,162.87  3,206.48        3,133.53   \n",
       "property tax (R$)    65,187.06   273.93    477.80          485.98   \n",
       "fire insurance (R$)   4,824.62    31.62     45.47           45.36   \n",
       "total (R$)          458,558.25 2,598.79  4,832.91        3,895.95   \n",
       "\n",
       "                          hoa (R$)  rent amount (R$)  property tax (R$)  \\\n",
       "area                     57,693.13        330,839.20          65,187.06   \n",
       "rooms                       130.37          2,162.87             273.93   \n",
       "bathroom                  1,103.01          3,206.48             477.80   \n",
       "parking spaces              231.03          3,133.53             485.98   \n",
       "hoa (R$)            243,119,982.96      1,939,318.48         369,610.16   \n",
       "rent amount (R$)      1,939,318.48     11,618,182.55       1,142,837.78   \n",
       "property tax (R$)       369,610.16      1,142,837.78       9,658,621.74   \n",
       "fire insurance (R$)      21,997.71        160,758.73          15,685.96   \n",
       "total (R$)          245,474,559.88     14,861,390.97      11,186,138.68   \n",
       "\n",
       "                     fire insurance (R$)     total (R$)  \n",
       "area                            4,824.62     458,558.25  \n",
       "rooms                              31.62       2,598.79  \n",
       "bathroom                           45.47       4,832.91  \n",
       "parking spaces                     45.36       3,895.95  \n",
       "hoa (R$)                       21,997.71 245,474,559.88  \n",
       "rent amount (R$)              160,758.73  14,861,390.97  \n",
       "property tax (R$)              15,685.96  11,186,138.68  \n",
       "fire insurance (R$)             2,281.78     200,728.15  \n",
       "total (R$)                    200,728.15 271,746,188.41  "
      ]
     },
     "execution_count": 77,
     "metadata": {},
     "output_type": "execute_result"
    }
   ],
   "source": [
    "df.cov()"
   ]
  },
  {
   "cell_type": "code",
   "execution_count": 12,
   "metadata": {},
   "outputs": [
    {
     "data": {
      "text/html": [
       "<div>\n",
       "<style scoped>\n",
       "    .dataframe tbody tr th:only-of-type {\n",
       "        vertical-align: middle;\n",
       "    }\n",
       "\n",
       "    .dataframe tbody tr th {\n",
       "        vertical-align: top;\n",
       "    }\n",
       "\n",
       "    .dataframe thead th {\n",
       "        text-align: right;\n",
       "    }\n",
       "</style>\n",
       "<table border=\"1\" class=\"dataframe\">\n",
       "  <thead>\n",
       "    <tr style=\"text-align: right;\">\n",
       "      <th></th>\n",
       "      <th>area</th>\n",
       "      <th>rooms</th>\n",
       "      <th>bathroom</th>\n",
       "      <th>parking spaces</th>\n",
       "      <th>hoa (R$)</th>\n",
       "      <th>rent amount (R$)</th>\n",
       "      <th>property tax (R$)</th>\n",
       "      <th>fire insurance (R$)</th>\n",
       "      <th>total (R$)</th>\n",
       "    </tr>\n",
       "  </thead>\n",
       "  <tbody>\n",
       "    <tr>\n",
       "      <th>area</th>\n",
       "      <td>1.00</td>\n",
       "      <td>0.19</td>\n",
       "      <td>0.23</td>\n",
       "      <td>0.19</td>\n",
       "      <td>0.01</td>\n",
       "      <td>0.18</td>\n",
       "      <td>0.04</td>\n",
       "      <td>0.19</td>\n",
       "      <td>0.05</td>\n",
       "    </tr>\n",
       "    <tr>\n",
       "      <th>rooms</th>\n",
       "      <td>0.19</td>\n",
       "      <td>1.00</td>\n",
       "      <td>0.73</td>\n",
       "      <td>0.62</td>\n",
       "      <td>0.01</td>\n",
       "      <td>0.54</td>\n",
       "      <td>0.08</td>\n",
       "      <td>0.57</td>\n",
       "      <td>0.13</td>\n",
       "    </tr>\n",
       "    <tr>\n",
       "      <th>bathroom</th>\n",
       "      <td>0.23</td>\n",
       "      <td>0.73</td>\n",
       "      <td>1.00</td>\n",
       "      <td>0.70</td>\n",
       "      <td>0.05</td>\n",
       "      <td>0.67</td>\n",
       "      <td>0.11</td>\n",
       "      <td>0.68</td>\n",
       "      <td>0.21</td>\n",
       "    </tr>\n",
       "    <tr>\n",
       "      <th>parking spaces</th>\n",
       "      <td>0.19</td>\n",
       "      <td>0.62</td>\n",
       "      <td>0.70</td>\n",
       "      <td>1.00</td>\n",
       "      <td>0.01</td>\n",
       "      <td>0.58</td>\n",
       "      <td>0.10</td>\n",
       "      <td>0.60</td>\n",
       "      <td>0.15</td>\n",
       "    </tr>\n",
       "    <tr>\n",
       "      <th>hoa (R$)</th>\n",
       "      <td>0.01</td>\n",
       "      <td>0.01</td>\n",
       "      <td>0.05</td>\n",
       "      <td>0.01</td>\n",
       "      <td>1.00</td>\n",
       "      <td>0.04</td>\n",
       "      <td>0.01</td>\n",
       "      <td>0.03</td>\n",
       "      <td>0.96</td>\n",
       "    </tr>\n",
       "    <tr>\n",
       "      <th>rent amount (R$)</th>\n",
       "      <td>0.18</td>\n",
       "      <td>0.54</td>\n",
       "      <td>0.67</td>\n",
       "      <td>0.58</td>\n",
       "      <td>0.04</td>\n",
       "      <td>1.00</td>\n",
       "      <td>0.11</td>\n",
       "      <td>0.99</td>\n",
       "      <td>0.26</td>\n",
       "    </tr>\n",
       "    <tr>\n",
       "      <th>property tax (R$)</th>\n",
       "      <td>0.04</td>\n",
       "      <td>0.08</td>\n",
       "      <td>0.11</td>\n",
       "      <td>0.10</td>\n",
       "      <td>0.01</td>\n",
       "      <td>0.11</td>\n",
       "      <td>1.00</td>\n",
       "      <td>0.11</td>\n",
       "      <td>0.22</td>\n",
       "    </tr>\n",
       "    <tr>\n",
       "      <th>fire insurance (R$)</th>\n",
       "      <td>0.19</td>\n",
       "      <td>0.57</td>\n",
       "      <td>0.68</td>\n",
       "      <td>0.60</td>\n",
       "      <td>0.03</td>\n",
       "      <td>0.99</td>\n",
       "      <td>0.11</td>\n",
       "      <td>1.00</td>\n",
       "      <td>0.25</td>\n",
       "    </tr>\n",
       "    <tr>\n",
       "      <th>total (R$)</th>\n",
       "      <td>0.05</td>\n",
       "      <td>0.13</td>\n",
       "      <td>0.21</td>\n",
       "      <td>0.15</td>\n",
       "      <td>0.96</td>\n",
       "      <td>0.26</td>\n",
       "      <td>0.22</td>\n",
       "      <td>0.25</td>\n",
       "      <td>1.00</td>\n",
       "    </tr>\n",
       "  </tbody>\n",
       "</table>\n",
       "</div>"
      ],
      "text/plain": [
       "                     area  rooms  bathroom  parking spaces  hoa (R$)  \\\n",
       "area                 1.00   0.19      0.23            0.19      0.01   \n",
       "rooms                0.19   1.00      0.73            0.62      0.01   \n",
       "bathroom             0.23   0.73      1.00            0.70      0.05   \n",
       "parking spaces       0.19   0.62      0.70            1.00      0.01   \n",
       "hoa (R$)             0.01   0.01      0.05            0.01      1.00   \n",
       "rent amount (R$)     0.18   0.54      0.67            0.58      0.04   \n",
       "property tax (R$)    0.04   0.08      0.11            0.10      0.01   \n",
       "fire insurance (R$)  0.19   0.57      0.68            0.60      0.03   \n",
       "total (R$)           0.05   0.13      0.21            0.15      0.96   \n",
       "\n",
       "                     rent amount (R$)  property tax (R$)  fire insurance (R$)  \\\n",
       "area                             0.18               0.04                 0.19   \n",
       "rooms                            0.54               0.08                 0.57   \n",
       "bathroom                         0.67               0.11                 0.68   \n",
       "parking spaces                   0.58               0.10                 0.60   \n",
       "hoa (R$)                         0.04               0.01                 0.03   \n",
       "rent amount (R$)                 1.00               0.11                 0.99   \n",
       "property tax (R$)                0.11               1.00                 0.11   \n",
       "fire insurance (R$)              0.99               0.11                 1.00   \n",
       "total (R$)                       0.26               0.22                 0.25   \n",
       "\n",
       "                     total (R$)  \n",
       "area                       0.05  \n",
       "rooms                      0.13  \n",
       "bathroom                   0.21  \n",
       "parking spaces             0.15  \n",
       "hoa (R$)                   0.96  \n",
       "rent amount (R$)           0.26  \n",
       "property tax (R$)          0.22  \n",
       "fire insurance (R$)        0.25  \n",
       "total (R$)                 1.00  "
      ]
     },
     "execution_count": 12,
     "metadata": {},
     "output_type": "execute_result"
    }
   ],
   "source": [
    "df.corr()"
   ]
  },
  {
   "cell_type": "code",
   "execution_count": 13,
   "metadata": {},
   "outputs": [
    {
     "data": {
      "text/plain": [
       "Text(0.5, 1.0, 'Correlation between different fearures')"
      ]
     },
     "execution_count": 13,
     "metadata": {},
     "output_type": "execute_result"
    },
    {
     "data": {
      "image/png": "[encoded data removed]",
      "text/plain": [
       "<Figure size 1440x1440 with 2 Axes>"
      ]
     },
     "metadata": {
      "needs_background": "light"
     },
     "output_type": "display_data"
    }
   ],
   "source": [
    "correlation = df.corr()\n",
    "plt.figure(figsize=(20,20))\n",
    "sns.heatmap(correlation, vmax=1, square=True,annot=True,cmap='cubehelix')\n",
    "\n",
    "plt.title('Correlation between different fearures')"
   ]
  },
  {
   "cell_type": "code",
   "execution_count": 15,
   "metadata": {},
   "outputs": [
    {
     "data": {
      "text/html": [
       "<div>\n",
       "<style scoped>\n",
       "    .dataframe tbody tr th:only-of-type {\n",
       "        vertical-align: middle;\n",
       "    }\n",
       "\n",
       "    .dataframe tbody tr th {\n",
       "        vertical-align: top;\n",
       "    }\n",
       "\n",
       "    .dataframe thead th {\n",
       "        text-align: right;\n",
       "    }\n",
       "</style>\n",
       "<table border=\"1\" class=\"dataframe\">\n",
       "  <thead>\n",
       "    <tr style=\"text-align: right;\">\n",
       "      <th></th>\n",
       "      <th>area</th>\n",
       "      <th>rooms</th>\n",
       "      <th>bathroom</th>\n",
       "      <th>parking spaces</th>\n",
       "      <th>hoa (R$)</th>\n",
       "      <th>property tax (R$)</th>\n",
       "      <th>fire insurance (R$)</th>\n",
       "      <th>total (R$)</th>\n",
       "    </tr>\n",
       "    <tr>\n",
       "      <th>rent amount (R$)</th>\n",
       "      <th></th>\n",
       "      <th></th>\n",
       "      <th></th>\n",
       "      <th></th>\n",
       "      <th></th>\n",
       "      <th></th>\n",
       "      <th></th>\n",
       "      <th></th>\n",
       "    </tr>\n",
       "  </thead>\n",
       "  <tbody>\n",
       "    <tr>\n",
       "      <th>450</th>\n",
       "      <td>22</td>\n",
       "      <td>1</td>\n",
       "      <td>1</td>\n",
       "      <td>0</td>\n",
       "      <td>30</td>\n",
       "      <td>13</td>\n",
       "      <td>6</td>\n",
       "      <td>499</td>\n",
       "    </tr>\n",
       "    <tr>\n",
       "      <th>460</th>\n",
       "      <td>31</td>\n",
       "      <td>1</td>\n",
       "      <td>1</td>\n",
       "      <td>1</td>\n",
       "      <td>550</td>\n",
       "      <td>92</td>\n",
       "      <td>7</td>\n",
       "      <td>1109</td>\n",
       "    </tr>\n",
       "    <tr>\n",
       "      <th>500</th>\n",
       "      <td>1256</td>\n",
       "      <td>34</td>\n",
       "      <td>31</td>\n",
       "      <td>9</td>\n",
       "      <td>10633</td>\n",
       "      <td>792</td>\n",
       "      <td>226</td>\n",
       "      <td>27151</td>\n",
       "    </tr>\n",
       "    <tr>\n",
       "      <th>503</th>\n",
       "      <td>30</td>\n",
       "      <td>1</td>\n",
       "      <td>1</td>\n",
       "      <td>0</td>\n",
       "      <td>336</td>\n",
       "      <td>10</td>\n",
       "      <td>7</td>\n",
       "      <td>856</td>\n",
       "    </tr>\n",
       "    <tr>\n",
       "      <th>505</th>\n",
       "      <td>30</td>\n",
       "      <td>1</td>\n",
       "      <td>1</td>\n",
       "      <td>0</td>\n",
       "      <td>1100</td>\n",
       "      <td>85</td>\n",
       "      <td>7</td>\n",
       "      <td>1697</td>\n",
       "    </tr>\n",
       "    <tr>\n",
       "      <th>...</th>\n",
       "      <td>...</td>\n",
       "      <td>...</td>\n",
       "      <td>...</td>\n",
       "      <td>...</td>\n",
       "      <td>...</td>\n",
       "      <td>...</td>\n",
       "      <td>...</td>\n",
       "      <td>...</td>\n",
       "    </tr>\n",
       "    <tr>\n",
       "      <th>20000</th>\n",
       "      <td>2570</td>\n",
       "      <td>18</td>\n",
       "      <td>24</td>\n",
       "      <td>24</td>\n",
       "      <td>209100</td>\n",
       "      <td>8356</td>\n",
       "      <td>1317</td>\n",
       "      <td>318770</td>\n",
       "    </tr>\n",
       "    <tr>\n",
       "      <th>24000</th>\n",
       "      <td>80</td>\n",
       "      <td>2</td>\n",
       "      <td>1</td>\n",
       "      <td>1</td>\n",
       "      <td>875</td>\n",
       "      <td>0</td>\n",
       "      <td>305</td>\n",
       "      <td>25180</td>\n",
       "    </tr>\n",
       "    <tr>\n",
       "      <th>25000</th>\n",
       "      <td>486</td>\n",
       "      <td>8</td>\n",
       "      <td>4</td>\n",
       "      <td>6</td>\n",
       "      <td>0</td>\n",
       "      <td>2200</td>\n",
       "      <td>376</td>\n",
       "      <td>27580</td>\n",
       "    </tr>\n",
       "    <tr>\n",
       "      <th>30000</th>\n",
       "      <td>350</td>\n",
       "      <td>3</td>\n",
       "      <td>3</td>\n",
       "      <td>3</td>\n",
       "      <td>0</td>\n",
       "      <td>560</td>\n",
       "      <td>451</td>\n",
       "      <td>31010</td>\n",
       "    </tr>\n",
       "    <tr>\n",
       "      <th>45000</th>\n",
       "      <td>700</td>\n",
       "      <td>4</td>\n",
       "      <td>7</td>\n",
       "      <td>8</td>\n",
       "      <td>0</td>\n",
       "      <td>8750</td>\n",
       "      <td>677</td>\n",
       "      <td>54430</td>\n",
       "    </tr>\n",
       "  </tbody>\n",
       "</table>\n",
       "<p>1195 rows × 8 columns</p>\n",
       "</div>"
      ],
      "text/plain": [
       "                  area  rooms  bathroom  parking spaces  hoa (R$)  \\\n",
       "rent amount (R$)                                                    \n",
       "450                 22      1         1               0        30   \n",
       "460                 31      1         1               1       550   \n",
       "500               1256     34        31               9     10633   \n",
       "503                 30      1         1               0       336   \n",
       "505                 30      1         1               0      1100   \n",
       "...                ...    ...       ...             ...       ...   \n",
       "20000             2570     18        24              24    209100   \n",
       "24000               80      2         1               1       875   \n",
       "25000              486      8         4               6         0   \n",
       "30000              350      3         3               3         0   \n",
       "45000              700      4         7               8         0   \n",
       "\n",
       "                  property tax (R$)  fire insurance (R$)  total (R$)  \n",
       "rent amount (R$)                                                      \n",
       "450                              13                    6         499  \n",
       "460                              92                    7        1109  \n",
       "500                             792                  226       27151  \n",
       "503                              10                    7         856  \n",
       "505                              85                    7        1697  \n",
       "...                             ...                  ...         ...  \n",
       "20000                          8356                 1317      318770  \n",
       "24000                             0                  305       25180  \n",
       "25000                          2200                  376       27580  \n",
       "30000                           560                  451       31010  \n",
       "45000                          8750                  677       54430  \n",
       "\n",
       "[1195 rows x 8 columns]"
      ]
     },
     "execution_count": 15,
     "metadata": {},
     "output_type": "execute_result"
    }
   ],
   "source": [
    "price=df.groupby('rent amount (R$)').sum()\n",
    "price"
   ]
  },
  {
   "cell_type": "code",
   "execution_count": 17,
   "metadata": {},
   "outputs": [
    {
     "data": {
      "text/plain": [
       "array([ 3300,  4960,  2800, ..., 10140,  7521,  1478])"
      ]
     },
     "execution_count": 17,
     "metadata": {},
     "output_type": "execute_result"
    }
   ],
   "source": [
    "uniquePrice = df['rent amount (R$)'].unique()\n",
    "uniquePrice"
   ]
  },
  {
   "cell_type": "code",
   "execution_count": 83,
   "metadata": {},
   "outputs": [
    {
     "data": {
      "text/plain": [
       "array([[   1,    1,  211,   70,    2],\n",
       "       [   4,    0, 1750,  320,    4],\n",
       "       [   1,    1,    0,   80,    1],\n",
       "       ...,\n",
       "       [   3,    0,  332,   70,    3],\n",
       "       [   2,    2,  279,  120,    2],\n",
       "       [   1,    0,  165,   80,    2]])"
      ]
     },
     "execution_count": 83,
     "metadata": {},
     "output_type": "execute_result"
    }
   ],
   "source": [
    "# get the features\n",
    "features = [\"bathroom\", \"parking spaces\", \"property tax (R$)\", \"area\", \"rooms\"]\n",
    "x  = df.loc[:, features].values\n",
    "x"
   ]
  },
  {
   "cell_type": "code",
   "execution_count": 44,
   "metadata": {},
   "outputs": [
    {
     "data": {
      "text/plain": [
       "array([ 3300,  4960,  2800, ...,  6000, 12000,  1400])"
      ]
     },
     "execution_count": 44,
     "metadata": {},
     "output_type": "execute_result"
    }
   ],
   "source": [
    "y = df.loc[:, \"rent amount (R$)\"].values\n",
    "y"
   ]
  },
  {
   "cell_type": "code",
   "execution_count": 84,
   "metadata": {},
   "outputs": [
    {
     "name": "stdout",
     "output_type": "stream",
     "text": [
      "<class 'numpy.ndarray'>\n"
     ]
    },
    {
     "data": {
      "text/plain": [
       "array([[-0.87895963, -0.38324478, -0.05010297, -0.14752165, -0.432099  ],\n",
       "       [ 1.25303592, -1.01239465,  0.44512065,  0.31803478,  1.27553453],\n",
       "       [-0.87895963, -0.38324478, -0.11799913, -0.12889939, -1.28591577],\n",
       "       ...,\n",
       "       [ 0.54237074, -1.01239465, -0.01116726, -0.14752165,  0.42171777],\n",
       "       [-0.16829445,  0.2459051 , -0.02822175, -0.05441036, -0.432099  ],\n",
       "       [-0.87895963, -1.01239465, -0.06490498, -0.12889939, -0.432099  ]])"
      ]
     },
     "execution_count": 84,
     "metadata": {},
     "output_type": "execute_result"
    }
   ],
   "source": [
    "# Standardize the features\n",
    "from sklearn.preprocessing import StandardScaler\n",
    "X_std = StandardScaler().fit_transform(x)\n",
    "print(type(X_std))\n",
    "X_std"
   ]
  },
  {
   "cell_type": "markdown",
   "metadata": {},
   "source": [
    "# compute the eigenvectors and eigenvalues"
   ]
  },
  {
   "cell_type": "code",
   "execution_count": 85,
   "metadata": {},
   "outputs": [
    {
     "name": "stdout",
     "output_type": "stream",
     "text": [
      "X_std:  [[-0.87895963 -0.38324478 -0.05010297 -0.14752165 -0.432099  ]\n",
      " [ 1.25303592 -1.01239465  0.44512065  0.31803478  1.27553453]\n",
      " [-0.87895963 -0.38324478 -0.11799913 -0.12889939 -1.28591577]\n",
      " ...\n",
      " [ 0.54237074 -1.01239465 -0.01116726 -0.14752165  0.42171777]\n",
      " [-0.16829445  0.2459051  -0.02822175 -0.05441036 -0.432099  ]\n",
      " [-0.87895963 -1.01239465 -0.06490498 -0.12889939 -0.432099  ]]\n"
     ]
    }
   ],
   "source": [
    "print(\"X_std: \", X_std)\n",
    "# matrix = X_std - mean_vec\n",
    "# print(matrix)"
   ]
  },
  {
   "cell_type": "code",
   "execution_count": 86,
   "metadata": {},
   "outputs": [
    {
     "name": "stdout",
     "output_type": "stream",
     "text": [
      "Covariance matrix \n",
      "[[1.00009354 0.69744405 0.10926343 0.22678683 0.73383213]\n",
      " [0.69744405 1.00009354 0.09838686 0.1940015  0.61756737]\n",
      " [0.10926343 0.09838686 1.00009354 0.03906218 0.07525946]\n",
      " [0.22678683 0.1940015  0.03906218 1.00009354 0.19381439]\n",
      " [0.73383213 0.61756737 0.07525946 0.19381439 1.00009354]]\n"
     ]
    }
   ],
   "source": [
    "# Compute the covariance matrix\n",
    "mean_vec = np.mean(X_std, axis=0)\n",
    "cov_mat = (X_std - mean_vec).T.dot((X_std - mean_vec)) / (X_std.shape[0]-1)\n",
    "print('Covariance matrix \\n%s' %cov_mat)\n"
   ]
  },
  {
   "cell_type": "code",
   "execution_count": 47,
   "metadata": {},
   "outputs": [
    {
     "name": "stdout",
     "output_type": "stream",
     "text": [
      "NumPy covariance matrix: \n",
      "[[1.00009354 0.73383213 0.61756737 0.07525946 0.19381439 1.00009354]\n",
      " [0.73383213 1.00009354 0.69744405 0.10926343 0.22678683 0.73383213]\n",
      " [0.61756737 0.69744405 1.00009354 0.09838686 0.1940015  0.61756737]\n",
      " [0.07525946 0.10926343 0.09838686 1.00009354 0.03906218 0.07525946]\n",
      " [0.19381439 0.22678683 0.1940015  0.03906218 1.00009354 0.19381439]\n",
      " [1.00009354 0.73383213 0.61756737 0.07525946 0.19381439 1.00009354]]\n"
     ]
    }
   ],
   "source": [
    "# A shortcut way to calculate the covariance matrix\n",
    "print('NumPy covariance matrix: \\n%s' %np.cov(X_std.T))  # Why do we need to standardize the values before calculating the covariance matrix?"
   ]
  },
  {
   "cell_type": "code",
   "execution_count": 48,
   "metadata": {},
   "outputs": [
    {
     "data": {
      "text/plain": [
       "Text(0.5, 1.0, 'Correlation between different features')"
      ]
     },
     "execution_count": 48,
     "metadata": {},
     "output_type": "execute_result"
    },
    {
     "data": {
      "image/png": "[encoded data removed]",
      "text/plain": [
       "<Figure size 576x576 with 2 Axes>"
      ]
     },
     "metadata": {
      "needs_background": "light"
     },
     "output_type": "display_data"
    }
   ],
   "source": [
    "plt.figure(figsize=(8,8))\n",
    "sns.heatmap(cov_mat, vmax=1, square=True,annot=True,cmap='cubehelix')\n",
    "\n",
    "plt.title('Correlation between different features')"
   ]
  },
  {
   "cell_type": "code",
   "execution_count": 93,
   "metadata": {},
   "outputs": [
    {
     "name": "stdout",
     "output_type": "stream",
     "text": [
      "Eigenvectors \n",
      "[[ 5.76576224e-01  7.98011851e-01  1.18522486e-01 -1.19213812e-01\n",
      "  -4.97737930e-02]\n",
      " [ 5.42895699e-01 -3.02398925e-01 -7.68840641e-01 -1.42605403e-01\n",
      "  -4.86509824e-02]\n",
      " [ 1.13464183e-01 -2.28725237e-02  2.51530469e-02  6.09779453e-03\n",
      "   9.92941523e-01]\n",
      " [ 2.35853745e-01 -2.73743299e-02 -6.39459622e-04  9.70823956e-01\n",
      "  -3.35275265e-02]\n",
      " [ 5.51654790e-01 -5.20057179e-01  6.27856197e-01 -1.51378433e-01\n",
      "  -8.99927137e-02]]\n",
      "\n",
      "Eigenvalues \n",
      "[2.47318132 0.24666079 0.38519761 0.91377211 0.98165586]\n"
     ]
    }
   ],
   "source": [
    "eig_vals, eig_vecs = np.linalg.eig(cov_mat)\n",
    "\n",
    "print('Eigenvectors \\n%s' %eig_vecs)\n",
    "print('\\nEigenvalues \\n%s' %eig_vals)"
   ]
  },
  {
   "cell_type": "code",
   "execution_count": 89,
   "metadata": {},
   "outputs": [
    {
     "name": "stdout",
     "output_type": "stream",
     "text": [
      "Eigenvalues in descending order:\n",
      "2.4731813175661306\n",
      "0.9816558607688712\n",
      "0.913772108254275\n",
      "0.3851976101437699\n",
      "0.2466607863648812\n"
     ]
    }
   ],
   "source": [
    "# Make a list of (eigenvalue, eigenvector) tuples\n",
    "eig_pairs = [(np.abs(eig_vals[i]), eig_vecs[:,i]) for i in range(len(eig_vals))]\n",
    "\n",
    "# Sort the (eigenvalue, eigenvector) tuples from high to low\n",
    "eig_pairs.sort(key=lambda x: x[0], reverse=True)\n",
    "\n",
    "# Visually confirm that the list is correctly sorted by decreasing eigenvalues\n",
    "print('Eigenvalues in descending order:')\n",
    "for i in eig_pairs:\n",
    "    print(i[0])"
   ]
  },
  {
   "cell_type": "code",
   "execution_count": 90,
   "metadata": {},
   "outputs": [
    {
     "data": {
      "text/plain": [
       "[49.45900012364296,\n",
       " 19.631280971717196,\n",
       " 18.273732901882646,\n",
       " 7.7032316686252305,\n",
       " 4.932754334131963]"
      ]
     },
     "execution_count": 90,
     "metadata": {},
     "output_type": "execute_result"
    }
   ],
   "source": [
    "tot = sum(eig_vals)\n",
    "var_exp = [(i / tot)*100 for i in sorted(eig_vals, reverse=True)]\n",
    "var_exp"
   ]
  },
  {
   "cell_type": "code",
   "execution_count": 92,
   "metadata": {},
   "outputs": [
    {
     "data": {
      "image/png": "[encoded data removed]",
      "text/plain": [
       "<Figure size 432x288 with 1 Axes>"
      ]
     },
     "metadata": {},
     "output_type": "display_data"
    }
   ],
   "source": [
    "with plt.style.context('dark_background'):\n",
    "    plt.figure(figsize=(6, 4))\n",
    "\n",
    "    plt.bar(range(5), var_exp, alpha=0.5, align='center',\n",
    "            label='individual explained variance')\n",
    "    plt.ylabel('Explained variance ratio')\n",
    "    plt.xlabel('Principal components')\n",
    "    plt.legend(loc='best')\n",
    "    plt.tight_layout()\n"
   ]
  },
  {
   "cell_type": "markdown",
   "metadata": {},
   "source": [
    "# PCA With Sci Kit learn"
   ]
  },
  {
   "cell_type": "code",
   "execution_count": 53,
   "metadata": {},
   "outputs": [
    {
     "data": {
      "text/plain": [
       "Text(0, 0.5, 'Cumulative explained variance')"
      ]
     },
     "execution_count": 53,
     "metadata": {},
     "output_type": "execute_result"
    },
    {
     "data": {
      "image/png": "[encoded data removed]",
      "text/plain": [
       "<Figure size 432x288 with 1 Axes>"
      ]
     },
     "metadata": {
      "needs_background": "light"
     },
     "output_type": "display_data"
    }
   ],
   "source": [
    "from sklearn.decomposition import PCA\n",
    "pca = PCA().fit(X_std)\n",
    "plt.plot(np.cumsum(pca.explained_variance_ratio_))\n",
    "plt.xlim(0,7,1)\n",
    "plt.xlabel('Number of components')\n",
    "plt.ylabel('Cumulative explained variance')"
   ]
  },
  {
   "cell_type": "code",
   "execution_count": 54,
   "metadata": {},
   "outputs": [
    {
     "data": {
      "text/plain": [
       "array([[-1.07142691,  0.01930509,  0.01227282],\n",
       "       [ 1.56593096,  0.22343123, -0.07128999],\n",
       "       [-1.95452363,  0.12332546,  0.23985223],\n",
       "       ...,\n",
       "       [ 0.22343347, -0.12326876, -0.21697768],\n",
       "       [-0.43026863,  0.05025467,  0.04837669],\n",
       "       [-1.34792844,  0.0069384 ,  0.058057  ]])"
      ]
     },
     "execution_count": 54,
     "metadata": {},
     "output_type": "execute_result"
    }
   ],
   "source": [
    "from sklearn.decomposition import PCA \n",
    "sklearn_pca = PCA(n_components=3)\n",
    "Y_sklearn = sklearn_pca.fit_transform(X_std)\n",
    "Y_sklearn\n"
   ]
  },
  {
   "cell_type": "code",
   "execution_count": 55,
   "metadata": {},
   "outputs": [
    {
     "data": {
      "text/plain": [
       "(10692, 3)"
      ]
     },
     "execution_count": 55,
     "metadata": {},
     "output_type": "execute_result"
    }
   ],
   "source": [
    "Y_sklearn.shape"
   ]
  },
  {
   "cell_type": "markdown",
   "metadata": {},
   "source": [
    "# Train the model with random forest"
   ]
  },
  {
   "cell_type": "code",
   "execution_count": 56,
   "metadata": {},
   "outputs": [
    {
     "data": {
      "text/plain": [
       "(8553, 6)"
      ]
     },
     "execution_count": 56,
     "metadata": {},
     "output_type": "execute_result"
    }
   ],
   "source": [
    "from sklearn.model_selection import train_test_split\n",
    "X_train, X_test, y_train, y_test = train_test_split(X_std, y, test_size=0.2, random_state=1)\n",
    "X_train.shape"
   ]
  },
  {
   "cell_type": "code",
   "execution_count": 57,
   "metadata": {},
   "outputs": [],
   "source": [
    "# Establish model\n",
    "from sklearn.ensemble import RandomForestRegressor\n",
    "model = RandomForestRegressor()\n"
   ]
  },
  {
   "cell_type": "code",
   "execution_count": 58,
   "metadata": {},
   "outputs": [
    {
     "name": "stdout",
     "output_type": "stream",
     "text": [
      "[0.5107441514704607, 0.5298000666266456, 0.5351592459234282, 0.5325471874815084, 0.534494165023156, 0.5406775492827819, 0.5364216649189165, 0.536934452116623, 0.5337539003600433, 0.5353949311851252, 0.537873228908176, 0.5402384230468757, 0.5417030263490777, 0.5387904560426888, 0.5400920936791567, 0.538988018977977, 0.536467536638958, 0.5395478313558296, 0.5404986829149421]\n"
     ]
    }
   ],
   "source": [
    "# Try different numbers of n_estimators - this will take a minute or so\n",
    "estimators = np.arange(10, 200, 10)\n",
    "scores = []\n",
    "for n in estimators:\n",
    "    model.set_params(n_estimators=n)\n",
    "    model.fit(X_train, y_train)\n",
    "    scores.append(model.score(X_test, y_test))\n",
    "print(scores)    "
   ]
  },
  {
   "cell_type": "code",
   "execution_count": 59,
   "metadata": {},
   "outputs": [
    {
     "data": {
      "text/plain": [
       "[<matplotlib.lines.Line2D at 0x7f3e19e51520>]"
      ]
     },
     "execution_count": 59,
     "metadata": {},
     "output_type": "execute_result"
    },
    {
     "data": {
      "image/png": "[encoded data removed]",
      "text/plain": [
       "<Figure size 432x288 with 1 Axes>"
      ]
     },
     "metadata": {
      "needs_background": "light"
     },
     "output_type": "display_data"
    }
   ],
   "source": [
    "plt.title(\"Effect of n_estimators\")\n",
    "plt.xlabel(\"n_estimator\")\n",
    "plt.ylabel(\"score\")\n",
    "plt.plot(estimators, scores)"
   ]
  },
  {
   "cell_type": "code",
   "execution_count": null,
   "metadata": {},
   "outputs": [],
   "source": []
  }
 ],
 "metadata": {
  "kernelspec": {
   "display_name": "Python 3",
   "language": "python",
   "name": "python3"
  },
  "language_info": {
   "codemirror_mode": {
    "name": "ipython",
    "version": 3
   },
   "file_extension": ".py",
   "mimetype": "text/x-python",
   "name": "python",
   "nbconvert_exporter": "python",
   "pygments_lexer": "ipython3",
   "version": "3.8.3"
  }
 },
 "nbformat": 4,
 "nbformat_minor": 4
}
